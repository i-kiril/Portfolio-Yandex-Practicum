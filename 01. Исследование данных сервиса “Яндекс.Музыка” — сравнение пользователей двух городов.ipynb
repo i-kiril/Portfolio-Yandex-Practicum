{
 "cells": [
  {
   "cell_type": "markdown",
   "metadata": {
    "id": "E0vqbgi9ay0H"
   },
   "source": [
    "# Яндекс.Музыка"
   ]
  },
  {
   "cell_type": "markdown",
   "metadata": {
    "id": "VUC88oWjTJw2"
   },
   "source": [
    "Сравнение Москвы и Петербурга окружено мифами. Например:\n",
    " * Москва — мегаполис, подчинённый жёсткому ритму рабочей недели;\n",
    " * Петербург — культурная столица, со своими вкусами.\n",
    "\n",
    "На данных Яндекс.Музыки вы сравните поведение пользователей двух столиц.\n",
    "\n",
    "**Цель исследования** — проверьте три гипотезы:\n",
    "1. Активность пользователей зависит от дня недели. Причём в Москве и Петербурге это проявляется по-разному.\n",
    "2. В понедельник утром в Москве преобладают одни жанры, а в Петербурге — другие. Так же и вечером пятницы преобладают разные жанры — в зависимости от города. \n",
    "3. Москва и Петербург предпочитают разные жанры музыки. В Москве чаще слушают поп-музыку, в Петербурге — русский рэп.\n",
    "\n",
    "**Ход исследования**\n",
    "\n",
    "Данные о поведении пользователей вы получите из файла `yandex_music_project.csv`. О качестве данных ничего не известно. Поэтому перед проверкой гипотез понадобится обзор данных. \n",
    "\n",
    "Вы проверите данные на ошибки и оцените их влияние на исследование. Затем, на этапе предобработки вы поищете возможность исправить самые критичные ошибки данных.\n",
    " \n",
    "Таким образом, исследование пройдёт в три этапа:\n",
    " 1. Обзор данных.\n",
    " 2. Предобработка данных.\n",
    " 3. Проверка гипотез.\n",
    "\n"
   ]
  },
  {
   "cell_type": "markdown",
   "metadata": {
    "id": "Ml1hmfXC_Zcs"
   },
   "source": [
    "## Обзор данных\n",
    "\n",
    "Составьте первое представление о данных Яндекс.Музыки.\n",
    "\n",
    "\n"
   ]
  },
  {
   "cell_type": "markdown",
   "metadata": {
    "id": "57eAOGIz_Zcs"
   },
   "source": [
    "Основной инструмент аналитика — `pandas`. Импортируйте эту библиотеку."
   ]
  },
  {
   "cell_type": "code",
   "execution_count": 1,
   "metadata": {
    "id": "AXN7PHPN_Zcs"
   },
   "outputs": [],
   "source": [
    "import pandas as pd # импорт библиотеки pandas"
   ]
  },
  {
   "cell_type": "markdown",
   "metadata": {
    "id": "SG23P8tt_Zcs"
   },
   "source": [
    "Прочитайте файл `yandex_music_project.csv` из папки `/datasets` и сохраните его в переменной `df`:"
   ]
  },
  {
   "cell_type": "code",
   "execution_count": 2,
   "metadata": {
    "id": "fFVu7vqh_Zct"
   },
   "outputs": [],
   "source": [
    "df = pd.read_csv('/datasets/yandex_music_project.csv') # Прочитайте файл yandex_music_project.csv из папки /datasets и сохраните его в переменной df"
   ]
  },
  {
   "cell_type": "code",
   "execution_count": 3,
   "metadata": {
    "id": "oWTVX3gW_Zct",
    "scrolled": true
   },
   "outputs": [
    {
     "data": {
      "text/html": [
       "<div>\n",
       "<style scoped>\n",
       "    .dataframe tbody tr th:only-of-type {\n",
       "        vertical-align: middle;\n",
       "    }\n",
       "\n",
       "    .dataframe tbody tr th {\n",
       "        vertical-align: top;\n",
       "    }\n",
       "\n",
       "    .dataframe thead th {\n",
       "        text-align: right;\n",
       "    }\n",
       "</style>\n",
       "<table border=\"1\" class=\"dataframe\">\n",
       "  <thead>\n",
       "    <tr style=\"text-align: right;\">\n",
       "      <th></th>\n",
       "      <th>userID</th>\n",
       "      <th>Track</th>\n",
       "      <th>artist</th>\n",
       "      <th>genre</th>\n",
       "      <th>City</th>\n",
       "      <th>time</th>\n",
       "      <th>Day</th>\n",
       "    </tr>\n",
       "  </thead>\n",
       "  <tbody>\n",
       "    <tr>\n",
       "      <th>0</th>\n",
       "      <td>FFB692EC</td>\n",
       "      <td>Kamigata To Boots</td>\n",
       "      <td>The Mass Missile</td>\n",
       "      <td>rock</td>\n",
       "      <td>Saint-Petersburg</td>\n",
       "      <td>20:28:33</td>\n",
       "      <td>Wednesday</td>\n",
       "    </tr>\n",
       "    <tr>\n",
       "      <th>1</th>\n",
       "      <td>55204538</td>\n",
       "      <td>Delayed Because of Accident</td>\n",
       "      <td>Andreas Rönnberg</td>\n",
       "      <td>rock</td>\n",
       "      <td>Moscow</td>\n",
       "      <td>14:07:09</td>\n",
       "      <td>Friday</td>\n",
       "    </tr>\n",
       "    <tr>\n",
       "      <th>2</th>\n",
       "      <td>20EC38</td>\n",
       "      <td>Funiculì funiculà</td>\n",
       "      <td>Mario Lanza</td>\n",
       "      <td>pop</td>\n",
       "      <td>Saint-Petersburg</td>\n",
       "      <td>20:58:07</td>\n",
       "      <td>Wednesday</td>\n",
       "    </tr>\n",
       "    <tr>\n",
       "      <th>3</th>\n",
       "      <td>A3DD03C9</td>\n",
       "      <td>Dragons in the Sunset</td>\n",
       "      <td>Fire + Ice</td>\n",
       "      <td>folk</td>\n",
       "      <td>Saint-Petersburg</td>\n",
       "      <td>08:37:09</td>\n",
       "      <td>Monday</td>\n",
       "    </tr>\n",
       "    <tr>\n",
       "      <th>4</th>\n",
       "      <td>E2DC1FAE</td>\n",
       "      <td>Soul People</td>\n",
       "      <td>Space Echo</td>\n",
       "      <td>dance</td>\n",
       "      <td>Moscow</td>\n",
       "      <td>08:34:34</td>\n",
       "      <td>Monday</td>\n",
       "    </tr>\n",
       "    <tr>\n",
       "      <th>5</th>\n",
       "      <td>842029A1</td>\n",
       "      <td>Преданная</td>\n",
       "      <td>IMPERVTOR</td>\n",
       "      <td>rusrap</td>\n",
       "      <td>Saint-Petersburg</td>\n",
       "      <td>13:09:41</td>\n",
       "      <td>Friday</td>\n",
       "    </tr>\n",
       "    <tr>\n",
       "      <th>6</th>\n",
       "      <td>4CB90AA5</td>\n",
       "      <td>True</td>\n",
       "      <td>Roman Messer</td>\n",
       "      <td>dance</td>\n",
       "      <td>Moscow</td>\n",
       "      <td>13:00:07</td>\n",
       "      <td>Wednesday</td>\n",
       "    </tr>\n",
       "    <tr>\n",
       "      <th>7</th>\n",
       "      <td>F03E1C1F</td>\n",
       "      <td>Feeling This Way</td>\n",
       "      <td>Polina Griffith</td>\n",
       "      <td>dance</td>\n",
       "      <td>Moscow</td>\n",
       "      <td>20:47:49</td>\n",
       "      <td>Wednesday</td>\n",
       "    </tr>\n",
       "    <tr>\n",
       "      <th>8</th>\n",
       "      <td>8FA1D3BE</td>\n",
       "      <td>И вновь продолжается бой</td>\n",
       "      <td>NaN</td>\n",
       "      <td>ruspop</td>\n",
       "      <td>Moscow</td>\n",
       "      <td>09:17:40</td>\n",
       "      <td>Friday</td>\n",
       "    </tr>\n",
       "    <tr>\n",
       "      <th>9</th>\n",
       "      <td>E772D5C0</td>\n",
       "      <td>Pessimist</td>\n",
       "      <td>NaN</td>\n",
       "      <td>dance</td>\n",
       "      <td>Saint-Petersburg</td>\n",
       "      <td>21:20:49</td>\n",
       "      <td>Wednesday</td>\n",
       "    </tr>\n",
       "  </tbody>\n",
       "</table>\n",
       "</div>"
      ],
      "text/plain": [
       "     userID                        Track            artist   genre  \\\n",
       "0  FFB692EC            Kamigata To Boots  The Mass Missile    rock   \n",
       "1  55204538  Delayed Because of Accident  Andreas Rönnberg    rock   \n",
       "2    20EC38            Funiculì funiculà       Mario Lanza     pop   \n",
       "3  A3DD03C9        Dragons in the Sunset        Fire + Ice    folk   \n",
       "4  E2DC1FAE                  Soul People        Space Echo   dance   \n",
       "5  842029A1                    Преданная         IMPERVTOR  rusrap   \n",
       "6  4CB90AA5                         True      Roman Messer   dance   \n",
       "7  F03E1C1F             Feeling This Way   Polina Griffith   dance   \n",
       "8  8FA1D3BE     И вновь продолжается бой               NaN  ruspop   \n",
       "9  E772D5C0                    Pessimist               NaN   dance   \n",
       "\n",
       "             City        time        Day  \n",
       "0  Saint-Petersburg  20:28:33  Wednesday  \n",
       "1            Moscow  14:07:09     Friday  \n",
       "2  Saint-Petersburg  20:58:07  Wednesday  \n",
       "3  Saint-Petersburg  08:37:09     Monday  \n",
       "4            Moscow  08:34:34     Monday  \n",
       "5  Saint-Petersburg  13:09:41     Friday  \n",
       "6            Moscow  13:00:07  Wednesday  \n",
       "7            Moscow  20:47:49  Wednesday  \n",
       "8            Moscow  09:17:40     Friday  \n",
       "9  Saint-Petersburg  21:20:49  Wednesday  "
      ]
     },
     "execution_count": 3,
     "metadata": {},
     "output_type": "execute_result"
    }
   ],
   "source": [
    "df.head(10)# получение первых 10 строк таблицы df"
   ]
  },
  {
   "cell_type": "markdown",
   "metadata": {
    "id": "EO73Kwic_Zct"
   },
   "source": [
    "Одной командой получить общую информацию о таблице:"
   ]
  },
  {
   "cell_type": "code",
   "execution_count": 4,
   "metadata": {
    "id": "DSf2kIb-_Zct"
   },
   "outputs": [
    {
     "name": "stdout",
     "output_type": "stream",
     "text": [
      "<class 'pandas.core.frame.DataFrame'>\n",
      "RangeIndex: 65079 entries, 0 to 65078\n",
      "Data columns (total 7 columns):\n",
      " #   Column    Non-Null Count  Dtype \n",
      "---  ------    --------------  ----- \n",
      " 0     userID  65079 non-null  object\n",
      " 1   Track     63848 non-null  object\n",
      " 2   artist    57876 non-null  object\n",
      " 3   genre     63881 non-null  object\n",
      " 4     City    65079 non-null  object\n",
      " 5   time      65079 non-null  object\n",
      " 6   Day       65079 non-null  object\n",
      "dtypes: object(7)\n",
      "memory usage: 3.5+ MB\n"
     ]
    }
   ],
   "source": [
    "df.info() # получение общей информации о данных в таблице df"
   ]
  },
  {
   "cell_type": "markdown",
   "metadata": {
    "id": "TaQ2Iwbr_Zct"
   },
   "source": [
    "Итак, в таблице семь столбцов. Тип данных во всех столбцах — `object`.\n",
    "\n",
    "Согласно документации к данным:\n",
    "* `userID` — идентификатор пользователя;\n",
    "* `Track` — название трека;  \n",
    "* `artist` — имя исполнителя;\n",
    "* `genre` — название жанра;\n",
    "* `City` — город пользователя;\n",
    "* `time` — время начала прослушивания;\n",
    "* `Day` — день недели.\n",
    "\n",
    "В названиях колонок видны три нарушения стиля:\n",
    "1. Строчные буквы сочетаются с прописными.\n",
    "2. Встречаются пробелы.\n",
    "3. Название столбца 'userID' нужно разделить на два слова используя змеинный регистр. \n",
    "\n",
    "\n",
    "\n",
    "Количество значений в столбцах различается. Значит, в данных есть пропущенные значения.\n"
   ]
  },
  {
   "cell_type": "markdown",
   "metadata": {
    "id": "MCB6-dXG_Zct"
   },
   "source": [
    "**Выводы**\n",
    "\n",
    "В каждой строке таблицы — данные о прослушанном треке. Часть колонок описывает саму композицию: название, исполнителя и жанр. Остальные данные рассказывают о пользователе: из какого он города, когда он слушал музыку. \n",
    "\n",
    "Предварительно можно утверждать, что, данных достаточно для проверки гипотез. Но встречаются пропуски в данных, а в названиях колонок — расхождения с хорошим стилем.\n",
    "\n",
    "Чтобы двигаться дальше, нужно устранить проблемы в данных."
   ]
  },
  {
   "cell_type": "markdown",
   "metadata": {
    "id": "SjYF6Ub9_Zct"
   },
   "source": [
    "## Предобработка данных\n",
    "Исправьте стиль в заголовках столбцов, исключите пропуски. Затем проверьте данные на дубликаты."
   ]
  },
  {
   "cell_type": "markdown",
   "metadata": {
    "id": "dIaKXr29_Zct"
   },
   "source": [
    "### Стиль заголовков\n",
    "Выведите на экран названия столбцов:"
   ]
  },
  {
   "cell_type": "code",
   "execution_count": 5,
   "metadata": {
    "id": "oKOTdF_Q_Zct"
   },
   "outputs": [
    {
     "data": {
      "text/plain": [
       "Index(['  userID', 'Track', 'artist', 'genre', '  City  ', 'time', 'Day'], dtype='object')"
      ]
     },
     "execution_count": 5,
     "metadata": {},
     "output_type": "execute_result"
    }
   ],
   "source": [
    "df.columns # перечень названий столбцов таблицы df"
   ]
  },
  {
   "cell_type": "markdown",
   "metadata": {
    "id": "zj5534cv_Zct"
   },
   "source": [
    "Приведите названия в соответствие с хорошим стилем:\n",
    "* несколько слов в названии запишите в «змеином_регистре»,\n",
    "* все символы сделайте строчными,\n",
    "* устраните пробелы.\n",
    "\n",
    "Для этого переименуйте колонки так:\n",
    "* `'  userID'` → `'user_id'`;\n",
    "* `'Track'` → `'track'`;\n",
    "* `'  City  '` → `'city'`;\n",
    "* `'Day'` → `'day'`."
   ]
  },
  {
   "cell_type": "code",
   "execution_count": 6,
   "metadata": {
    "id": "ISlFqs5y_Zct"
   },
   "outputs": [],
   "source": [
    "df = df.rename(columns={'  userID': 'user_id', 'Track': 'track', '  City  ':'city' ,'Day': 'day'}) # переименование столбцов"
   ]
  },
  {
   "cell_type": "markdown",
   "metadata": {
    "id": "1dqbh00J_Zct"
   },
   "source": [
    "Проверьте результат. Для этого ещё раз выведите на экран названия столбцов:"
   ]
  },
  {
   "cell_type": "code",
   "execution_count": 7,
   "metadata": {
    "id": "d4NOAmTW_Zct"
   },
   "outputs": [
    {
     "data": {
      "text/plain": [
       "Index(['user_id', 'track', 'artist', 'genre', 'city', 'time', 'day'], dtype='object')"
      ]
     },
     "execution_count": 7,
     "metadata": {},
     "output_type": "execute_result"
    }
   ],
   "source": [
    "df.columns # проверка результатов - перечень названий столбцов"
   ]
  },
  {
   "cell_type": "markdown",
   "metadata": {
    "id": "5ISfbcfY_Zct"
   },
   "source": [
    "### Пропуски значений\n",
    "Сначала посчитайте, сколько в таблице пропущенных значений. Для этого достаточно двух методов `pandas`:"
   ]
  },
  {
   "cell_type": "code",
   "execution_count": 8,
   "metadata": {
    "id": "RskX29qr_Zct"
   },
   "outputs": [
    {
     "data": {
      "text/plain": [
       "user_id       0\n",
       "track      1231\n",
       "artist     7203\n",
       "genre      1198\n",
       "city          0\n",
       "time          0\n",
       "day           0\n",
       "dtype: int64"
      ]
     },
     "execution_count": 8,
     "metadata": {},
     "output_type": "execute_result"
    }
   ],
   "source": [
    "df.isna().sum() # подсчёт пропусков"
   ]
  },
  {
   "cell_type": "markdown",
   "metadata": {
    "id": "qubhgnlO_Zct"
   },
   "source": [
    "Не все пропущенные значения влияют на исследование. Так в `track` и `artist` пропуски не важны для вашей работы. Достаточно заменить их явными обозначениями.\n",
    "\n",
    "Но пропуски в `genre` могут помешать сравнению музыкальных вкусов в Москве и Санкт-Петербурге. На практике было бы правильно установить причину пропусков и восстановить данные. Такой возможности нет в учебном проекте. Придётся:\n",
    "* заполнить и эти пропуски явными обозначениями,\n",
    "* оценить, насколько они повредят расчётам. "
   ]
  },
  {
   "cell_type": "markdown",
   "metadata": {
    "id": "fSv2laPA_Zct"
   },
   "source": [
    "Замените пропущенные значения в столбцах `track`, `artist` и `genre` на строку `'unknown'`. Для этого создайте список `columns_to_replace`, переберите его элементы циклом `for` и для каждого столбца выполните замену пропущенных значений:"
   ]
  },
  {
   "cell_type": "code",
   "execution_count": 9,
   "metadata": {
    "id": "KplB5qWs_Zct"
   },
   "outputs": [],
   "source": [
    "columns_to_replace = ['track', 'artist', 'genre']\n",
    "for column in columns_to_replace:\n",
    "    df[column] = df[column].fillna('unknown') # перебор названий столбцов в цикле и замена пропущенных значений на 'unknown'"
   ]
  },
  {
   "cell_type": "markdown",
   "metadata": {
    "id": "Ilsm-MZo_Zct"
   },
   "source": [
    "Убедитесь, что в таблице не осталось пропусков. Для этого ещё раз посчитайте пропущенные значения."
   ]
  },
  {
   "cell_type": "code",
   "execution_count": 10,
   "metadata": {
    "id": "Tq4nYRX4_Zct"
   },
   "outputs": [
    {
     "data": {
      "text/plain": [
       "user_id    0\n",
       "track      0\n",
       "artist     0\n",
       "genre      0\n",
       "city       0\n",
       "time       0\n",
       "day        0\n",
       "dtype: int64"
      ]
     },
     "execution_count": 10,
     "metadata": {},
     "output_type": "execute_result"
    }
   ],
   "source": [
    "df.isna().sum() # подсчёт пропусков"
   ]
  },
  {
   "cell_type": "markdown",
   "metadata": {
    "id": "BWKRtBJ3_Zct"
   },
   "source": [
    "### Дубликаты\n",
    "Посчитайте явные дубликаты в таблице одной командой:"
   ]
  },
  {
   "cell_type": "code",
   "execution_count": 11,
   "metadata": {
    "id": "36eES_S0_Zct"
   },
   "outputs": [
    {
     "data": {
      "text/plain": [
       "3826"
      ]
     },
     "execution_count": 11,
     "metadata": {},
     "output_type": "execute_result"
    }
   ],
   "source": [
    "df.duplicated().sum() # подсчёт явных дубликатов"
   ]
  },
  {
   "cell_type": "markdown",
   "metadata": {},
   "source": [
    "Вызываем специальный метод pandas, чтобы удалить явные дубликаты, создавая новые индексы:"
   ]
  },
  {
   "cell_type": "code",
   "execution_count": 12,
   "metadata": {},
   "outputs": [],
   "source": [
    "df = df.drop_duplicates().reset_index(drop=True) # удаление явных дубликатов (с удалением старых индексов и формированием новых)"
   ]
  },
  {
   "cell_type": "markdown",
   "metadata": {
    "id": "Im2YwBEG_Zct"
   },
   "source": [
    "Ещё раз посчитайте явные дубликаты в таблице — убедитесь, что полностью от них избавились:"
   ]
  },
  {
   "cell_type": "code",
   "execution_count": 13,
   "metadata": {
    "id": "-8PuNWQ0_Zct"
   },
   "outputs": [
    {
     "data": {
      "text/plain": [
       "0"
      ]
     },
     "execution_count": 13,
     "metadata": {},
     "output_type": "execute_result"
    }
   ],
   "source": [
    "df.duplicated().sum() # проверка на отсутствие дубликатов"
   ]
  },
  {
   "cell_type": "markdown",
   "metadata": {
    "id": "QlFBsxAr_Zct"
   },
   "source": [
    "Теперь избавьтесь от неявных дубликатов в колонке `genre`. Например, название одного и того же жанра может быть записано немного по-разному. Такие ошибки тоже повлияют на результат исследования."
   ]
  },
  {
   "cell_type": "markdown",
   "metadata": {
    "id": "eSjWwsOh_Zct"
   },
   "source": [
    "Выведите на экран список уникальных названий жанров, отсортированный в алфавитном порядке. Для этого:\n",
    "* извлеките нужный столбец датафрейма, \n",
    "* примените к нему метод сортировки,\n",
    "* для отсортированного столбца вызовите метод, который вернёт уникальные значения из столбца."
   ]
  },
  {
   "cell_type": "code",
   "execution_count": 14,
   "metadata": {
    "id": "JIUcqzZN_Zct"
   },
   "outputs": [
    {
     "data": {
      "text/plain": [
       "array(['acid', 'acoustic', 'action', 'adult', 'africa', 'afrikaans',\n",
       "       'alternative', 'alternativepunk', 'ambient', 'americana',\n",
       "       'animated', 'anime', 'arabesk', 'arabic', 'arena',\n",
       "       'argentinetango', 'art', 'audiobook', 'author', 'avantgarde',\n",
       "       'axé', 'baile', 'balkan', 'beats', 'bigroom', 'black', 'bluegrass',\n",
       "       'blues', 'bollywood', 'bossa', 'brazilian', 'breakbeat', 'breaks',\n",
       "       'broadway', 'cantautori', 'cantopop', 'canzone', 'caribbean',\n",
       "       'caucasian', 'celtic', 'chamber', 'chanson', 'children', 'chill',\n",
       "       'chinese', 'choral', 'christian', 'christmas', 'classical',\n",
       "       'classicmetal', 'club', 'colombian', 'comedy', 'conjazz',\n",
       "       'contemporary', 'country', 'cuban', 'dance', 'dancehall',\n",
       "       'dancepop', 'dark', 'death', 'deep', 'deutschrock', 'deutschspr',\n",
       "       'dirty', 'disco', 'dnb', 'documentary', 'downbeat', 'downtempo',\n",
       "       'drum', 'dub', 'dubstep', 'eastern', 'easy', 'electronic',\n",
       "       'electropop', 'emo', 'entehno', 'epicmetal', 'estrada', 'ethnic',\n",
       "       'eurofolk', 'european', 'experimental', 'extrememetal', 'fado',\n",
       "       'fairytail', 'film', 'fitness', 'flamenco', 'folk', 'folklore',\n",
       "       'folkmetal', 'folkrock', 'folktronica', 'forró', 'frankreich',\n",
       "       'französisch', 'french', 'funk', 'future', 'gangsta', 'garage',\n",
       "       'german', 'ghazal', 'gitarre', 'glitch', 'gospel', 'gothic',\n",
       "       'grime', 'grunge', 'gypsy', 'handsup', \"hard'n'heavy\", 'hardcore',\n",
       "       'hardstyle', 'hardtechno', 'hip', 'hip-hop', 'hiphop',\n",
       "       'historisch', 'holiday', 'hop', 'horror', 'house', 'hymn', 'idm',\n",
       "       'independent', 'indian', 'indie', 'indipop', 'industrial',\n",
       "       'inspirational', 'instrumental', 'international', 'irish', 'jam',\n",
       "       'japanese', 'jazz', 'jewish', 'jpop', 'jungle', 'k-pop',\n",
       "       'karadeniz', 'karaoke', 'kayokyoku', 'korean', 'laiko', 'latin',\n",
       "       'latino', 'leftfield', 'local', 'lounge', 'loungeelectronic',\n",
       "       'lovers', 'malaysian', 'mandopop', 'marschmusik', 'meditative',\n",
       "       'mediterranean', 'melodic', 'metal', 'metalcore', 'mexican',\n",
       "       'middle', 'minimal', 'miscellaneous', 'modern', 'mood', 'mpb',\n",
       "       'muslim', 'native', 'neoklassik', 'neue', 'new', 'newage',\n",
       "       'newwave', 'nu', 'nujazz', 'numetal', 'oceania', 'old', 'opera',\n",
       "       'orchestral', 'other', 'piano', 'podcasts', 'pop', 'popdance',\n",
       "       'popelectronic', 'popeurodance', 'poprussian', 'post',\n",
       "       'posthardcore', 'postrock', 'power', 'progmetal', 'progressive',\n",
       "       'psychedelic', 'punjabi', 'punk', 'quebecois', 'ragga', 'ram',\n",
       "       'rancheras', 'rap', 'rave', 'reggae', 'reggaeton', 'regional',\n",
       "       'relax', 'religious', 'retro', 'rhythm', 'rnb', 'rnr', 'rock',\n",
       "       'rockabilly', 'rockalternative', 'rockindie', 'rockother',\n",
       "       'romance', 'roots', 'ruspop', 'rusrap', 'rusrock', 'russian',\n",
       "       'salsa', 'samba', 'scenic', 'schlager', 'self', 'sertanejo',\n",
       "       'shanson', 'shoegazing', 'showtunes', 'singer', 'ska', 'skarock',\n",
       "       'slow', 'smooth', 'soft', 'soul', 'soulful', 'sound', 'soundtrack',\n",
       "       'southern', 'specialty', 'speech', 'spiritual', 'sport',\n",
       "       'stonerrock', 'surf', 'swing', 'synthpop', 'synthrock',\n",
       "       'sängerportrait', 'tango', 'tanzorchester', 'taraftar', 'tatar',\n",
       "       'tech', 'techno', 'teen', 'thrash', 'top', 'traditional',\n",
       "       'tradjazz', 'trance', 'tribal', 'trip', 'triphop', 'tropical',\n",
       "       'türk', 'türkçe', 'ukrrock', 'unknown', 'urban', 'uzbek',\n",
       "       'variété', 'vi', 'videogame', 'vocal', 'western', 'world',\n",
       "       'worldbeat', 'ïîï', 'электроника'], dtype=object)"
      ]
     },
     "execution_count": 14,
     "metadata": {},
     "output_type": "execute_result"
    }
   ],
   "source": [
    "df['genre'].sort_values(ascending=True).unique() # Просмотр уникальных названий жанров"
   ]
  },
  {
   "cell_type": "markdown",
   "metadata": {
    "id": "qej-Qmuo_Zct"
   },
   "source": [
    "Просмотрите список и найдите неявные дубликаты названия `hiphop`. Это могут быть названия с ошибками или альтернативные названия того же жанра.\n",
    "\n",
    "Вы увидите следующие неявные дубликаты:\n",
    "* *hip*,\n",
    "* *hop*,\n",
    "* *hip-hop*.\n",
    "\n",
    "Чтобы очистить от них таблицу, напишите функцию `replace_wrong_genres()` с двумя параметрами: \n",
    "* `wrong_genres` — список дубликатов,\n",
    "* `correct_genre` — строка с правильным значением.\n",
    "\n",
    "Функция должна исправить колонку `genre` в таблице `df`: заменить каждое значение из списка `wrong_genres` на значение из `correct_genre`."
   ]
  },
  {
   "cell_type": "code",
   "execution_count": 15,
   "metadata": {
    "id": "ErNDkmns_Zct"
   },
   "outputs": [],
   "source": [
    "def replace_wrong_genres(wrong_genres, correct_genre): #создание функции с двумя параментрами\n",
    "    for index in wrong_genres: # перебираем список с неправильными значениями\n",
    "        df['genre'] = df['genre'].replace(index, correct_genre) # Функция для замены неявных дубликатов"
   ]
  },
  {
   "cell_type": "markdown",
   "metadata": {
    "id": "aDoBJxbA_Zct"
   },
   "source": [
    "Вызовите `replace_wrong_genres()` и передайте ей такие аргументы, чтобы она устранила неявные дубликаты: вместо `hip`, `hop` и `hip-hop` в таблице должно быть значение `hiphop`:"
   ]
  },
  {
   "cell_type": "code",
   "execution_count": 16,
   "metadata": {
    "id": "YN5i2hpmSo09"
   },
   "outputs": [],
   "source": [
    "wrong_genres = ['hip', 'hop', 'hip-hop'] # переменная с неправильным списком\n",
    "correct_genres = 'hiphop' # переменная с правильным значением\n",
    "replace_wrong_genres(wrong_genres, correct_genres) # Устранение неявных дубликатов"
   ]
  },
  {
   "cell_type": "markdown",
   "metadata": {
    "id": "zQKF16_RG15m"
   },
   "source": [
    "Проверьте, что заменили неправильные названия:\n",
    "\n",
    "*   hip\n",
    "*   hop\n",
    "*   hip-hop\n",
    "\n",
    "Выведите отсортированный список уникальных значений столбца `genre`:"
   ]
  },
  {
   "cell_type": "code",
   "execution_count": 17,
   "metadata": {
    "id": "wvixALnFG15m"
   },
   "outputs": [
    {
     "name": "stdout",
     "output_type": "stream",
     "text": [
      "<class 'pandas.core.frame.DataFrame'>\n",
      "RangeIndex: 61253 entries, 0 to 61252\n",
      "Data columns (total 7 columns):\n",
      " #   Column   Non-Null Count  Dtype \n",
      "---  ------   --------------  ----- \n",
      " 0   user_id  61253 non-null  object\n",
      " 1   track    61253 non-null  object\n",
      " 2   artist   61253 non-null  object\n",
      " 3   genre    61253 non-null  object\n",
      " 4   city     61253 non-null  object\n",
      " 5   time     61253 non-null  object\n",
      " 6   day      61253 non-null  object\n",
      "dtypes: object(7)\n",
      "memory usage: 3.3+ MB\n"
     ]
    }
   ],
   "source": [
    "df['genre'].sort_values(ascending=True).unique() # Проверка на неявные дубликаты\n",
    "\n",
    "df.info()\n",
    "\n"
   ]
  },
  {
   "cell_type": "markdown",
   "metadata": {},
   "source": [
    "Выводим на экран список уникальных названий жанров, отсортированный в алфавитном порядке."
   ]
  },
  {
   "cell_type": "code",
   "execution_count": 18,
   "metadata": {},
   "outputs": [
    {
     "data": {
      "text/plain": [
       "array(['acid', 'acoustic', 'action', 'adult', 'africa', 'afrikaans',\n",
       "       'alternative', 'alternativepunk', 'ambient', 'americana',\n",
       "       'animated', 'anime', 'arabesk', 'arabic', 'arena',\n",
       "       'argentinetango', 'art', 'audiobook', 'author', 'avantgarde',\n",
       "       'axé', 'baile', 'balkan', 'beats', 'bigroom', 'black', 'bluegrass',\n",
       "       'blues', 'bollywood', 'bossa', 'brazilian', 'breakbeat', 'breaks',\n",
       "       'broadway', 'cantautori', 'cantopop', 'canzone', 'caribbean',\n",
       "       'caucasian', 'celtic', 'chamber', 'chanson', 'children', 'chill',\n",
       "       'chinese', 'choral', 'christian', 'christmas', 'classical',\n",
       "       'classicmetal', 'club', 'colombian', 'comedy', 'conjazz',\n",
       "       'contemporary', 'country', 'cuban', 'dance', 'dancehall',\n",
       "       'dancepop', 'dark', 'death', 'deep', 'deutschrock', 'deutschspr',\n",
       "       'dirty', 'disco', 'dnb', 'documentary', 'downbeat', 'downtempo',\n",
       "       'drum', 'dub', 'dubstep', 'eastern', 'easy', 'electronic',\n",
       "       'electropop', 'emo', 'entehno', 'epicmetal', 'estrada', 'ethnic',\n",
       "       'eurofolk', 'european', 'experimental', 'extrememetal', 'fado',\n",
       "       'fairytail', 'film', 'fitness', 'flamenco', 'folk', 'folklore',\n",
       "       'folkmetal', 'folkrock', 'folktronica', 'forró', 'frankreich',\n",
       "       'französisch', 'french', 'funk', 'future', 'gangsta', 'garage',\n",
       "       'german', 'ghazal', 'gitarre', 'glitch', 'gospel', 'gothic',\n",
       "       'grime', 'grunge', 'gypsy', 'handsup', \"hard'n'heavy\", 'hardcore',\n",
       "       'hardstyle', 'hardtechno', 'hiphop', 'historisch', 'holiday',\n",
       "       'horror', 'house', 'hymn', 'idm', 'independent', 'indian', 'indie',\n",
       "       'indipop', 'industrial', 'inspirational', 'instrumental',\n",
       "       'international', 'irish', 'jam', 'japanese', 'jazz', 'jewish',\n",
       "       'jpop', 'jungle', 'k-pop', 'karadeniz', 'karaoke', 'kayokyoku',\n",
       "       'korean', 'laiko', 'latin', 'latino', 'leftfield', 'local',\n",
       "       'lounge', 'loungeelectronic', 'lovers', 'malaysian', 'mandopop',\n",
       "       'marschmusik', 'meditative', 'mediterranean', 'melodic', 'metal',\n",
       "       'metalcore', 'mexican', 'middle', 'minimal', 'miscellaneous',\n",
       "       'modern', 'mood', 'mpb', 'muslim', 'native', 'neoklassik', 'neue',\n",
       "       'new', 'newage', 'newwave', 'nu', 'nujazz', 'numetal', 'oceania',\n",
       "       'old', 'opera', 'orchestral', 'other', 'piano', 'podcasts', 'pop',\n",
       "       'popdance', 'popelectronic', 'popeurodance', 'poprussian', 'post',\n",
       "       'posthardcore', 'postrock', 'power', 'progmetal', 'progressive',\n",
       "       'psychedelic', 'punjabi', 'punk', 'quebecois', 'ragga', 'ram',\n",
       "       'rancheras', 'rap', 'rave', 'reggae', 'reggaeton', 'regional',\n",
       "       'relax', 'religious', 'retro', 'rhythm', 'rnb', 'rnr', 'rock',\n",
       "       'rockabilly', 'rockalternative', 'rockindie', 'rockother',\n",
       "       'romance', 'roots', 'ruspop', 'rusrap', 'rusrock', 'russian',\n",
       "       'salsa', 'samba', 'scenic', 'schlager', 'self', 'sertanejo',\n",
       "       'shanson', 'shoegazing', 'showtunes', 'singer', 'ska', 'skarock',\n",
       "       'slow', 'smooth', 'soft', 'soul', 'soulful', 'sound', 'soundtrack',\n",
       "       'southern', 'specialty', 'speech', 'spiritual', 'sport',\n",
       "       'stonerrock', 'surf', 'swing', 'synthpop', 'synthrock',\n",
       "       'sängerportrait', 'tango', 'tanzorchester', 'taraftar', 'tatar',\n",
       "       'tech', 'techno', 'teen', 'thrash', 'top', 'traditional',\n",
       "       'tradjazz', 'trance', 'tribal', 'trip', 'triphop', 'tropical',\n",
       "       'türk', 'türkçe', 'ukrrock', 'unknown', 'urban', 'uzbek',\n",
       "       'variété', 'vi', 'videogame', 'vocal', 'western', 'world',\n",
       "       'worldbeat', 'ïîï', 'электроника'], dtype=object)"
      ]
     },
     "execution_count": 18,
     "metadata": {},
     "output_type": "execute_result"
    }
   ],
   "source": [
    "df['genre'].sort_values(ascending=True).unique() # Повторный просмотр уникальных названий жанров, с учетом замены. "
   ]
  },
  {
   "cell_type": "markdown",
   "metadata": {},
   "source": [
    "Проверяяем список. Замена на не явных дубликатв на 'hiphop' сработала правельно."
   ]
  },
  {
   "cell_type": "markdown",
   "metadata": {
    "id": "jz6a9-7HQUDd"
   },
   "source": [
    "**Выводы**\n",
    "\n",
    "Предобработка обнаружила три проблемы в данных:\n",
    "\n",
    "- нарушения в стиле заголовков,\n",
    "- пропущенные значения,\n",
    "- дубликаты — явные и неявные.\n",
    "\n",
    "Вы исправили заголовки, чтобы упростить работу с таблицей. Без дубликатов исследование станет более точным.\n",
    "\n",
    "Пропущенные значения вы заменили на `'unknown'`. Ещё предстоит увидеть, не повредят ли исследованию пропуски в колонке `genre`.\n",
    "\n",
    "Теперь можно перейти к проверке гипотез. "
   ]
  },
  {
   "cell_type": "markdown",
   "metadata": {
    "id": "WttZHXH0SqKk"
   },
   "source": [
    "## Проверка гипотез"
   ]
  },
  {
   "cell_type": "markdown",
   "metadata": {
    "id": "Im936VVi_Zcu"
   },
   "source": [
    "### Сравнение поведения пользователей двух столиц"
   ]
  },
  {
   "cell_type": "markdown",
   "metadata": {
    "id": "nwt_MuaL_Zcu"
   },
   "source": [
    "Первая гипотеза утверждает, что пользователи по-разному слушают музыку в Москве и Санкт-Петербурге. Проверьте это предположение по данным о трёх днях недели — понедельнике, среде и пятнице. Для этого:\n",
    "\n",
    "* Разделите пользователей Москвы и Санкт-Петербурга\n",
    "* Сравните, сколько треков послушала каждая группа пользователей в понедельник, среду и пятницу.\n"
   ]
  },
  {
   "cell_type": "markdown",
   "metadata": {
    "id": "8Dw_YMmT_Zcu"
   },
   "source": [
    "Для тренировки сначала выполните каждый из расчётов по отдельности. \n",
    "\n",
    "Оцените активность пользователей в каждом городе. Сгруппируйте данные по городу и посчитайте прослушивания в каждой группе.\n",
    "\n"
   ]
  },
  {
   "cell_type": "code",
   "execution_count": 19,
   "metadata": {
    "id": "0_Qs96oh_Zcu"
   },
   "outputs": [
    {
     "data": {
      "text/html": [
       "<div>\n",
       "<style scoped>\n",
       "    .dataframe tbody tr th:only-of-type {\n",
       "        vertical-align: middle;\n",
       "    }\n",
       "\n",
       "    .dataframe tbody tr th {\n",
       "        vertical-align: top;\n",
       "    }\n",
       "\n",
       "    .dataframe thead th {\n",
       "        text-align: right;\n",
       "    }\n",
       "</style>\n",
       "<table border=\"1\" class=\"dataframe\">\n",
       "  <thead>\n",
       "    <tr style=\"text-align: right;\">\n",
       "      <th></th>\n",
       "      <th>user_id</th>\n",
       "      <th>track</th>\n",
       "      <th>artist</th>\n",
       "      <th>genre</th>\n",
       "      <th>time</th>\n",
       "      <th>day</th>\n",
       "    </tr>\n",
       "    <tr>\n",
       "      <th>city</th>\n",
       "      <th></th>\n",
       "      <th></th>\n",
       "      <th></th>\n",
       "      <th></th>\n",
       "      <th></th>\n",
       "      <th></th>\n",
       "    </tr>\n",
       "  </thead>\n",
       "  <tbody>\n",
       "    <tr>\n",
       "      <th>Moscow</th>\n",
       "      <td>42741</td>\n",
       "      <td>42741</td>\n",
       "      <td>42741</td>\n",
       "      <td>42741</td>\n",
       "      <td>42741</td>\n",
       "      <td>42741</td>\n",
       "    </tr>\n",
       "    <tr>\n",
       "      <th>Saint-Petersburg</th>\n",
       "      <td>18512</td>\n",
       "      <td>18512</td>\n",
       "      <td>18512</td>\n",
       "      <td>18512</td>\n",
       "      <td>18512</td>\n",
       "      <td>18512</td>\n",
       "    </tr>\n",
       "  </tbody>\n",
       "</table>\n",
       "</div>"
      ],
      "text/plain": [
       "                  user_id  track  artist  genre   time    day\n",
       "city                                                         \n",
       "Moscow              42741  42741   42741  42741  42741  42741\n",
       "Saint-Petersburg    18512  18512   18512  18512  18512  18512"
      ]
     },
     "execution_count": 19,
     "metadata": {},
     "output_type": "execute_result"
    }
   ],
   "source": [
    "df.groupby('city').count() # Подсчёт прослушиваний в каждом городе"
   ]
  },
  {
   "cell_type": "code",
   "execution_count": 20,
   "metadata": {},
   "outputs": [
    {
     "data": {
      "text/plain": [
       "city\n",
       "Moscow              42741\n",
       "Saint-Petersburg    18512\n",
       "Name: user_id, dtype: int64"
      ]
     },
     "execution_count": 20,
     "metadata": {},
     "output_type": "execute_result"
    }
   ],
   "source": [
    "df.groupby('city')['user_id'].count() # Подсчёт прослушиваний в каждом городе по столбцу 'user_id'"
   ]
  },
  {
   "cell_type": "markdown",
   "metadata": {
    "id": "dzli3w8o_Zcu"
   },
   "source": [
    "В Москве прослушиваний больше, чем в Петербурге. Из этого не следует, что московские пользователи чаще слушают музыку. Просто самих пользователей в Москве больше.\n",
    "\n",
    "Теперь сгруппируйте данные по дню недели и подсчитайте прослушивания в понедельник, среду и пятницу. Учтите, что в данных есть информация о прослушиваниях только за эти дни.\n"
   ]
  },
  {
   "cell_type": "code",
   "execution_count": 21,
   "metadata": {
    "id": "uZMKjiJz_Zcu"
   },
   "outputs": [
    {
     "data": {
      "text/html": [
       "<div>\n",
       "<style scoped>\n",
       "    .dataframe tbody tr th:only-of-type {\n",
       "        vertical-align: middle;\n",
       "    }\n",
       "\n",
       "    .dataframe tbody tr th {\n",
       "        vertical-align: top;\n",
       "    }\n",
       "\n",
       "    .dataframe thead th {\n",
       "        text-align: right;\n",
       "    }\n",
       "</style>\n",
       "<table border=\"1\" class=\"dataframe\">\n",
       "  <thead>\n",
       "    <tr style=\"text-align: right;\">\n",
       "      <th></th>\n",
       "      <th>user_id</th>\n",
       "      <th>track</th>\n",
       "      <th>artist</th>\n",
       "      <th>genre</th>\n",
       "      <th>city</th>\n",
       "      <th>time</th>\n",
       "    </tr>\n",
       "    <tr>\n",
       "      <th>day</th>\n",
       "      <th></th>\n",
       "      <th></th>\n",
       "      <th></th>\n",
       "      <th></th>\n",
       "      <th></th>\n",
       "      <th></th>\n",
       "    </tr>\n",
       "  </thead>\n",
       "  <tbody>\n",
       "    <tr>\n",
       "      <th>Friday</th>\n",
       "      <td>21840</td>\n",
       "      <td>21840</td>\n",
       "      <td>21840</td>\n",
       "      <td>21840</td>\n",
       "      <td>21840</td>\n",
       "      <td>21840</td>\n",
       "    </tr>\n",
       "    <tr>\n",
       "      <th>Monday</th>\n",
       "      <td>21354</td>\n",
       "      <td>21354</td>\n",
       "      <td>21354</td>\n",
       "      <td>21354</td>\n",
       "      <td>21354</td>\n",
       "      <td>21354</td>\n",
       "    </tr>\n",
       "    <tr>\n",
       "      <th>Wednesday</th>\n",
       "      <td>18059</td>\n",
       "      <td>18059</td>\n",
       "      <td>18059</td>\n",
       "      <td>18059</td>\n",
       "      <td>18059</td>\n",
       "      <td>18059</td>\n",
       "    </tr>\n",
       "  </tbody>\n",
       "</table>\n",
       "</div>"
      ],
      "text/plain": [
       "           user_id  track  artist  genre   city   time\n",
       "day                                                   \n",
       "Friday       21840  21840   21840  21840  21840  21840\n",
       "Monday       21354  21354   21354  21354  21354  21354\n",
       "Wednesday    18059  18059   18059  18059  18059  18059"
      ]
     },
     "execution_count": 21,
     "metadata": {},
     "output_type": "execute_result"
    }
   ],
   "source": [
    "df.groupby('day').count() # Подсчёт прослушиваний в каждый из трёх дней"
   ]
  },
  {
   "cell_type": "code",
   "execution_count": 22,
   "metadata": {},
   "outputs": [
    {
     "data": {
      "text/plain": [
       "day\n",
       "Friday       21840\n",
       "Monday       21354\n",
       "Wednesday    18059\n",
       "Name: user_id, dtype: int64"
      ]
     },
     "execution_count": 22,
     "metadata": {},
     "output_type": "execute_result"
    }
   ],
   "source": [
    "df.groupby('day')['user_id'].count() # Подсчёт прослушиваний в каждый из трёх дней по столбцу 'user_id'."
   ]
  },
  {
   "cell_type": "markdown",
   "metadata": {
    "id": "cC2tNrlL_Zcu"
   },
   "source": [
    "В среднем пользователи из двух городов менее активны по средам. Но картина может измениться, если рассмотреть каждый город в отдельности."
   ]
  },
  {
   "cell_type": "markdown",
   "metadata": {
    "id": "POzs8bGa_Zcu"
   },
   "source": [
    "Вы видели, как работает группировка по городу и по дням недели. Теперь напишите функцию, которая объединит два эти расчёта.\n",
    "\n",
    "Создайте функцию `number_tracks()`, которая посчитает прослушивания для заданного дня и города. Ей понадобятся два параметра:\n",
    "* день недели,\n",
    "* название города.\n",
    "\n",
    "В функции сохраните в переменную строки исходной таблицы, у которых значение:\n",
    "  * в колонке `day` равно параметру `day`,\n",
    "  * в колонке `city` равно параметру `city`.\n",
    "\n",
    "Для этого примените последовательную фильтрацию с логической индексацией.\n",
    "\n",
    "Затем посчитайте значения в столбце `user_id` получившейся таблицы. Результат сохраните в новую переменную. Верните эту переменную из функции."
   ]
  },
  {
   "cell_type": "code",
   "execution_count": 23,
   "metadata": {
    "id": "Nz3GdQB1_Zcu"
   },
   "outputs": [],
   "source": [
    "# <создание функции number_tracks()>\n",
    "# Объявляется функция с двумя параметрами: day, city.\n",
    "def number_tracks(day, city):\n",
    "# В переменной track_list сохраняются те строки таблицы df, для которых \n",
    "# значение в столбце 'day' равно параметру day и одновременно значение\n",
    "# в столбце 'city' равно параметру city (используйте последовательную фильтрацию\n",
    "# с помощью логической индексации).\n",
    "    track_list=df[(df['day']==day) & (df['city']==city)]\n",
    "# В переменной track_list_count сохраняется число значений столбца 'user_id',\n",
    "# рассчитанное методом count() для таблицы track_list.\n",
    "    track_list_count = track_list['user_id'].count()\n",
    "# Функция возвращает число - значение track_list_count.\n",
    "    return track_list_count\n",
    "\n",
    "# Функция для подсчёта прослушиваний для конкретного города и дня.\n",
    "# С помощью последовательной фильтрации с логической индексацией она \n",
    "# сначала получит из исходной таблицы строки с нужным днём,\n",
    "# затем из результата отфильтрует строки с нужным городом,\n",
    "# методом count() посчитает количество значений в колонке user_id. \n",
    "# Это количество функция вернёт в качестве результата"
   ]
  },
  {
   "cell_type": "markdown",
   "metadata": {
    "id": "ytf7xFrFJQ2r"
   },
   "source": [
    "Вызовите `number_tracks()` шесть раз, меняя значение параметров — так, чтобы получить данные для каждого города в каждый из трёх дней."
   ]
  },
  {
   "cell_type": "code",
   "execution_count": 24,
   "metadata": {
    "id": "rJcRATNQ_Zcu"
   },
   "outputs": [
    {
     "data": {
      "text/plain": [
       "15740"
      ]
     },
     "execution_count": 24,
     "metadata": {},
     "output_type": "execute_result"
    }
   ],
   "source": [
    "number_tracks('Monday', 'Moscow') # количество прослушиваний в Москве по понедельникам"
   ]
  },
  {
   "cell_type": "code",
   "execution_count": 25,
   "metadata": {
    "id": "hq_ncZ5T_Zcu"
   },
   "outputs": [
    {
     "data": {
      "text/plain": [
       "5614"
      ]
     },
     "execution_count": 25,
     "metadata": {},
     "output_type": "execute_result"
    }
   ],
   "source": [
    "number_tracks('Monday', 'Saint-Petersburg') # количество прослушиваний в Санкт-Петербурге по понедельникам"
   ]
  },
  {
   "cell_type": "code",
   "execution_count": 26,
   "metadata": {
    "id": "_NTy2VPU_Zcu"
   },
   "outputs": [
    {
     "data": {
      "text/plain": [
       "11056"
      ]
     },
     "execution_count": 26,
     "metadata": {},
     "output_type": "execute_result"
    }
   ],
   "source": [
    "number_tracks('Wednesday', 'Moscow') # количество прослушиваний в Москве по средам"
   ]
  },
  {
   "cell_type": "code",
   "execution_count": 27,
   "metadata": {
    "id": "j2y3TAwo_Zcu"
   },
   "outputs": [
    {
     "data": {
      "text/plain": [
       "7003"
      ]
     },
     "execution_count": 27,
     "metadata": {},
     "output_type": "execute_result"
    }
   ],
   "source": [
    "number_tracks('Wednesday', 'Saint-Petersburg') # количество прослушиваний в Санкт-Петербурге по средам"
   ]
  },
  {
   "cell_type": "code",
   "execution_count": 28,
   "metadata": {
    "id": "vYDw5u_K_Zcu"
   },
   "outputs": [
    {
     "data": {
      "text/plain": [
       "15945"
      ]
     },
     "execution_count": 28,
     "metadata": {},
     "output_type": "execute_result"
    }
   ],
   "source": [
    "number_tracks('Friday', 'Moscow') # количество прослушиваний в Москве по пятницам"
   ]
  },
  {
   "cell_type": "code",
   "execution_count": 29,
   "metadata": {
    "id": "8_yzFtW3_Zcu"
   },
   "outputs": [
    {
     "data": {
      "text/plain": [
       "5895"
      ]
     },
     "execution_count": 29,
     "metadata": {},
     "output_type": "execute_result"
    }
   ],
   "source": [
    "number_tracks('Friday', 'Saint-Petersburg') # количество прослушиваний в Санкт-Петербурге по пятницам"
   ]
  },
  {
   "cell_type": "markdown",
   "metadata": {
    "id": "7QXffbO-_Zcu"
   },
   "source": [
    "Создайте c помощью конструктора `pd.DataFrame` таблицу, где\n",
    "* названия колонок — `['city', 'monday', 'wednesday', 'friday']`;\n",
    "* данные — результаты, которые вы получили с помощью `number_tracks`."
   ]
  },
  {
   "cell_type": "code",
   "execution_count": 30,
   "metadata": {
    "id": "APAcLpOr_Zcu"
   },
   "outputs": [
    {
     "data": {
      "text/html": [
       "<div>\n",
       "<style scoped>\n",
       "    .dataframe tbody tr th:only-of-type {\n",
       "        vertical-align: middle;\n",
       "    }\n",
       "\n",
       "    .dataframe tbody tr th {\n",
       "        vertical-align: top;\n",
       "    }\n",
       "\n",
       "    .dataframe thead th {\n",
       "        text-align: right;\n",
       "    }\n",
       "</style>\n",
       "<table border=\"1\" class=\"dataframe\">\n",
       "  <thead>\n",
       "    <tr style=\"text-align: right;\">\n",
       "      <th></th>\n",
       "      <th>city</th>\n",
       "      <th>monday</th>\n",
       "      <th>wednesday</th>\n",
       "      <th>friday</th>\n",
       "    </tr>\n",
       "  </thead>\n",
       "  <tbody>\n",
       "    <tr>\n",
       "      <th>0</th>\n",
       "      <td>Moscow</td>\n",
       "      <td>15740</td>\n",
       "      <td>11056</td>\n",
       "      <td>15945</td>\n",
       "    </tr>\n",
       "    <tr>\n",
       "      <th>1</th>\n",
       "      <td>Saint-Petersburg</td>\n",
       "      <td>5614</td>\n",
       "      <td>7003</td>\n",
       "      <td>5895</td>\n",
       "    </tr>\n",
       "  </tbody>\n",
       "</table>\n",
       "</div>"
      ],
      "text/plain": [
       "               city  monday  wednesday  friday\n",
       "0            Moscow   15740      11056   15945\n",
       "1  Saint-Petersburg    5614       7003    5895"
      ]
     },
     "execution_count": 30,
     "metadata": {},
     "output_type": "execute_result"
    }
   ],
   "source": [
    "data = [['Moscow', 15740, 11056, 15945],\n",
    "        ['Saint-Petersburg', 5614, 7003, 5895]] \n",
    "columns = ['city', 'monday', 'wednesday', 'friday'] \n",
    "table = pd.DataFrame(data = data, columns = columns) \n",
    "table.head() # Таблица с результатами"
   ]
  },
  {
   "cell_type": "markdown",
   "metadata": {
    "id": "-EgPIHYu_Zcu"
   },
   "source": [
    "**Выводы**\n",
    "\n",
    "Данные показывают разницу поведения пользователей:\n",
    "\n",
    "- В Москве пик прослушиваний приходится на понедельник и пятницу, а в среду заметен спад.\n",
    "- В Петербурге, наоборот, больше слушают музыку по средам. Активность в понедельник и пятницу здесь почти в равной мере уступает среде.\n",
    "\n",
    "Значит, данные говорят в пользу первой гипотезы."
   ]
  },
  {
   "cell_type": "markdown",
   "metadata": {
    "id": "atZAxtq4_Zcu"
   },
   "source": [
    "### Музыка в начале и в конце недели"
   ]
  },
  {
   "cell_type": "markdown",
   "metadata": {
    "id": "eXrQqXFH_Zcu"
   },
   "source": [
    "Согласно второй гипотезе, утром в понедельник в Москве преобладают одни жанры, а в Петербурге — другие. Так же и вечером пятницы преобладают разные жанры — в зависимости от города."
   ]
  },
  {
   "cell_type": "markdown",
   "metadata": {
    "id": "S8UcW6Hw_Zcu"
   },
   "source": [
    "Сохраните таблицы с данными в две переменные:\n",
    "* по Москве — в `moscow_general`;\n",
    "* по Санкт-Петербургу — в `spb_general`."
   ]
  },
  {
   "cell_type": "code",
   "execution_count": 31,
   "metadata": {
    "id": "qeaFfM_P_Zcu"
   },
   "outputs": [
    {
     "data": {
      "text/html": [
       "<div>\n",
       "<style scoped>\n",
       "    .dataframe tbody tr th:only-of-type {\n",
       "        vertical-align: middle;\n",
       "    }\n",
       "\n",
       "    .dataframe tbody tr th {\n",
       "        vertical-align: top;\n",
       "    }\n",
       "\n",
       "    .dataframe thead th {\n",
       "        text-align: right;\n",
       "    }\n",
       "</style>\n",
       "<table border=\"1\" class=\"dataframe\">\n",
       "  <thead>\n",
       "    <tr style=\"text-align: right;\">\n",
       "      <th></th>\n",
       "      <th>user_id</th>\n",
       "      <th>track</th>\n",
       "      <th>artist</th>\n",
       "      <th>genre</th>\n",
       "      <th>city</th>\n",
       "      <th>time</th>\n",
       "      <th>day</th>\n",
       "    </tr>\n",
       "  </thead>\n",
       "  <tbody>\n",
       "    <tr>\n",
       "      <th>1</th>\n",
       "      <td>55204538</td>\n",
       "      <td>Delayed Because of Accident</td>\n",
       "      <td>Andreas Rönnberg</td>\n",
       "      <td>rock</td>\n",
       "      <td>Moscow</td>\n",
       "      <td>14:07:09</td>\n",
       "      <td>Friday</td>\n",
       "    </tr>\n",
       "    <tr>\n",
       "      <th>4</th>\n",
       "      <td>E2DC1FAE</td>\n",
       "      <td>Soul People</td>\n",
       "      <td>Space Echo</td>\n",
       "      <td>dance</td>\n",
       "      <td>Moscow</td>\n",
       "      <td>08:34:34</td>\n",
       "      <td>Monday</td>\n",
       "    </tr>\n",
       "    <tr>\n",
       "      <th>6</th>\n",
       "      <td>4CB90AA5</td>\n",
       "      <td>True</td>\n",
       "      <td>Roman Messer</td>\n",
       "      <td>dance</td>\n",
       "      <td>Moscow</td>\n",
       "      <td>13:00:07</td>\n",
       "      <td>Wednesday</td>\n",
       "    </tr>\n",
       "    <tr>\n",
       "      <th>7</th>\n",
       "      <td>F03E1C1F</td>\n",
       "      <td>Feeling This Way</td>\n",
       "      <td>Polina Griffith</td>\n",
       "      <td>dance</td>\n",
       "      <td>Moscow</td>\n",
       "      <td>20:47:49</td>\n",
       "      <td>Wednesday</td>\n",
       "    </tr>\n",
       "    <tr>\n",
       "      <th>8</th>\n",
       "      <td>8FA1D3BE</td>\n",
       "      <td>И вновь продолжается бой</td>\n",
       "      <td>unknown</td>\n",
       "      <td>ruspop</td>\n",
       "      <td>Moscow</td>\n",
       "      <td>09:17:40</td>\n",
       "      <td>Friday</td>\n",
       "    </tr>\n",
       "  </tbody>\n",
       "</table>\n",
       "</div>"
      ],
      "text/plain": [
       "    user_id                        track            artist   genre    city  \\\n",
       "1  55204538  Delayed Because of Accident  Andreas Rönnberg    rock  Moscow   \n",
       "4  E2DC1FAE                  Soul People        Space Echo   dance  Moscow   \n",
       "6  4CB90AA5                         True      Roman Messer   dance  Moscow   \n",
       "7  F03E1C1F             Feeling This Way   Polina Griffith   dance  Moscow   \n",
       "8  8FA1D3BE     И вновь продолжается бой           unknown  ruspop  Moscow   \n",
       "\n",
       "       time        day  \n",
       "1  14:07:09     Friday  \n",
       "4  08:34:34     Monday  \n",
       "6  13:00:07  Wednesday  \n",
       "7  20:47:49  Wednesday  \n",
       "8  09:17:40     Friday  "
      ]
     },
     "execution_count": 31,
     "metadata": {},
     "output_type": "execute_result"
    }
   ],
   "source": [
    "# получение таблицы moscow_general из тех строк таблицы df, \n",
    "# для которых значение в столбце 'city' равно 'Moscow'\n",
    "moscow_general = df[df['city'] == 'Moscow']\n",
    "moscow_general.head()"
   ]
  },
  {
   "cell_type": "code",
   "execution_count": 32,
   "metadata": {
    "id": "ORaVRKto_Zcu"
   },
   "outputs": [
    {
     "data": {
      "text/html": [
       "<div>\n",
       "<style scoped>\n",
       "    .dataframe tbody tr th:only-of-type {\n",
       "        vertical-align: middle;\n",
       "    }\n",
       "\n",
       "    .dataframe tbody tr th {\n",
       "        vertical-align: top;\n",
       "    }\n",
       "\n",
       "    .dataframe thead th {\n",
       "        text-align: right;\n",
       "    }\n",
       "</style>\n",
       "<table border=\"1\" class=\"dataframe\">\n",
       "  <thead>\n",
       "    <tr style=\"text-align: right;\">\n",
       "      <th></th>\n",
       "      <th>user_id</th>\n",
       "      <th>track</th>\n",
       "      <th>artist</th>\n",
       "      <th>genre</th>\n",
       "      <th>city</th>\n",
       "      <th>time</th>\n",
       "      <th>day</th>\n",
       "    </tr>\n",
       "  </thead>\n",
       "  <tbody>\n",
       "    <tr>\n",
       "      <th>0</th>\n",
       "      <td>FFB692EC</td>\n",
       "      <td>Kamigata To Boots</td>\n",
       "      <td>The Mass Missile</td>\n",
       "      <td>rock</td>\n",
       "      <td>Saint-Petersburg</td>\n",
       "      <td>20:28:33</td>\n",
       "      <td>Wednesday</td>\n",
       "    </tr>\n",
       "    <tr>\n",
       "      <th>2</th>\n",
       "      <td>20EC38</td>\n",
       "      <td>Funiculì funiculà</td>\n",
       "      <td>Mario Lanza</td>\n",
       "      <td>pop</td>\n",
       "      <td>Saint-Petersburg</td>\n",
       "      <td>20:58:07</td>\n",
       "      <td>Wednesday</td>\n",
       "    </tr>\n",
       "    <tr>\n",
       "      <th>3</th>\n",
       "      <td>A3DD03C9</td>\n",
       "      <td>Dragons in the Sunset</td>\n",
       "      <td>Fire + Ice</td>\n",
       "      <td>folk</td>\n",
       "      <td>Saint-Petersburg</td>\n",
       "      <td>08:37:09</td>\n",
       "      <td>Monday</td>\n",
       "    </tr>\n",
       "    <tr>\n",
       "      <th>5</th>\n",
       "      <td>842029A1</td>\n",
       "      <td>Преданная</td>\n",
       "      <td>IMPERVTOR</td>\n",
       "      <td>rusrap</td>\n",
       "      <td>Saint-Petersburg</td>\n",
       "      <td>13:09:41</td>\n",
       "      <td>Friday</td>\n",
       "    </tr>\n",
       "    <tr>\n",
       "      <th>9</th>\n",
       "      <td>E772D5C0</td>\n",
       "      <td>Pessimist</td>\n",
       "      <td>unknown</td>\n",
       "      <td>dance</td>\n",
       "      <td>Saint-Petersburg</td>\n",
       "      <td>21:20:49</td>\n",
       "      <td>Wednesday</td>\n",
       "    </tr>\n",
       "  </tbody>\n",
       "</table>\n",
       "</div>"
      ],
      "text/plain": [
       "    user_id                  track            artist   genre  \\\n",
       "0  FFB692EC      Kamigata To Boots  The Mass Missile    rock   \n",
       "2    20EC38      Funiculì funiculà       Mario Lanza     pop   \n",
       "3  A3DD03C9  Dragons in the Sunset        Fire + Ice    folk   \n",
       "5  842029A1              Преданная         IMPERVTOR  rusrap   \n",
       "9  E772D5C0              Pessimist           unknown   dance   \n",
       "\n",
       "               city      time        day  \n",
       "0  Saint-Petersburg  20:28:33  Wednesday  \n",
       "2  Saint-Petersburg  20:58:07  Wednesday  \n",
       "3  Saint-Petersburg  08:37:09     Monday  \n",
       "5  Saint-Petersburg  13:09:41     Friday  \n",
       "9  Saint-Petersburg  21:20:49  Wednesday  "
      ]
     },
     "execution_count": 32,
     "metadata": {},
     "output_type": "execute_result"
    }
   ],
   "source": [
    "# получение таблицы spb_general из тех строк таблицы df,\n",
    "# для которых значение в столбце 'city' равно 'Saint-Petersburg'\n",
    "spb_general = df[df['city'] == 'Saint-Petersburg']\n",
    "spb_general.head()"
   ]
  },
  {
   "cell_type": "markdown",
   "metadata": {
    "id": "MEJV-CX2_Zcu"
   },
   "source": [
    "Создайте функцию `genre_weekday()` с четырьмя параметрами:\n",
    "* таблица (датафрейм) с данными,\n",
    "* день недели,\n",
    "* начальная временная метка в формате 'hh:mm', \n",
    "* последняя временная метка в формате 'hh:mm'.\n",
    "\n",
    "Функция должна вернуть информацию о топ-10 жанров тех треков, которые прослушивали в указанный день, в промежутке между двумя отметками времени."
   ]
  },
  {
   "cell_type": "code",
   "execution_count": 33,
   "metadata": {
    "id": "laJT9BYl_Zcu"
   },
   "outputs": [],
   "source": [
    "# Объявление функции genre_weekday() с параметрами table, day, time1, time2,\n",
    "# которая возвращает информацию о самых популярных жанрах в указанный день в\n",
    "# заданное время:\n",
    "def genre_weekday(table, day, time1, time2):\n",
    "    genre_df = table[table['day'] == day]\n",
    "    genre_df = genre_df[genre_df['time'] > time1]\n",
    "    genre_df = genre_df[genre_df['time'] < time2]\n",
    "    genre_df_count = genre_df.groupby('genre')['time'].count()\n",
    "    genre_df_sorted = genre_df_count.sort_values(ascending=False)\n",
    "    return genre_df_sorted.head(10)\n",
    "# 1) в переменную genre_df сохраняются те строки переданного датафрейма table, для\n",
    "#    которых одновременно:\n",
    "#    - значение в столбце day равно значению аргумента day\n",
    "#    - значение в столбце time больше значения аргумента time1\n",
    "#    - значение в столбце time меньше значения аргумента time2\n",
    "#    Используйте последовательную фильтрацию с помощью логической индексации.\n",
    "# 2) сгруппировать датафрейм genre_df по столбцу genre, взять один из его\n",
    "#    столбцов и посчитать методом count() количество записей для каждого из\n",
    "#    присутствующих жанров, получившийся Series записать в переменную\n",
    "#    genre_df_count\n",
    "# 3) отсортировать genre_df_count по убыванию встречаемости и сохранить\n",
    "#    в переменную genre_df_sorted\n",
    "# 4) вернуть Series из 10 первых значений genre_df_sorted, это будут топ-10\n",
    "#    популярных жанров (в указанный день, в заданное время)"
   ]
  },
  {
   "cell_type": "markdown",
   "metadata": {
    "id": "la2s2_PF_Zcu"
   },
   "source": [
    "Cравните результаты функции `genre_weekday()` для Москвы и Санкт-Петербурга в понедельник утром (с 7:00 до 11:00) и в пятницу вечером (с 17:00 до 23:00):"
   ]
  },
  {
   "cell_type": "code",
   "execution_count": 34,
   "metadata": {
    "id": "yz7itPUQ_Zcu"
   },
   "outputs": [
    {
     "data": {
      "text/plain": [
       "genre\n",
       "pop            781\n",
       "dance          549\n",
       "electronic     480\n",
       "rock           474\n",
       "hiphop         286\n",
       "ruspop         186\n",
       "world          181\n",
       "rusrap         175\n",
       "alternative    164\n",
       "unknown        161\n",
       "Name: time, dtype: int64"
      ]
     },
     "execution_count": 34,
     "metadata": {},
     "output_type": "execute_result"
    }
   ],
   "source": [
    "# вызов функции для утра понедельника в Москве (вместо df — таблица moscow_general)\n",
    "genre_weekday(moscow_general, 'Monday', '07:00', '11:00')\n",
    "# объекты, хранящие время, являются строками и сравниваются как строки\n",
    "# пример вызова: genre_weekday(moscow_general, 'Monday', '07:00', '11:00')"
   ]
  },
  {
   "cell_type": "code",
   "execution_count": 35,
   "metadata": {
    "id": "kwUcHPdy_Zcu"
   },
   "outputs": [
    {
     "data": {
      "text/plain": [
       "genre\n",
       "pop            218\n",
       "dance          182\n",
       "rock           162\n",
       "electronic     147\n",
       "hiphop          80\n",
       "ruspop          64\n",
       "alternative     58\n",
       "rusrap          55\n",
       "jazz            44\n",
       "classical       40\n",
       "Name: time, dtype: int64"
      ]
     },
     "execution_count": 35,
     "metadata": {},
     "output_type": "execute_result"
    }
   ],
   "source": [
    "# вызов функции для утра понедельника в Петербурге (вместо df — таблица spb_general)\n",
    "genre_weekday(spb_general, 'Monday', '07:00', '11:00')"
   ]
  },
  {
   "cell_type": "code",
   "execution_count": 36,
   "metadata": {
    "id": "EzXVRE1o_Zcu"
   },
   "outputs": [
    {
     "data": {
      "text/plain": [
       "genre\n",
       "pop            713\n",
       "rock           517\n",
       "dance          495\n",
       "electronic     482\n",
       "hiphop         273\n",
       "world          208\n",
       "ruspop         170\n",
       "alternative    163\n",
       "classical      163\n",
       "rusrap         142\n",
       "Name: time, dtype: int64"
      ]
     },
     "execution_count": 36,
     "metadata": {},
     "output_type": "execute_result"
    }
   ],
   "source": [
    "# вызов функции для вечера пятницы в Москве\n",
    "genre_weekday(moscow_general, 'Friday', '17:00', '23:00')"
   ]
  },
  {
   "cell_type": "code",
   "execution_count": 37,
   "metadata": {
    "id": "JZaEKu5v_Zcu"
   },
   "outputs": [
    {
     "data": {
      "text/plain": [
       "genre\n",
       "pop            256\n",
       "electronic     216\n",
       "rock           216\n",
       "dance          210\n",
       "hiphop          97\n",
       "alternative     63\n",
       "jazz            61\n",
       "classical       60\n",
       "rusrap          59\n",
       "world           54\n",
       "Name: time, dtype: int64"
      ]
     },
     "execution_count": 37,
     "metadata": {},
     "output_type": "execute_result"
    }
   ],
   "source": [
    "# вызов функции для вечера пятницы в Петербурге\n",
    "genre_weekday(spb_general, 'Friday', '17:00', '23:00')"
   ]
  },
  {
   "cell_type": "markdown",
   "metadata": {
    "id": "wrCe4MNX_Zcu"
   },
   "source": [
    "**Выводы**\n",
    "\n",
    "Если сравнить топ-10 жанров в понедельник утром, можно сделать такие выводы:\n",
    "\n",
    "1. В Москве и Петербурге слушают похожую музыку. Единственное отличие — в московский рейтинг вошёл жанр “world”, а в петербургский — джаз и классика.\n",
    "\n",
    "2. В Москве пропущенных значений оказалось так много, что значение `'unknown'` заняло десятое место среди самых популярных жанров. Значит, пропущенные значения занимают существенную долю в данных и угрожают достоверности исследования.\n",
    "\n",
    "Вечер пятницы не меняет эту картину. Некоторые жанры поднимаются немного выше, другие спускаются, но в целом топ-10 остаётся тем же самым.\n",
    "\n",
    "Таким образом, вторая гипотеза подтвердилась лишь частично:\n",
    "* Пользователи слушают похожую музыку в начале недели и в конце.\n",
    "* Разница между Москвой и Петербургом не слишком выражена. В Москве чаще слушают русскую популярную музыку, в Петербурге — джаз.\n",
    "\n",
    "Однако пропуски в данных ставят под сомнение этот результат. В Москве их так много, что рейтинг топ-10 мог бы выглядеть иначе, если бы не утерянные  данные о жанрах."
   ]
  },
  {
   "cell_type": "markdown",
   "metadata": {
    "id": "JolODAqr_Zcu"
   },
   "source": [
    "### Жанровые предпочтения в Москве и Петербурге\n",
    "\n",
    "Гипотеза: Петербург — столица рэпа, музыку этого жанра там слушают чаще, чем в Москве.  А Москва — город контрастов, в котором, тем не менее, преобладает поп-музыка."
   ]
  },
  {
   "cell_type": "markdown",
   "metadata": {
    "id": "DlegSvaT_Zcu"
   },
   "source": [
    "Сгруппируйте таблицу `moscow_general` по жанру и посчитайте прослушивания треков каждого жанра методом `count()`. Затем отсортируйте результат в порядке убывания и сохраните его в таблице `moscow_genres`."
   ]
  },
  {
   "cell_type": "code",
   "execution_count": 38,
   "metadata": {
    "id": "r19lIPke_Zcu"
   },
   "outputs": [],
   "source": [
    "# одной строкой: группировка таблицы moscow_general по столбцу 'genre',\n",
    "moscow_general.groupby('genre')\n",
    "# подсчёт числа значений 'genre' в этой группировке методом count(),\n",
    "moscow_general.groupby('genre').count()\n",
    "# сортировка получившегося Series в порядке убывания и сохранение в moscow_genres\n",
    "moscow_genres = moscow_general.sort_values(by='genre', ascending=False)"
   ]
  },
  {
   "cell_type": "markdown",
   "metadata": {
    "id": "6kMuomxTiIr8"
   },
   "source": [
    "Выведите на экран первые десять строк `moscow_genres`:"
   ]
  },
  {
   "cell_type": "code",
   "execution_count": 39,
   "metadata": {
    "id": "WhCSooF8_Zcv"
   },
   "outputs": [
    {
     "data": {
      "text/html": [
       "<div>\n",
       "<style scoped>\n",
       "    .dataframe tbody tr th:only-of-type {\n",
       "        vertical-align: middle;\n",
       "    }\n",
       "\n",
       "    .dataframe tbody tr th {\n",
       "        vertical-align: top;\n",
       "    }\n",
       "\n",
       "    .dataframe thead th {\n",
       "        text-align: right;\n",
       "    }\n",
       "</style>\n",
       "<table border=\"1\" class=\"dataframe\">\n",
       "  <thead>\n",
       "    <tr style=\"text-align: right;\">\n",
       "      <th></th>\n",
       "      <th>user_id</th>\n",
       "      <th>track</th>\n",
       "      <th>artist</th>\n",
       "      <th>genre</th>\n",
       "      <th>city</th>\n",
       "      <th>time</th>\n",
       "      <th>day</th>\n",
       "    </tr>\n",
       "  </thead>\n",
       "  <tbody>\n",
       "    <tr>\n",
       "      <th>8448</th>\n",
       "      <td>A439123F</td>\n",
       "      <td>Flip It</td>\n",
       "      <td>unknown</td>\n",
       "      <td>ïîï</td>\n",
       "      <td>Moscow</td>\n",
       "      <td>09:08:51</td>\n",
       "      <td>Friday</td>\n",
       "    </tr>\n",
       "    <tr>\n",
       "      <th>27939</th>\n",
       "      <td>D7FB50DA</td>\n",
       "      <td>Drumming Circle</td>\n",
       "      <td>Professor Trance</td>\n",
       "      <td>worldbeat</td>\n",
       "      <td>Moscow</td>\n",
       "      <td>09:30:47</td>\n",
       "      <td>Monday</td>\n",
       "    </tr>\n",
       "    <tr>\n",
       "      <th>39834</th>\n",
       "      <td>D9367DF3</td>\n",
       "      <td>Любовь без слов</td>\n",
       "      <td>unknown</td>\n",
       "      <td>world</td>\n",
       "      <td>Moscow</td>\n",
       "      <td>21:23:47</td>\n",
       "      <td>Friday</td>\n",
       "    </tr>\n",
       "    <tr>\n",
       "      <th>41270</th>\n",
       "      <td>B8E16D8</td>\n",
       "      <td>Салам алейкум</td>\n",
       "      <td>Лилия Шаулухова</td>\n",
       "      <td>world</td>\n",
       "      <td>Moscow</td>\n",
       "      <td>20:09:09</td>\n",
       "      <td>Wednesday</td>\n",
       "    </tr>\n",
       "    <tr>\n",
       "      <th>1731</th>\n",
       "      <td>C90A240D</td>\n",
       "      <td>Not That Type</td>\n",
       "      <td>gugudan</td>\n",
       "      <td>world</td>\n",
       "      <td>Moscow</td>\n",
       "      <td>09:25:23</td>\n",
       "      <td>Monday</td>\n",
       "    </tr>\n",
       "    <tr>\n",
       "      <th>18062</th>\n",
       "      <td>73E0C9DC</td>\n",
       "      <td>不再联系</td>\n",
       "      <td>程响</td>\n",
       "      <td>world</td>\n",
       "      <td>Moscow</td>\n",
       "      <td>09:31:26</td>\n",
       "      <td>Friday</td>\n",
       "    </tr>\n",
       "    <tr>\n",
       "      <th>41392</th>\n",
       "      <td>71BF1626</td>\n",
       "      <td>Alla Beni Pulla Beni</td>\n",
       "      <td>NEŞE TURAN</td>\n",
       "      <td>world</td>\n",
       "      <td>Moscow</td>\n",
       "      <td>14:52:29</td>\n",
       "      <td>Monday</td>\n",
       "    </tr>\n",
       "    <tr>\n",
       "      <th>6496</th>\n",
       "      <td>421D4DA8</td>\n",
       "      <td>Iza</td>\n",
       "      <td>Ducu Bertzi</td>\n",
       "      <td>world</td>\n",
       "      <td>Moscow</td>\n",
       "      <td>14:47:32</td>\n",
       "      <td>Monday</td>\n",
       "    </tr>\n",
       "    <tr>\n",
       "      <th>26460</th>\n",
       "      <td>76A558F9</td>\n",
       "      <td>Jaguar</td>\n",
       "      <td>Stribor Kusturica And The Poisoners</td>\n",
       "      <td>world</td>\n",
       "      <td>Moscow</td>\n",
       "      <td>13:22:56</td>\n",
       "      <td>Monday</td>\n",
       "    </tr>\n",
       "    <tr>\n",
       "      <th>41366</th>\n",
       "      <td>C22A0701</td>\n",
       "      <td>Arabic Nights \"El Habibi\"</td>\n",
       "      <td>EthnoDance</td>\n",
       "      <td>world</td>\n",
       "      <td>Moscow</td>\n",
       "      <td>21:35:37</td>\n",
       "      <td>Wednesday</td>\n",
       "    </tr>\n",
       "  </tbody>\n",
       "</table>\n",
       "</div>"
      ],
      "text/plain": [
       "        user_id                      track  \\\n",
       "8448   A439123F                    Flip It   \n",
       "27939  D7FB50DA            Drumming Circle   \n",
       "39834  D9367DF3            Любовь без слов   \n",
       "41270   B8E16D8              Салам алейкум   \n",
       "1731   C90A240D              Not That Type   \n",
       "18062  73E0C9DC                       不再联系   \n",
       "41392  71BF1626       Alla Beni Pulla Beni   \n",
       "6496   421D4DA8                        Iza   \n",
       "26460  76A558F9                     Jaguar   \n",
       "41366  C22A0701  Arabic Nights \"El Habibi\"   \n",
       "\n",
       "                                    artist      genre    city      time  \\\n",
       "8448                               unknown        ïîï  Moscow  09:08:51   \n",
       "27939                     Professor Trance  worldbeat  Moscow  09:30:47   \n",
       "39834                              unknown      world  Moscow  21:23:47   \n",
       "41270                      Лилия Шаулухова      world  Moscow  20:09:09   \n",
       "1731                               gugudan      world  Moscow  09:25:23   \n",
       "18062                                   程响      world  Moscow  09:31:26   \n",
       "41392                           NEŞE TURAN      world  Moscow  14:52:29   \n",
       "6496                           Ducu Bertzi      world  Moscow  14:47:32   \n",
       "26460  Stribor Kusturica And The Poisoners      world  Moscow  13:22:56   \n",
       "41366                           EthnoDance      world  Moscow  21:35:37   \n",
       "\n",
       "             day  \n",
       "8448      Friday  \n",
       "27939     Monday  \n",
       "39834     Friday  \n",
       "41270  Wednesday  \n",
       "1731      Monday  \n",
       "18062     Friday  \n",
       "41392     Monday  \n",
       "6496      Monday  \n",
       "26460     Monday  \n",
       "41366  Wednesday  "
      ]
     },
     "execution_count": 39,
     "metadata": {},
     "output_type": "execute_result"
    }
   ],
   "source": [
    "moscow_genres.head(10) # просмотр первых 10 строк moscow_genres"
   ]
  },
  {
   "cell_type": "markdown",
   "metadata": {},
   "source": [
    "Сохраняем в новый датафрейи сгруппированые и отсортированные данные."
   ]
  },
  {
   "cell_type": "code",
   "execution_count": 40,
   "metadata": {},
   "outputs": [
    {
     "data": {
      "text/plain": [
       "genre\n",
       "pop            5892\n",
       "dance          4435\n",
       "rock           3965\n",
       "electronic     3786\n",
       "hiphop         2096\n",
       "classical      1616\n",
       "world          1432\n",
       "alternative    1379\n",
       "ruspop         1372\n",
       "rusrap         1161\n",
       "Name: genre, dtype: int64"
      ]
     },
     "execution_count": 40,
     "metadata": {},
     "output_type": "execute_result"
    }
   ],
   "source": [
    "moscow_genres=moscow_general.groupby('genre')['genre'].count().sort_values(ascending=False)\n",
    "moscow_genres.head(10) # просмотр первых 10 строк moscow_genres"
   ]
  },
  {
   "cell_type": "markdown",
   "metadata": {
    "id": "cnPG2vnN_Zcv"
   },
   "source": [
    "Теперь повторите то же и для Петербурга.\n",
    "\n",
    "Сгруппируйте таблицу `spb_general` по жанру. Посчитайте прослушивания треков каждого жанра. Результат отсортируйте в порядке убывания и сохраните в таблице `spb_genres`:\n"
   ]
  },
  {
   "cell_type": "code",
   "execution_count": 41,
   "metadata": {
    "id": "gluLIpE7_Zcv"
   },
   "outputs": [],
   "source": [
    "# одной строкой: группировка таблицы spb_general по столбцу 'genre', \n",
    "spb_general.groupby('genre')\n",
    "# подсчёт числа значений 'genre' в этой группировке методом count(),\n",
    "spb_general.groupby('genre').count()\n",
    "# сортировка получившегося Series в порядке убывания и сохранение в spb_genres\n",
    "spb_genres = spb_general.sort_values(by='genre', ascending=False)"
   ]
  },
  {
   "cell_type": "markdown",
   "metadata": {
    "id": "5Doha_ODgyQ8"
   },
   "source": [
    "Выведите на экран первые десять строк `spb_genres`:"
   ]
  },
  {
   "cell_type": "code",
   "execution_count": 42,
   "metadata": {
    "id": "uaGJHjVU_Zcv"
   },
   "outputs": [
    {
     "data": {
      "text/html": [
       "<div>\n",
       "<style scoped>\n",
       "    .dataframe tbody tr th:only-of-type {\n",
       "        vertical-align: middle;\n",
       "    }\n",
       "\n",
       "    .dataframe tbody tr th {\n",
       "        vertical-align: top;\n",
       "    }\n",
       "\n",
       "    .dataframe thead th {\n",
       "        text-align: right;\n",
       "    }\n",
       "</style>\n",
       "<table border=\"1\" class=\"dataframe\">\n",
       "  <thead>\n",
       "    <tr style=\"text-align: right;\">\n",
       "      <th></th>\n",
       "      <th>user_id</th>\n",
       "      <th>track</th>\n",
       "      <th>artist</th>\n",
       "      <th>genre</th>\n",
       "      <th>city</th>\n",
       "      <th>time</th>\n",
       "      <th>day</th>\n",
       "    </tr>\n",
       "  </thead>\n",
       "  <tbody>\n",
       "    <tr>\n",
       "      <th>6465</th>\n",
       "      <td>1D4661</td>\n",
       "      <td>Раз два три</td>\n",
       "      <td>Какао</td>\n",
       "      <td>электроника</td>\n",
       "      <td>Saint-Petersburg</td>\n",
       "      <td>08:54:15</td>\n",
       "      <td>Wednesday</td>\n",
       "    </tr>\n",
       "    <tr>\n",
       "      <th>39063</th>\n",
       "      <td>AA1730E8</td>\n",
       "      <td>Anu</td>\n",
       "      <td>Kailash Kokopelli</td>\n",
       "      <td>worldbeat</td>\n",
       "      <td>Saint-Petersburg</td>\n",
       "      <td>20:16:34</td>\n",
       "      <td>Wednesday</td>\n",
       "    </tr>\n",
       "    <tr>\n",
       "      <th>40711</th>\n",
       "      <td>529A338E</td>\n",
       "      <td>Ramy Sabry \"Ta'ali\"</td>\n",
       "      <td>DJ Nabil</td>\n",
       "      <td>world</td>\n",
       "      <td>Saint-Petersburg</td>\n",
       "      <td>21:21:07</td>\n",
       "      <td>Friday</td>\n",
       "    </tr>\n",
       "    <tr>\n",
       "      <th>57757</th>\n",
       "      <td>346725AB</td>\n",
       "      <td>Dolce vita</td>\n",
       "      <td>Ryan Paris</td>\n",
       "      <td>world</td>\n",
       "      <td>Saint-Petersburg</td>\n",
       "      <td>09:39:50</td>\n",
       "      <td>Wednesday</td>\n",
       "    </tr>\n",
       "    <tr>\n",
       "      <th>33468</th>\n",
       "      <td>7488FB3B</td>\n",
       "      <td>Ancient Sojourn</td>\n",
       "      <td>Greg Joy</td>\n",
       "      <td>world</td>\n",
       "      <td>Saint-Petersburg</td>\n",
       "      <td>08:55:26</td>\n",
       "      <td>Friday</td>\n",
       "    </tr>\n",
       "    <tr>\n",
       "      <th>1175</th>\n",
       "      <td>1FE61D61</td>\n",
       "      <td>Let It Roll (Come On Baby)</td>\n",
       "      <td>Come On Baby</td>\n",
       "      <td>world</td>\n",
       "      <td>Saint-Petersburg</td>\n",
       "      <td>14:45:25</td>\n",
       "      <td>Wednesday</td>\n",
       "    </tr>\n",
       "    <tr>\n",
       "      <th>57789</th>\n",
       "      <td>68CEE95E</td>\n",
       "      <td>The Golden Temple</td>\n",
       "      <td>Diane Arkenstone</td>\n",
       "      <td>world</td>\n",
       "      <td>Saint-Petersburg</td>\n",
       "      <td>21:48:46</td>\n",
       "      <td>Wednesday</td>\n",
       "    </tr>\n",
       "    <tr>\n",
       "      <th>49134</th>\n",
       "      <td>F3FB8127</td>\n",
       "      <td>Dari Lolo</td>\n",
       "      <td>Aravod</td>\n",
       "      <td>world</td>\n",
       "      <td>Saint-Petersburg</td>\n",
       "      <td>21:48:19</td>\n",
       "      <td>Friday</td>\n",
       "    </tr>\n",
       "    <tr>\n",
       "      <th>12864</th>\n",
       "      <td>143A3AAF</td>\n",
       "      <td>C'est si bon / Love Paris paname</td>\n",
       "      <td>Paul Mauriat</td>\n",
       "      <td>world</td>\n",
       "      <td>Saint-Petersburg</td>\n",
       "      <td>21:55:18</td>\n",
       "      <td>Friday</td>\n",
       "    </tr>\n",
       "    <tr>\n",
       "      <th>42064</th>\n",
       "      <td>7BCE2FD6</td>\n",
       "      <td>Marches</td>\n",
       "      <td>The Regimental Band Pipes And Drums Of The Bla...</td>\n",
       "      <td>world</td>\n",
       "      <td>Saint-Petersburg</td>\n",
       "      <td>08:04:51</td>\n",
       "      <td>Friday</td>\n",
       "    </tr>\n",
       "  </tbody>\n",
       "</table>\n",
       "</div>"
      ],
      "text/plain": [
       "        user_id                             track  \\\n",
       "6465     1D4661                       Раз два три   \n",
       "39063  AA1730E8                               Anu   \n",
       "40711  529A338E               Ramy Sabry \"Ta'ali\"   \n",
       "57757  346725AB                        Dolce vita   \n",
       "33468  7488FB3B                   Ancient Sojourn   \n",
       "1175   1FE61D61        Let It Roll (Come On Baby)   \n",
       "57789  68CEE95E                 The Golden Temple   \n",
       "49134  F3FB8127                         Dari Lolo   \n",
       "12864  143A3AAF  C'est si bon / Love Paris paname   \n",
       "42064  7BCE2FD6                           Marches   \n",
       "\n",
       "                                                  artist        genre  \\\n",
       "6465                                               Какао  электроника   \n",
       "39063                                  Kailash Kokopelli    worldbeat   \n",
       "40711                                           DJ Nabil        world   \n",
       "57757                                         Ryan Paris        world   \n",
       "33468                                           Greg Joy        world   \n",
       "1175                                        Come On Baby        world   \n",
       "57789                                   Diane Arkenstone        world   \n",
       "49134                                             Aravod        world   \n",
       "12864                                       Paul Mauriat        world   \n",
       "42064  The Regimental Band Pipes And Drums Of The Bla...        world   \n",
       "\n",
       "                   city      time        day  \n",
       "6465   Saint-Petersburg  08:54:15  Wednesday  \n",
       "39063  Saint-Petersburg  20:16:34  Wednesday  \n",
       "40711  Saint-Petersburg  21:21:07     Friday  \n",
       "57757  Saint-Petersburg  09:39:50  Wednesday  \n",
       "33468  Saint-Petersburg  08:55:26     Friday  \n",
       "1175   Saint-Petersburg  14:45:25  Wednesday  \n",
       "57789  Saint-Petersburg  21:48:46  Wednesday  \n",
       "49134  Saint-Petersburg  21:48:19     Friday  \n",
       "12864  Saint-Petersburg  21:55:18     Friday  \n",
       "42064  Saint-Petersburg  08:04:51     Friday  "
      ]
     },
     "execution_count": 42,
     "metadata": {},
     "output_type": "execute_result"
    }
   ],
   "source": [
    "spb_genres.head(10) # просмотр первых 10 строк spb_genres"
   ]
  },
  {
   "cell_type": "markdown",
   "metadata": {},
   "source": [
    "Сохраняем в новый датафрейи spb_genres сгруппированые и отсортированные данные.\n"
   ]
  },
  {
   "cell_type": "code",
   "execution_count": 43,
   "metadata": {},
   "outputs": [
    {
     "data": {
      "text/plain": [
       "genre\n",
       "pop            2431\n",
       "dance          1932\n",
       "rock           1879\n",
       "electronic     1736\n",
       "hiphop          960\n",
       "alternative     649\n",
       "classical       646\n",
       "rusrap          564\n",
       "ruspop          538\n",
       "world           515\n",
       "Name: genre, dtype: int64"
      ]
     },
     "execution_count": 43,
     "metadata": {},
     "output_type": "execute_result"
    }
   ],
   "source": [
    "spb_general = spb_general.groupby('genre')['genre'].count().sort_values(ascending=False)\n",
    "spb_general.head(10) # просмотр первых 10 строк spb_general"
   ]
  },
  {
   "cell_type": "markdown",
   "metadata": {
    "id": "RY51YJYu_Zcv"
   },
   "source": [
    "**Выводы**"
   ]
  },
  {
   "cell_type": "markdown",
   "metadata": {
    "id": "nVhnJEm__Zcv"
   },
   "source": [
    "Гипотеза частично подтвердилась:\n",
    "* Поп-музыка — самый популярный жанр в Москве, как и предполагала гипотеза. Более того, в топ-10 жанров встречается близкий жанр — русская популярная музыка.\n",
    "* Вопреки ожиданиям, рэп одинаково популярен в Москве и Петербурге. \n"
   ]
  },
  {
   "cell_type": "markdown",
   "metadata": {
    "id": "ykKQ0N65_Zcv"
   },
   "source": [
    "## Итоги исследования"
   ]
  },
  {
   "cell_type": "markdown",
   "metadata": {
    "id": "tjUwbHb3_Zcv"
   },
   "source": [
    "Вы проверили три гипотезы и установили:\n",
    "\n",
    "1. День недели по-разному влияет на активность пользователей в Москве и Петербурге. \n",
    "\n",
    "Первая гипотеза полностью подтвердилась.\n",
    "\n",
    "2. Музыкальные предпочтения не сильно меняются в течение недели — будь то Москва или Петербург. Небольшие различия заметны в начале недели, по понедельникам:\n",
    "* в Москве слушают музыку жанра “world”,\n",
    "* в Петербурге — джаз и классику.\n",
    "\n",
    "Таким образом, вторая гипотеза подтвердилась лишь отчасти. Этот результат мог оказаться иным, если бы не пропуски в данных.\n",
    "\n",
    "3. Во вкусах пользователей Москвы и Петербурга больше общего чем различий. Вопреки ожиданиям, предпочтения жанров в Петербурге напоминают московские.\n",
    "\n",
    "Третья гипотеза не подтвердилась. Если различия в предпочтениях и существуют, на основной массе пользователей они незаметны.\n",
    "\n",
    "**На практике исследования содержат проверки статистических гипотез.**\n",
    "Из данных одного сервиса не всегда можно сделать вывод о всех жителях города.\n",
    "Проверки статистических гипотез покажут, насколько они достоверны, исходя из имеющихся данных. \n",
    "С методами проверок гипотез вы ещё познакомитесь в следующих темах."
   ]
  }
 ],
 "metadata": {
  "ExecuteTimeLog": [
   {
    "duration": 501,
    "start_time": "2022-04-01T05:22:11.403Z"
   },
   {
    "duration": 3,
    "start_time": "2022-04-01T05:22:32.338Z"
   },
   {
    "duration": 189,
    "start_time": "2022-04-01T05:26:23.019Z"
   },
   {
    "duration": 71,
    "start_time": "2022-04-01T06:00:17.237Z"
   },
   {
    "duration": 8,
    "start_time": "2022-04-01T06:04:10.619Z"
   },
   {
    "duration": 521,
    "start_time": "2022-04-01T06:04:42.680Z"
   },
   {
    "duration": 122,
    "start_time": "2022-04-01T06:05:05.986Z"
   },
   {
    "duration": 75,
    "start_time": "2022-04-01T06:06:44.838Z"
   },
   {
    "duration": 122,
    "start_time": "2022-04-01T06:07:51.900Z"
   },
   {
    "duration": 71,
    "start_time": "2022-04-01T06:08:19.900Z"
   },
   {
    "duration": 117,
    "start_time": "2022-04-01T06:09:40.864Z"
   },
   {
    "duration": 123,
    "start_time": "2022-04-01T06:09:52.754Z"
   },
   {
    "duration": 99,
    "start_time": "2022-04-01T06:11:58.114Z"
   },
   {
    "duration": 140,
    "start_time": "2022-04-01T06:12:18.624Z"
   },
   {
    "duration": 107,
    "start_time": "2022-04-01T06:13:43.013Z"
   },
   {
    "duration": 114,
    "start_time": "2022-04-01T06:13:57.758Z"
   },
   {
    "duration": 134,
    "start_time": "2022-04-01T06:14:01.994Z"
   },
   {
    "duration": 139,
    "start_time": "2022-04-01T06:14:24.153Z"
   },
   {
    "duration": 113,
    "start_time": "2022-04-01T06:15:01.706Z"
   },
   {
    "duration": 172,
    "start_time": "2022-04-01T06:15:08.441Z"
   },
   {
    "duration": 113,
    "start_time": "2022-04-01T06:15:28.564Z"
   },
   {
    "duration": 123,
    "start_time": "2022-04-01T06:16:41.629Z"
   },
   {
    "duration": 108,
    "start_time": "2022-04-01T06:17:26.755Z"
   },
   {
    "duration": 216,
    "start_time": "2022-04-01T06:23:19.064Z"
   },
   {
    "duration": 217,
    "start_time": "2022-04-01T06:23:41.007Z"
   },
   {
    "duration": 26,
    "start_time": "2022-04-01T06:25:46.127Z"
   },
   {
    "duration": 214,
    "start_time": "2022-04-01T06:26:28.816Z"
   },
   {
    "duration": 50,
    "start_time": "2022-04-01T06:27:39.413Z"
   },
   {
    "duration": 10,
    "start_time": "2022-04-01T06:56:26.739Z"
   },
   {
    "duration": 6,
    "start_time": "2022-04-01T06:56:41.136Z"
   },
   {
    "duration": 18,
    "start_time": "2022-04-01T07:03:04.863Z"
   },
   {
    "duration": 5,
    "start_time": "2022-04-01T07:03:40.206Z"
   },
   {
    "duration": 36,
    "start_time": "2022-04-01T07:19:04.838Z"
   },
   {
    "duration": 11,
    "start_time": "2022-04-01T07:22:17.540Z"
   },
   {
    "duration": 6,
    "start_time": "2022-04-01T07:22:24.106Z"
   },
   {
    "duration": 35,
    "start_time": "2022-04-01T07:22:33.493Z"
   },
   {
    "duration": 2167,
    "start_time": "2022-04-01T08:49:11.843Z"
   },
   {
    "duration": 25,
    "start_time": "2022-04-01T08:50:42.673Z"
   },
   {
    "duration": 35,
    "start_time": "2022-04-01T08:51:23.747Z"
   },
   {
    "duration": 100,
    "start_time": "2022-04-01T08:54:34.163Z"
   },
   {
    "duration": 6,
    "start_time": "2022-04-01T08:55:30.213Z"
   },
   {
    "duration": 17,
    "start_time": "2022-04-01T08:56:03.584Z"
   },
   {
    "duration": 128,
    "start_time": "2022-04-01T08:59:12.220Z"
   },
   {
    "duration": 100,
    "start_time": "2022-04-01T08:59:41.232Z"
   },
   {
    "duration": 1918,
    "start_time": "2022-04-01T09:04:41.712Z"
   },
   {
    "duration": 13,
    "start_time": "2022-04-01T09:05:06.308Z"
   },
   {
    "duration": 10,
    "start_time": "2022-04-01T09:17:13.685Z"
   },
   {
    "duration": 10,
    "start_time": "2022-04-01T09:23:25.527Z"
   },
   {
    "duration": 5,
    "start_time": "2022-04-01T09:26:27.846Z"
   },
   {
    "duration": 15,
    "start_time": "2022-04-01T09:35:16.776Z"
   },
   {
    "duration": 10,
    "start_time": "2022-04-01T09:36:41.218Z"
   },
   {
    "duration": 73,
    "start_time": "2022-04-01T09:46:08.166Z"
   },
   {
    "duration": 17,
    "start_time": "2022-04-01T09:48:16.528Z"
   },
   {
    "duration": 50,
    "start_time": "2022-04-01T09:51:05.453Z"
   },
   {
    "duration": 48,
    "start_time": "2022-04-01T09:53:34.339Z"
   },
   {
    "duration": 8,
    "start_time": "2022-04-01T10:12:59.971Z"
   },
   {
    "duration": 9,
    "start_time": "2022-04-01T10:23:39.854Z"
   },
   {
    "duration": 5,
    "start_time": "2022-04-01T10:28:35.818Z"
   },
   {
    "duration": 22,
    "start_time": "2022-04-01T10:28:43.524Z"
   },
   {
    "duration": 21,
    "start_time": "2022-04-01T10:29:20.823Z"
   },
   {
    "duration": 20,
    "start_time": "2022-04-01T10:29:44.591Z"
   },
   {
    "duration": 22,
    "start_time": "2022-04-01T10:30:19.045Z"
   },
   {
    "duration": 24,
    "start_time": "2022-04-01T10:31:02.972Z"
   },
   {
    "duration": 19,
    "start_time": "2022-04-01T10:31:11.229Z"
   },
   {
    "duration": 17,
    "start_time": "2022-04-01T10:32:51.434Z"
   },
   {
    "duration": 40,
    "start_time": "2022-04-01T10:40:33.557Z"
   },
   {
    "duration": 26,
    "start_time": "2022-04-01T10:44:28.670Z"
   },
   {
    "duration": 7,
    "start_time": "2022-04-01T10:54:49.786Z"
   },
   {
    "duration": 3,
    "start_time": "2022-04-01T10:59:38.777Z"
   },
   {
    "duration": 4,
    "start_time": "2022-04-01T11:01:04.723Z"
   },
   {
    "duration": 3,
    "start_time": "2022-04-01T11:01:05.239Z"
   },
   {
    "duration": 3,
    "start_time": "2022-04-01T11:01:06.370Z"
   },
   {
    "duration": 24,
    "start_time": "2022-04-01T11:05:49.652Z"
   },
   {
    "duration": 17,
    "start_time": "2022-04-01T11:08:33.349Z"
   },
   {
    "duration": 21,
    "start_time": "2022-04-01T11:10:29.534Z"
   },
   {
    "duration": 10,
    "start_time": "2022-04-01T11:14:24.299Z"
   },
   {
    "duration": 25,
    "start_time": "2022-04-01T11:15:14.053Z"
   },
   {
    "duration": 16,
    "start_time": "2022-04-01T11:15:17.714Z"
   },
   {
    "duration": 23,
    "start_time": "2022-04-01T11:15:18.948Z"
   },
   {
    "duration": 14,
    "start_time": "2022-04-01T11:15:20.282Z"
   },
   {
    "duration": 42,
    "start_time": "2022-04-01T11:41:06.229Z"
   },
   {
    "duration": 16,
    "start_time": "2022-04-01T11:46:29.595Z"
   },
   {
    "duration": 16,
    "start_time": "2022-04-01T11:47:22.550Z"
   },
   {
    "duration": 16,
    "start_time": "2022-04-01T11:49:41.994Z"
   },
   {
    "duration": 107,
    "start_time": "2022-04-01T11:50:44.036Z"
   },
   {
    "duration": 38,
    "start_time": "2022-04-01T11:53:28.963Z"
   },
   {
    "duration": 38,
    "start_time": "2022-04-01T11:58:35.043Z"
   },
   {
    "duration": 40,
    "start_time": "2022-04-01T11:59:06.823Z"
   },
   {
    "duration": 14,
    "start_time": "2022-04-01T12:00:01.019Z"
   },
   {
    "duration": 19,
    "start_time": "2022-04-01T12:00:34.916Z"
   },
   {
    "duration": 24,
    "start_time": "2022-04-01T12:02:54.387Z"
   },
   {
    "duration": 17,
    "start_time": "2022-04-01T12:03:51.072Z"
   },
   {
    "duration": 6,
    "start_time": "2022-04-01T12:22:33.609Z"
   },
   {
    "duration": 6,
    "start_time": "2022-04-01T12:24:15.533Z"
   },
   {
    "duration": 6,
    "start_time": "2022-04-01T12:32:56.448Z"
   },
   {
    "duration": 5,
    "start_time": "2022-04-01T12:45:35.059Z"
   },
   {
    "duration": 32,
    "start_time": "2022-04-01T12:50:03.585Z"
   },
   {
    "duration": 30,
    "start_time": "2022-04-01T12:50:16.138Z"
   },
   {
    "duration": 30,
    "start_time": "2022-04-01T12:50:37.671Z"
   },
   {
    "duration": 30,
    "start_time": "2022-04-01T12:51:04.524Z"
   },
   {
    "duration": 30,
    "start_time": "2022-04-01T12:51:21.583Z"
   },
   {
    "duration": 91,
    "start_time": "2022-04-01T12:51:53.144Z"
   },
   {
    "duration": 32,
    "start_time": "2022-04-01T12:54:00.740Z"
   },
   {
    "duration": 33,
    "start_time": "2022-04-01T12:57:49.362Z"
   },
   {
    "duration": 32,
    "start_time": "2022-04-01T12:58:26.046Z"
   },
   {
    "duration": 32,
    "start_time": "2022-04-01T12:58:48.642Z"
   },
   {
    "duration": 30,
    "start_time": "2022-04-01T13:01:28.451Z"
   },
   {
    "duration": 110,
    "start_time": "2022-04-01T13:03:05.651Z"
   },
   {
    "duration": 6,
    "start_time": "2022-04-01T13:04:53.545Z"
   },
   {
    "duration": 58,
    "start_time": "2022-04-01T13:14:15.112Z"
   },
   {
    "duration": 31,
    "start_time": "2022-04-01T13:14:53.430Z"
   },
   {
    "duration": 31,
    "start_time": "2022-04-01T13:15:02.778Z"
   },
   {
    "duration": 22,
    "start_time": "2022-04-01T13:15:12.955Z"
   },
   {
    "duration": 32,
    "start_time": "2022-04-01T13:15:17.329Z"
   },
   {
    "duration": 96,
    "start_time": "2022-04-01T13:16:45.252Z"
   },
   {
    "duration": 93,
    "start_time": "2022-04-01T13:16:51.294Z"
   },
   {
    "duration": 93,
    "start_time": "2022-04-01T13:17:08.637Z"
   },
   {
    "duration": 13,
    "start_time": "2022-04-01T13:17:19.838Z"
   },
   {
    "duration": 3,
    "start_time": "2022-04-01T13:17:33.703Z"
   },
   {
    "duration": 4,
    "start_time": "2022-04-01T13:18:01.856Z"
   },
   {
    "duration": 3,
    "start_time": "2022-04-01T13:18:31.283Z"
   },
   {
    "duration": 96,
    "start_time": "2022-04-01T13:19:10.839Z"
   },
   {
    "duration": 7,
    "start_time": "2022-04-01T13:31:30.132Z"
   },
   {
    "duration": 16,
    "start_time": "2022-04-01T13:32:26.563Z"
   },
   {
    "duration": 16,
    "start_time": "2022-04-01T13:32:42.928Z"
   },
   {
    "duration": 36,
    "start_time": "2022-04-01T13:32:56.034Z"
   },
   {
    "duration": 46,
    "start_time": "2022-04-01T13:38:51.621Z"
   },
   {
    "duration": 3,
    "start_time": "2022-04-01T13:39:24.314Z"
   },
   {
    "duration": 204,
    "start_time": "2022-04-01T13:39:34.711Z"
   },
   {
    "duration": 17,
    "start_time": "2022-04-01T13:39:44.661Z"
   },
   {
    "duration": 40,
    "start_time": "2022-04-01T13:39:49.665Z"
   },
   {
    "duration": 9,
    "start_time": "2022-04-01T13:40:04.173Z"
   },
   {
    "duration": 13,
    "start_time": "2022-04-01T13:40:17.561Z"
   },
   {
    "duration": 6,
    "start_time": "2022-04-01T13:40:26.333Z"
   },
   {
    "duration": 34,
    "start_time": "2022-04-01T13:40:36.483Z"
   },
   {
    "duration": 24,
    "start_time": "2022-04-01T13:40:47.356Z"
   },
   {
    "duration": 33,
    "start_time": "2022-04-01T13:40:53.993Z"
   },
   {
    "duration": 102,
    "start_time": "2022-04-01T13:41:03.407Z"
   },
   {
    "duration": 99,
    "start_time": "2022-04-01T13:41:11.331Z"
   },
   {
    "duration": 91,
    "start_time": "2022-04-01T13:41:14.019Z"
   },
   {
    "duration": 11,
    "start_time": "2022-04-01T13:41:24.710Z"
   },
   {
    "duration": 4,
    "start_time": "2022-04-01T13:41:38.786Z"
   },
   {
    "duration": 15,
    "start_time": "2022-04-01T13:41:48.283Z"
   },
   {
    "duration": 9,
    "start_time": "2022-04-01T13:41:51.492Z"
   },
   {
    "duration": 48,
    "start_time": "2022-04-01T13:42:03.098Z"
   },
   {
    "duration": 50,
    "start_time": "2022-04-01T13:42:10.217Z"
   },
   {
    "duration": 6,
    "start_time": "2022-04-01T13:42:22.356Z"
   },
   {
    "duration": 23,
    "start_time": "2022-04-01T13:42:31.857Z"
   },
   {
    "duration": 20,
    "start_time": "2022-04-01T13:42:33.131Z"
   },
   {
    "duration": 21,
    "start_time": "2022-04-01T13:42:34.098Z"
   },
   {
    "duration": 20,
    "start_time": "2022-04-01T13:42:35.576Z"
   },
   {
    "duration": 23,
    "start_time": "2022-04-01T13:42:36.843Z"
   },
   {
    "duration": 20,
    "start_time": "2022-04-01T13:42:37.870Z"
   },
   {
    "duration": 18,
    "start_time": "2022-04-01T13:42:45.241Z"
   },
   {
    "duration": 126,
    "start_time": "2022-04-01T14:03:01.696Z"
   },
   {
    "duration": 5,
    "start_time": "2022-04-01T14:04:06.280Z"
   },
   {
    "duration": 11,
    "start_time": "2022-04-01T14:04:21.413Z"
   },
   {
    "duration": 15,
    "start_time": "2022-04-01T14:15:42.637Z"
   },
   {
    "duration": 15,
    "start_time": "2022-04-01T14:17:22.553Z"
   },
   {
    "duration": 111,
    "start_time": "2022-04-01T14:17:49.612Z"
   },
   {
    "duration": 31,
    "start_time": "2022-04-01T14:18:00.029Z"
   },
   {
    "duration": 14,
    "start_time": "2022-04-01T14:20:08.980Z"
   },
   {
    "duration": 17,
    "start_time": "2022-04-01T14:22:00.946Z"
   },
   {
    "duration": 9,
    "start_time": "2022-04-01T14:23:00.691Z"
   },
   {
    "duration": 10,
    "start_time": "2022-04-01T14:23:05.361Z"
   },
   {
    "duration": 10,
    "start_time": "2022-04-01T14:27:34.196Z"
   },
   {
    "duration": 121,
    "start_time": "2022-04-01T14:27:42.235Z"
   },
   {
    "duration": 118,
    "start_time": "2022-04-01T14:27:49.058Z"
   },
   {
    "duration": 4,
    "start_time": "2022-04-01T14:28:10.717Z"
   },
   {
    "duration": 200,
    "start_time": "2022-04-01T14:28:13.177Z"
   },
   {
    "duration": 17,
    "start_time": "2022-04-01T14:28:14.788Z"
   },
   {
    "duration": 41,
    "start_time": "2022-04-01T14:28:19.741Z"
   },
   {
    "duration": 6,
    "start_time": "2022-04-01T14:28:27.778Z"
   },
   {
    "duration": 15,
    "start_time": "2022-04-01T14:28:38.509Z"
   },
   {
    "duration": 6,
    "start_time": "2022-04-01T14:28:45.011Z"
   },
   {
    "duration": 33,
    "start_time": "2022-04-01T14:28:52.729Z"
   },
   {
    "duration": 25,
    "start_time": "2022-04-01T14:29:35.967Z"
   },
   {
    "duration": 34,
    "start_time": "2022-04-01T14:29:40.765Z"
   },
   {
    "duration": 102,
    "start_time": "2022-04-01T14:29:47.226Z"
   },
   {
    "duration": 104,
    "start_time": "2022-04-01T14:30:11.596Z"
   },
   {
    "duration": 99,
    "start_time": "2022-04-01T14:30:17.487Z"
   },
   {
    "duration": 11,
    "start_time": "2022-04-01T14:30:25.053Z"
   },
   {
    "duration": 14,
    "start_time": "2022-04-01T14:31:27.336Z"
   },
   {
    "duration": 55,
    "start_time": "2022-04-01T14:32:32.671Z"
   },
   {
    "duration": 53,
    "start_time": "2022-04-01T14:33:37.669Z"
   },
   {
    "duration": 4,
    "start_time": "2022-04-01T14:35:42.236Z"
   },
   {
    "duration": 5,
    "start_time": "2022-04-01T14:35:48.758Z"
   },
   {
    "duration": 12,
    "start_time": "2022-04-01T14:35:54.581Z"
   },
   {
    "duration": 55,
    "start_time": "2022-04-01T14:36:50.612Z"
   },
   {
    "duration": 125,
    "start_time": "2022-04-01T14:37:35.315Z"
   },
   {
    "duration": 15,
    "start_time": "2022-04-01T14:37:54.318Z"
   },
   {
    "duration": 4,
    "start_time": "2022-04-01T14:41:28.020Z"
   },
   {
    "duration": 16,
    "start_time": "2022-04-01T14:41:29.720Z"
   },
   {
    "duration": 19,
    "start_time": "2022-04-01T14:41:33.730Z"
   },
   {
    "duration": 10,
    "start_time": "2022-04-01T14:41:57.883Z"
   },
   {
    "duration": 48,
    "start_time": "2022-04-01T14:42:09.353Z"
   },
   {
    "duration": 49,
    "start_time": "2022-04-01T14:42:17.153Z"
   },
   {
    "duration": 5,
    "start_time": "2022-04-01T14:42:22.826Z"
   },
   {
    "duration": 33,
    "start_time": "2022-04-01T14:42:26.576Z"
   },
   {
    "duration": 19,
    "start_time": "2022-04-01T14:42:27.447Z"
   },
   {
    "duration": 21,
    "start_time": "2022-04-01T14:42:28.215Z"
   },
   {
    "duration": 20,
    "start_time": "2022-04-01T14:42:28.868Z"
   },
   {
    "duration": 22,
    "start_time": "2022-04-01T14:42:29.566Z"
   },
   {
    "duration": 20,
    "start_time": "2022-04-01T14:42:32.129Z"
   },
   {
    "duration": 17,
    "start_time": "2022-04-01T14:42:34.811Z"
   },
   {
    "duration": 28,
    "start_time": "2022-04-01T14:42:50.356Z"
   },
   {
    "duration": 23,
    "start_time": "2022-04-01T14:42:51.626Z"
   },
   {
    "duration": 5,
    "start_time": "2022-04-01T14:42:54.968Z"
   },
   {
    "duration": 24,
    "start_time": "2022-04-01T14:42:57.409Z"
   },
   {
    "duration": 13,
    "start_time": "2022-04-01T14:50:54.941Z"
   },
   {
    "duration": 29,
    "start_time": "2022-04-01T14:52:25.029Z"
   },
   {
    "duration": 26,
    "start_time": "2022-04-01T14:55:31.197Z"
   },
   {
    "duration": 23,
    "start_time": "2022-04-01T14:55:32.616Z"
   },
   {
    "duration": 5,
    "start_time": "2022-04-01T14:55:42.860Z"
   },
   {
    "duration": 26,
    "start_time": "2022-04-01T14:55:45.343Z"
   },
   {
    "duration": 16,
    "start_time": "2022-04-01T15:00:46.195Z"
   },
   {
    "duration": 11,
    "start_time": "2022-04-01T15:00:48.345Z"
   },
   {
    "duration": 19,
    "start_time": "2022-04-01T15:01:22.653Z"
   },
   {
    "duration": 24,
    "start_time": "2022-04-01T15:01:51.162Z"
   },
   {
    "duration": 17,
    "start_time": "2022-04-01T15:07:32.261Z"
   },
   {
    "duration": 115,
    "start_time": "2022-04-01T15:07:41.428Z"
   },
   {
    "duration": 19,
    "start_time": "2022-04-01T15:07:57.227Z"
   },
   {
    "duration": 43,
    "start_time": "2022-04-02T03:08:45.032Z"
   },
   {
    "duration": 6,
    "start_time": "2022-04-02T03:14:22.467Z"
   },
   {
    "duration": 2,
    "start_time": "2022-04-02T03:15:25.841Z"
   },
   {
    "duration": 8,
    "start_time": "2022-04-02T03:15:29.101Z"
   },
   {
    "duration": 3,
    "start_time": "2022-04-02T03:16:32.487Z"
   },
   {
    "duration": 9,
    "start_time": "2022-04-02T03:16:47.129Z"
   },
   {
    "duration": 3,
    "start_time": "2022-04-02T03:18:54.457Z"
   },
   {
    "duration": 8,
    "start_time": "2022-04-02T03:18:59.211Z"
   },
   {
    "duration": 3,
    "start_time": "2022-04-02T03:25:54.160Z"
   },
   {
    "duration": 7,
    "start_time": "2022-04-02T03:25:56.604Z"
   },
   {
    "duration": 7,
    "start_time": "2022-04-02T03:27:03.780Z"
   },
   {
    "duration": 7,
    "start_time": "2022-04-02T03:27:47.025Z"
   },
   {
    "duration": 7,
    "start_time": "2022-04-02T03:29:24.452Z"
   },
   {
    "duration": 3,
    "start_time": "2022-04-02T03:29:27.609Z"
   },
   {
    "duration": 9,
    "start_time": "2022-04-02T03:29:30.369Z"
   },
   {
    "duration": 397,
    "start_time": "2022-04-02T03:30:03.667Z"
   },
   {
    "duration": 163,
    "start_time": "2022-04-02T03:30:05.088Z"
   },
   {
    "duration": 15,
    "start_time": "2022-04-02T03:30:07.262Z"
   },
   {
    "duration": 30,
    "start_time": "2022-04-02T03:30:11.880Z"
   },
   {
    "duration": 4,
    "start_time": "2022-04-02T03:30:18.071Z"
   },
   {
    "duration": 11,
    "start_time": "2022-04-02T03:30:34.200Z"
   },
   {
    "duration": 4,
    "start_time": "2022-04-02T03:30:36.141Z"
   },
   {
    "duration": 24,
    "start_time": "2022-04-02T03:30:38.472Z"
   },
   {
    "duration": 20,
    "start_time": "2022-04-02T03:30:43.939Z"
   },
   {
    "duration": 25,
    "start_time": "2022-04-02T03:30:46.998Z"
   },
   {
    "duration": 64,
    "start_time": "2022-04-02T03:30:49.057Z"
   },
   {
    "duration": 67,
    "start_time": "2022-04-02T03:30:51.153Z"
   },
   {
    "duration": 62,
    "start_time": "2022-04-02T03:30:57.153Z"
   },
   {
    "duration": 37,
    "start_time": "2022-04-02T03:31:04.626Z"
   },
   {
    "duration": 2,
    "start_time": "2022-04-02T03:31:12.926Z"
   },
   {
    "duration": 30,
    "start_time": "2022-04-02T03:31:14.968Z"
   },
   {
    "duration": 3,
    "start_time": "2022-04-02T03:43:40.961Z"
   },
   {
    "duration": 10,
    "start_time": "2022-04-02T04:01:37.420Z"
   },
   {
    "duration": 7,
    "start_time": "2022-04-02T04:09:29.414Z"
   },
   {
    "duration": 3,
    "start_time": "2022-04-02T04:09:55.341Z"
   },
   {
    "duration": 10,
    "start_time": "2022-04-02T04:09:59.134Z"
   },
   {
    "duration": 10,
    "start_time": "2022-04-02T04:13:46.109Z"
   },
   {
    "duration": 12,
    "start_time": "2022-04-02T04:15:09.067Z"
   },
   {
    "duration": 3,
    "start_time": "2022-04-02T04:16:22.825Z"
   },
   {
    "duration": 3,
    "start_time": "2022-04-02T04:17:36.152Z"
   },
   {
    "duration": 3,
    "start_time": "2022-04-02T04:18:06.959Z"
   },
   {
    "duration": 11,
    "start_time": "2022-04-02T04:18:09.389Z"
   },
   {
    "duration": 3,
    "start_time": "2022-04-02T04:29:18.975Z"
   },
   {
    "duration": 3,
    "start_time": "2022-04-02T04:31:05.244Z"
   },
   {
    "duration": 11,
    "start_time": "2022-04-02T04:31:07.967Z"
   },
   {
    "duration": 3,
    "start_time": "2022-04-02T04:32:34.280Z"
   },
   {
    "duration": 11,
    "start_time": "2022-04-02T04:32:37.136Z"
   },
   {
    "duration": 194,
    "start_time": "2022-04-02T04:33:22.163Z"
   },
   {
    "duration": 189,
    "start_time": "2022-04-02T04:34:18.094Z"
   },
   {
    "duration": 199,
    "start_time": "2022-04-02T04:34:56.235Z"
   },
   {
    "duration": 276,
    "start_time": "2022-04-02T04:35:16.857Z"
   },
   {
    "duration": 12,
    "start_time": "2022-04-02T04:35:35.605Z"
   },
   {
    "duration": 8,
    "start_time": "2022-04-02T04:55:13.468Z"
   },
   {
    "duration": 7,
    "start_time": "2022-04-02T04:57:11.316Z"
   },
   {
    "duration": 2,
    "start_time": "2022-04-02T04:57:23.469Z"
   },
   {
    "duration": 10,
    "start_time": "2022-04-02T04:57:25.173Z"
   },
   {
    "duration": 8,
    "start_time": "2022-04-02T04:57:27.335Z"
   },
   {
    "duration": 2,
    "start_time": "2022-04-02T05:04:21.939Z"
   },
   {
    "duration": 132,
    "start_time": "2022-04-02T05:04:23.136Z"
   },
   {
    "duration": 10,
    "start_time": "2022-04-02T05:04:23.961Z"
   },
   {
    "duration": 26,
    "start_time": "2022-04-02T05:04:26.018Z"
   },
   {
    "duration": 4,
    "start_time": "2022-04-02T05:04:33.240Z"
   },
   {
    "duration": 5,
    "start_time": "2022-04-02T05:04:36.505Z"
   },
   {
    "duration": 3,
    "start_time": "2022-04-02T05:04:37.974Z"
   },
   {
    "duration": 23,
    "start_time": "2022-04-02T05:04:42.137Z"
   },
   {
    "duration": 17,
    "start_time": "2022-04-02T05:04:46.614Z"
   },
   {
    "duration": 23,
    "start_time": "2022-04-02T05:05:07.189Z"
   },
   {
    "duration": 59,
    "start_time": "2022-04-02T05:05:11.564Z"
   },
   {
    "duration": 58,
    "start_time": "2022-04-02T05:05:17.253Z"
   },
   {
    "duration": 51,
    "start_time": "2022-04-02T05:05:19.709Z"
   },
   {
    "duration": 36,
    "start_time": "2022-04-02T05:05:23.942Z"
   },
   {
    "duration": 2,
    "start_time": "2022-04-02T05:05:28.508Z"
   },
   {
    "duration": 11,
    "start_time": "2022-04-02T05:05:30.534Z"
   },
   {
    "duration": 10,
    "start_time": "2022-04-02T05:31:01.640Z"
   },
   {
    "duration": 7,
    "start_time": "2022-04-02T05:31:14.859Z"
   },
   {
    "duration": 3,
    "start_time": "2022-04-02T05:33:42.194Z"
   },
   {
    "duration": 3,
    "start_time": "2022-04-02T05:33:45.887Z"
   },
   {
    "duration": 9,
    "start_time": "2022-04-02T05:33:52.849Z"
   },
   {
    "duration": 6,
    "start_time": "2022-04-02T05:33:54.929Z"
   },
   {
    "duration": 2,
    "start_time": "2022-04-02T05:38:08.534Z"
   },
   {
    "duration": 10,
    "start_time": "2022-04-02T05:38:10.838Z"
   },
   {
    "duration": 6,
    "start_time": "2022-04-02T05:38:13.249Z"
   },
   {
    "duration": 31,
    "start_time": "2022-04-02T05:38:24.859Z"
   },
   {
    "duration": 30,
    "start_time": "2022-04-02T05:38:29.900Z"
   },
   {
    "duration": 3,
    "start_time": "2022-04-02T05:38:35.032Z"
   },
   {
    "duration": 15,
    "start_time": "2022-04-02T05:38:37.175Z"
   },
   {
    "duration": 13,
    "start_time": "2022-04-02T05:38:39.621Z"
   },
   {
    "duration": 14,
    "start_time": "2022-04-02T05:38:43.587Z"
   },
   {
    "duration": 13,
    "start_time": "2022-04-02T05:38:44.598Z"
   },
   {
    "duration": 15,
    "start_time": "2022-04-02T05:38:45.401Z"
   },
   {
    "duration": 16,
    "start_time": "2022-04-02T05:38:46.058Z"
   },
   {
    "duration": 11,
    "start_time": "2022-04-02T05:38:50.363Z"
   },
   {
    "duration": 17,
    "start_time": "2022-04-02T05:38:58.388Z"
   },
   {
    "duration": 15,
    "start_time": "2022-04-02T05:39:02.049Z"
   },
   {
    "duration": 5,
    "start_time": "2022-04-02T05:39:09.613Z"
   },
   {
    "duration": 17,
    "start_time": "2022-04-02T05:39:11.701Z"
   },
   {
    "duration": 11,
    "start_time": "2022-04-02T05:39:25.326Z"
   },
   {
    "duration": 15,
    "start_time": "2022-04-02T05:39:25.975Z"
   },
   {
    "duration": 10,
    "start_time": "2022-04-02T05:39:27.133Z"
   },
   {
    "duration": 4,
    "start_time": "2022-04-02T05:40:23.585Z"
   },
   {
    "duration": 16,
    "start_time": "2022-04-02T05:40:27.205Z"
   },
   {
    "duration": 15,
    "start_time": "2022-04-02T05:52:48.695Z"
   },
   {
    "duration": 12,
    "start_time": "2022-04-02T05:53:28.375Z"
   },
   {
    "duration": 12,
    "start_time": "2022-04-02T05:54:12.724Z"
   },
   {
    "duration": 11,
    "start_time": "2022-04-02T05:57:11.982Z"
   },
   {
    "duration": 32,
    "start_time": "2022-04-02T06:00:10.224Z"
   },
   {
    "duration": 35,
    "start_time": "2022-04-02T06:00:50.062Z"
   },
   {
    "duration": 32,
    "start_time": "2022-04-02T06:03:44.547Z"
   },
   {
    "duration": 34,
    "start_time": "2022-04-02T06:03:54.657Z"
   },
   {
    "duration": 3,
    "start_time": "2022-04-02T06:05:39.581Z"
   },
   {
    "duration": 10,
    "start_time": "2022-04-02T06:05:41.215Z"
   },
   {
    "duration": 3,
    "start_time": "2022-04-02T06:06:08.769Z"
   },
   {
    "duration": 10,
    "start_time": "2022-04-02T06:06:10.051Z"
   },
   {
    "duration": 37,
    "start_time": "2022-04-02T06:06:12.130Z"
   },
   {
    "duration": 3,
    "start_time": "2022-04-02T06:29:15.989Z"
   },
   {
    "duration": 10,
    "start_time": "2022-04-02T06:29:17.773Z"
   },
   {
    "duration": 39,
    "start_time": "2022-04-02T06:29:19.417Z"
   },
   {
    "duration": 39,
    "start_time": "2022-04-02T06:33:17.663Z"
   },
   {
    "duration": 34,
    "start_time": "2022-04-02T07:51:36.886Z"
   },
   {
    "duration": 2,
    "start_time": "2022-04-02T07:51:56.263Z"
   },
   {
    "duration": 2,
    "start_time": "2022-04-02T07:52:02.632Z"
   },
   {
    "duration": 152,
    "start_time": "2022-04-02T07:52:03.748Z"
   },
   {
    "duration": 10,
    "start_time": "2022-04-02T07:52:05.352Z"
   },
   {
    "duration": 27,
    "start_time": "2022-04-02T07:52:07.441Z"
   },
   {
    "duration": 4,
    "start_time": "2022-04-02T07:52:13.118Z"
   },
   {
    "duration": 5,
    "start_time": "2022-04-02T07:52:15.584Z"
   },
   {
    "duration": 4,
    "start_time": "2022-04-02T07:52:17.744Z"
   },
   {
    "duration": 25,
    "start_time": "2022-04-02T07:52:19.396Z"
   },
   {
    "duration": 16,
    "start_time": "2022-04-02T07:52:23.389Z"
   },
   {
    "duration": 25,
    "start_time": "2022-04-02T07:52:25.265Z"
   },
   {
    "duration": 64,
    "start_time": "2022-04-02T07:52:27.140Z"
   },
   {
    "duration": 63,
    "start_time": "2022-04-02T07:52:29.326Z"
   },
   {
    "duration": 57,
    "start_time": "2022-04-02T07:52:31.110Z"
   },
   {
    "duration": 38,
    "start_time": "2022-04-02T07:52:33.710Z"
   },
   {
    "duration": 3,
    "start_time": "2022-04-02T07:52:42.592Z"
   },
   {
    "duration": 9,
    "start_time": "2022-04-02T07:52:43.984Z"
   },
   {
    "duration": 64,
    "start_time": "2022-04-02T07:52:45.755Z"
   },
   {
    "duration": 60,
    "start_time": "2022-04-02T07:53:46.168Z"
   },
   {
    "duration": 36,
    "start_time": "2022-04-02T07:53:59.347Z"
   },
   {
    "duration": 57,
    "start_time": "2022-04-02T07:54:37.890Z"
   },
   {
    "duration": 31,
    "start_time": "2022-04-02T07:54:53.138Z"
   },
   {
    "duration": 31,
    "start_time": "2022-04-02T07:54:54.762Z"
   },
   {
    "duration": 4,
    "start_time": "2022-04-02T07:54:57.620Z"
   },
   {
    "duration": 16,
    "start_time": "2022-04-02T07:54:59.187Z"
   },
   {
    "duration": 13,
    "start_time": "2022-04-02T07:54:59.954Z"
   },
   {
    "duration": 15,
    "start_time": "2022-04-02T07:55:00.683Z"
   },
   {
    "duration": 13,
    "start_time": "2022-04-02T07:55:01.366Z"
   },
   {
    "duration": 16,
    "start_time": "2022-04-02T07:55:02.018Z"
   },
   {
    "duration": 14,
    "start_time": "2022-04-02T07:55:02.597Z"
   },
   {
    "duration": 8,
    "start_time": "2022-04-02T07:55:04.403Z"
   },
   {
    "duration": 18,
    "start_time": "2022-04-02T07:55:09.362Z"
   },
   {
    "duration": 17,
    "start_time": "2022-04-02T07:55:10.735Z"
   },
   {
    "duration": 4,
    "start_time": "2022-04-02T07:55:12.684Z"
   },
   {
    "duration": 18,
    "start_time": "2022-04-02T07:55:14.516Z"
   },
   {
    "duration": 13,
    "start_time": "2022-04-02T07:55:15.457Z"
   },
   {
    "duration": 19,
    "start_time": "2022-04-02T07:55:16.311Z"
   },
   {
    "duration": 12,
    "start_time": "2022-04-02T07:55:17.264Z"
   },
   {
    "duration": 46,
    "start_time": "2022-04-02T07:55:20.152Z"
   },
   {
    "duration": 10,
    "start_time": "2022-04-02T07:55:21.516Z"
   },
   {
    "duration": 24,
    "start_time": "2022-04-02T07:55:23.162Z"
   },
   {
    "duration": 11,
    "start_time": "2022-04-02T07:55:24.911Z"
   },
   {
    "duration": 352,
    "start_time": "2022-04-12T15:37:49.102Z"
   },
   {
    "duration": 141,
    "start_time": "2022-04-12T15:37:49.456Z"
   },
   {
    "duration": 16,
    "start_time": "2022-04-12T15:37:49.599Z"
   },
   {
    "duration": 40,
    "start_time": "2022-04-12T15:37:49.618Z"
   },
   {
    "duration": 4,
    "start_time": "2022-04-12T15:37:49.660Z"
   },
   {
    "duration": 12,
    "start_time": "2022-04-12T15:37:49.665Z"
   },
   {
    "duration": 7,
    "start_time": "2022-04-12T15:37:49.679Z"
   },
   {
    "duration": 27,
    "start_time": "2022-04-12T15:37:49.687Z"
   },
   {
    "duration": 19,
    "start_time": "2022-04-12T15:37:49.716Z"
   },
   {
    "duration": 24,
    "start_time": "2022-04-12T15:37:49.754Z"
   },
   {
    "duration": 76,
    "start_time": "2022-04-12T15:37:49.780Z"
   },
   {
    "duration": 68,
    "start_time": "2022-04-12T15:37:49.858Z"
   },
   {
    "duration": 74,
    "start_time": "2022-04-12T15:37:49.927Z"
   },
   {
    "duration": 40,
    "start_time": "2022-04-12T15:37:50.003Z"
   },
   {
    "duration": 12,
    "start_time": "2022-04-12T15:37:50.045Z"
   },
   {
    "duration": 16,
    "start_time": "2022-04-12T15:37:50.058Z"
   },
   {
    "duration": 60,
    "start_time": "2022-04-12T15:37:50.075Z"
   },
   {
    "duration": 48,
    "start_time": "2022-04-12T15:37:50.136Z"
   },
   {
    "duration": 32,
    "start_time": "2022-04-12T15:37:50.185Z"
   },
   {
    "duration": 3,
    "start_time": "2022-04-12T15:37:50.219Z"
   },
   {
    "duration": 38,
    "start_time": "2022-04-12T15:37:50.224Z"
   },
   {
    "duration": 15,
    "start_time": "2022-04-12T15:37:50.264Z"
   },
   {
    "duration": 16,
    "start_time": "2022-04-12T15:37:50.280Z"
   },
   {
    "duration": 14,
    "start_time": "2022-04-12T15:37:50.298Z"
   },
   {
    "duration": 41,
    "start_time": "2022-04-12T15:37:50.314Z"
   },
   {
    "duration": 12,
    "start_time": "2022-04-12T15:37:50.358Z"
   },
   {
    "duration": 10,
    "start_time": "2022-04-12T15:37:50.372Z"
   },
   {
    "duration": 16,
    "start_time": "2022-04-12T15:37:50.385Z"
   },
   {
    "duration": 16,
    "start_time": "2022-04-12T15:37:50.403Z"
   },
   {
    "duration": 4,
    "start_time": "2022-04-12T15:37:50.420Z"
   },
   {
    "duration": 22,
    "start_time": "2022-04-12T15:37:50.454Z"
   },
   {
    "duration": 11,
    "start_time": "2022-04-12T15:37:50.478Z"
   },
   {
    "duration": 14,
    "start_time": "2022-04-12T15:37:50.491Z"
   },
   {
    "duration": 10,
    "start_time": "2022-04-12T15:37:50.507Z"
   },
   {
    "duration": 79,
    "start_time": "2022-04-12T15:37:50.518Z"
   },
   {
    "duration": 14,
    "start_time": "2022-04-12T15:37:50.599Z"
   },
   {
    "duration": 41,
    "start_time": "2022-04-12T15:37:50.614Z"
   },
   {
    "duration": 10,
    "start_time": "2022-04-12T15:37:50.656Z"
   },
   {
    "duration": 149,
    "start_time": "2022-04-12T15:39:15.190Z"
   },
   {
    "duration": 68,
    "start_time": "2022-04-13T04:46:41.450Z"
   },
   {
    "duration": 476,
    "start_time": "2022-04-13T04:47:31.809Z"
   },
   {
    "duration": 198,
    "start_time": "2022-04-13T04:47:32.287Z"
   },
   {
    "duration": 26,
    "start_time": "2022-04-13T04:47:32.487Z"
   },
   {
    "duration": 42,
    "start_time": "2022-04-13T04:47:32.515Z"
   },
   {
    "duration": 6,
    "start_time": "2022-04-13T04:47:32.561Z"
   },
   {
    "duration": 14,
    "start_time": "2022-04-13T04:47:32.594Z"
   },
   {
    "duration": 8,
    "start_time": "2022-04-13T04:47:32.612Z"
   },
   {
    "duration": 36,
    "start_time": "2022-04-13T04:47:32.622Z"
   },
   {
    "duration": 54,
    "start_time": "2022-04-13T04:47:32.661Z"
   },
   {
    "duration": 35,
    "start_time": "2022-04-13T04:47:32.717Z"
   },
   {
    "duration": 124,
    "start_time": "2022-04-13T04:47:32.754Z"
   },
   {
    "duration": 126,
    "start_time": "2022-04-13T04:47:32.881Z"
   },
   {
    "duration": 101,
    "start_time": "2022-04-13T04:47:33.009Z"
   },
   {
    "duration": 50,
    "start_time": "2022-04-13T04:47:33.118Z"
   },
   {
    "duration": 25,
    "start_time": "2022-04-13T04:47:33.170Z"
   },
   {
    "duration": 16,
    "start_time": "2022-04-13T04:47:33.197Z"
   },
   {
    "duration": 100,
    "start_time": "2022-04-13T04:47:33.215Z"
   },
   {
    "duration": 46,
    "start_time": "2022-04-13T04:47:33.317Z"
   },
   {
    "duration": 62,
    "start_time": "2022-04-13T04:47:33.365Z"
   },
   {
    "duration": 5,
    "start_time": "2022-04-13T04:47:33.429Z"
   },
   {
    "duration": 34,
    "start_time": "2022-04-13T04:47:33.436Z"
   },
   {
    "duration": 31,
    "start_time": "2022-04-13T04:47:33.472Z"
   },
   {
    "duration": 20,
    "start_time": "2022-04-13T04:47:33.506Z"
   },
   {
    "duration": 20,
    "start_time": "2022-04-13T04:47:33.528Z"
   },
   {
    "duration": 56,
    "start_time": "2022-04-13T04:47:33.550Z"
   },
   {
    "duration": 18,
    "start_time": "2022-04-13T04:47:33.608Z"
   },
   {
    "duration": 27,
    "start_time": "2022-04-13T04:47:33.628Z"
   },
   {
    "duration": 40,
    "start_time": "2022-04-13T04:47:33.657Z"
   },
   {
    "duration": 25,
    "start_time": "2022-04-13T04:47:33.699Z"
   },
   {
    "duration": 6,
    "start_time": "2022-04-13T04:47:33.726Z"
   },
   {
    "duration": 34,
    "start_time": "2022-04-13T04:47:33.734Z"
   },
   {
    "duration": 36,
    "start_time": "2022-04-13T04:47:33.770Z"
   },
   {
    "duration": 22,
    "start_time": "2022-04-13T04:47:33.808Z"
   },
   {
    "duration": 15,
    "start_time": "2022-04-13T04:47:33.832Z"
   },
   {
    "duration": 102,
    "start_time": "2022-04-13T04:47:33.849Z"
   },
   {
    "duration": 16,
    "start_time": "2022-04-13T04:47:33.953Z"
   },
   {
    "duration": 48,
    "start_time": "2022-04-13T04:47:33.971Z"
   },
   {
    "duration": 16,
    "start_time": "2022-04-13T04:47:34.021Z"
   },
   {
    "duration": 534,
    "start_time": "2022-04-13T05:42:42.259Z"
   },
   {
    "duration": 195,
    "start_time": "2022-04-13T05:42:42.796Z"
   },
   {
    "duration": 25,
    "start_time": "2022-04-13T05:42:42.994Z"
   },
   {
    "duration": 47,
    "start_time": "2022-04-13T05:42:43.021Z"
   },
   {
    "duration": 6,
    "start_time": "2022-04-13T05:42:43.092Z"
   },
   {
    "duration": 14,
    "start_time": "2022-04-13T05:42:43.100Z"
   },
   {
    "duration": 8,
    "start_time": "2022-04-13T05:42:43.117Z"
   },
   {
    "duration": 35,
    "start_time": "2022-04-13T05:42:43.127Z"
   },
   {
    "duration": 26,
    "start_time": "2022-04-13T05:42:43.193Z"
   },
   {
    "duration": 35,
    "start_time": "2022-04-13T05:42:43.221Z"
   },
   {
    "duration": 135,
    "start_time": "2022-04-13T05:42:43.258Z"
   },
   {
    "duration": 119,
    "start_time": "2022-04-13T05:42:43.395Z"
   },
   {
    "duration": 98,
    "start_time": "2022-04-13T05:42:43.517Z"
   },
   {
    "duration": 54,
    "start_time": "2022-04-13T05:42:43.621Z"
   },
   {
    "duration": 17,
    "start_time": "2022-04-13T05:42:43.677Z"
   },
   {
    "duration": 15,
    "start_time": "2022-04-13T05:42:43.696Z"
   },
   {
    "duration": 107,
    "start_time": "2022-04-13T05:42:43.714Z"
   },
   {
    "duration": 50,
    "start_time": "2022-04-13T05:42:43.823Z"
   },
   {
    "duration": 77,
    "start_time": "2022-04-13T05:42:43.876Z"
   },
   {
    "duration": 6,
    "start_time": "2022-04-13T05:42:43.955Z"
   },
   {
    "duration": 44,
    "start_time": "2022-04-13T05:42:43.963Z"
   },
   {
    "duration": 20,
    "start_time": "2022-04-13T05:42:44.009Z"
   },
   {
    "duration": 20,
    "start_time": "2022-04-13T05:42:44.032Z"
   },
   {
    "duration": 52,
    "start_time": "2022-04-13T05:42:44.054Z"
   },
   {
    "duration": 22,
    "start_time": "2022-04-13T05:42:44.108Z"
   },
   {
    "duration": 18,
    "start_time": "2022-04-13T05:42:44.133Z"
   },
   {
    "duration": 47,
    "start_time": "2022-04-13T05:42:44.153Z"
   },
   {
    "duration": 27,
    "start_time": "2022-04-13T05:42:44.202Z"
   },
   {
    "duration": 33,
    "start_time": "2022-04-13T05:42:44.232Z"
   },
   {
    "duration": 6,
    "start_time": "2022-04-13T05:42:44.293Z"
   },
   {
    "duration": 31,
    "start_time": "2022-04-13T05:42:44.301Z"
   },
   {
    "duration": 17,
    "start_time": "2022-04-13T05:42:44.334Z"
   },
   {
    "duration": 52,
    "start_time": "2022-04-13T05:42:44.353Z"
   },
   {
    "duration": 15,
    "start_time": "2022-04-13T05:42:44.407Z"
   },
   {
    "duration": 103,
    "start_time": "2022-04-13T05:42:44.425Z"
   },
   {
    "duration": 16,
    "start_time": "2022-04-13T05:42:44.530Z"
   },
   {
    "duration": 61,
    "start_time": "2022-04-13T05:42:44.548Z"
   },
   {
    "duration": 20,
    "start_time": "2022-04-13T05:42:44.613Z"
   },
   {
    "duration": 197,
    "start_time": "2022-04-13T05:52:24.470Z"
   },
   {
    "duration": 51,
    "start_time": "2022-04-13T05:53:49.350Z"
   },
   {
    "duration": 52,
    "start_time": "2022-04-13T05:55:22.758Z"
   },
   {
    "duration": 91,
    "start_time": "2022-04-13T06:03:27.647Z"
   },
   {
    "duration": 19,
    "start_time": "2022-04-13T06:04:29.731Z"
   },
   {
    "duration": 9,
    "start_time": "2022-04-13T06:05:19.029Z"
   },
   {
    "duration": 17,
    "start_time": "2022-04-13T06:06:41.341Z"
   },
   {
    "duration": 17,
    "start_time": "2022-04-13T06:09:53.483Z"
   },
   {
    "duration": 192,
    "start_time": "2022-04-13T06:11:02.151Z"
   },
   {
    "duration": 192,
    "start_time": "2022-04-13T06:11:45.267Z"
   },
   {
    "duration": 18,
    "start_time": "2022-04-13T06:13:57.624Z"
   },
   {
    "duration": 213,
    "start_time": "2022-04-13T06:24:13.459Z"
   },
   {
    "duration": 11,
    "start_time": "2022-04-13T06:25:57.408Z"
   },
   {
    "duration": 7,
    "start_time": "2022-04-13T06:26:05.842Z"
   },
   {
    "duration": 4,
    "start_time": "2022-04-13T06:27:52.974Z"
   },
   {
    "duration": 8,
    "start_time": "2022-04-13T06:27:55.741Z"
   },
   {
    "duration": 69,
    "start_time": "2022-04-13T06:28:02.459Z"
   },
   {
    "duration": 4,
    "start_time": "2022-04-13T06:28:04.513Z"
   },
   {
    "duration": 17,
    "start_time": "2022-04-13T06:28:06.083Z"
   },
   {
    "duration": 14,
    "start_time": "2022-04-13T06:30:10.128Z"
   },
   {
    "duration": 12,
    "start_time": "2022-04-13T06:36:02.299Z"
   },
   {
    "duration": 194,
    "start_time": "2022-04-13T07:01:53.439Z"
   },
   {
    "duration": 210,
    "start_time": "2022-04-13T07:02:20.633Z"
   },
   {
    "duration": 257,
    "start_time": "2022-04-13T07:08:45.326Z"
   },
   {
    "duration": 201,
    "start_time": "2022-04-13T07:10:06.076Z"
   },
   {
    "duration": 103,
    "start_time": "2022-04-13T07:10:43.981Z"
   },
   {
    "duration": 107,
    "start_time": "2022-04-13T07:11:28.478Z"
   },
   {
    "duration": 88,
    "start_time": "2022-04-13T07:11:31.761Z"
   },
   {
    "duration": 51,
    "start_time": "2022-04-13T07:11:48.184Z"
   },
   {
    "duration": 50,
    "start_time": "2022-04-13T07:15:33.179Z"
   },
   {
    "duration": 17,
    "start_time": "2022-04-13T07:18:44.882Z"
   },
   {
    "duration": 225,
    "start_time": "2022-04-13T07:24:34.687Z"
   },
   {
    "duration": 203,
    "start_time": "2022-04-13T07:25:30.548Z"
   },
   {
    "duration": 204,
    "start_time": "2022-04-13T07:26:00.027Z"
   },
   {
    "duration": 192,
    "start_time": "2022-04-13T07:26:06.439Z"
   },
   {
    "duration": 557,
    "start_time": "2022-04-13T07:27:01.463Z"
   },
   {
    "duration": 201,
    "start_time": "2022-04-13T07:27:02.022Z"
   },
   {
    "duration": 26,
    "start_time": "2022-04-13T07:27:02.225Z"
   },
   {
    "duration": 58,
    "start_time": "2022-04-13T07:27:02.254Z"
   },
   {
    "duration": 7,
    "start_time": "2022-04-13T07:27:02.315Z"
   },
   {
    "duration": 17,
    "start_time": "2022-04-13T07:27:02.325Z"
   },
   {
    "duration": 10,
    "start_time": "2022-04-13T07:27:02.344Z"
   },
   {
    "duration": 60,
    "start_time": "2022-04-13T07:27:02.356Z"
   },
   {
    "duration": 26,
    "start_time": "2022-04-13T07:27:02.418Z"
   },
   {
    "duration": 48,
    "start_time": "2022-04-13T07:27:02.448Z"
   },
   {
    "duration": 106,
    "start_time": "2022-04-13T07:27:02.498Z"
   },
   {
    "duration": 116,
    "start_time": "2022-04-13T07:27:02.606Z"
   },
   {
    "duration": 98,
    "start_time": "2022-04-13T07:27:02.724Z"
   },
   {
    "duration": 52,
    "start_time": "2022-04-13T07:27:02.824Z"
   },
   {
    "duration": 4,
    "start_time": "2022-04-13T07:27:02.893Z"
   },
   {
    "duration": 17,
    "start_time": "2022-04-13T07:27:02.899Z"
   },
   {
    "duration": 98,
    "start_time": "2022-04-13T07:27:02.918Z"
   },
   {
    "duration": 51,
    "start_time": "2022-04-13T07:27:03.018Z"
   },
   {
    "duration": 67,
    "start_time": "2022-04-13T07:27:03.072Z"
   },
   {
    "duration": 18,
    "start_time": "2022-04-13T07:27:03.141Z"
   },
   {
    "duration": 76,
    "start_time": "2022-04-13T07:27:03.161Z"
   },
   {
    "duration": 19,
    "start_time": "2022-04-13T07:27:03.240Z"
   },
   {
    "duration": 35,
    "start_time": "2022-04-13T07:27:03.261Z"
   },
   {
    "duration": 24,
    "start_time": "2022-04-13T07:27:03.298Z"
   },
   {
    "duration": 21,
    "start_time": "2022-04-13T07:27:03.325Z"
   },
   {
    "duration": 60,
    "start_time": "2022-04-13T07:27:03.349Z"
   },
   {
    "duration": 22,
    "start_time": "2022-04-13T07:27:03.411Z"
   },
   {
    "duration": 22,
    "start_time": "2022-04-13T07:27:03.438Z"
   },
   {
    "duration": 49,
    "start_time": "2022-04-13T07:27:03.463Z"
   },
   {
    "duration": 14,
    "start_time": "2022-04-13T07:27:03.515Z"
   },
   {
    "duration": 36,
    "start_time": "2022-04-13T07:27:03.532Z"
   },
   {
    "duration": 24,
    "start_time": "2022-04-13T07:27:03.593Z"
   },
   {
    "duration": 6,
    "start_time": "2022-04-13T07:27:03.619Z"
   },
   {
    "duration": 27,
    "start_time": "2022-04-13T07:27:03.627Z"
   },
   {
    "duration": 48,
    "start_time": "2022-04-13T07:27:03.657Z"
   },
   {
    "duration": 20,
    "start_time": "2022-04-13T07:27:03.707Z"
   },
   {
    "duration": 15,
    "start_time": "2022-04-13T07:27:03.730Z"
   },
   {
    "duration": 102,
    "start_time": "2022-04-13T07:27:03.747Z"
   },
   {
    "duration": 16,
    "start_time": "2022-04-13T07:27:03.851Z"
   },
   {
    "duration": 36,
    "start_time": "2022-04-13T07:27:03.869Z"
   },
   {
    "duration": 31,
    "start_time": "2022-04-13T07:27:03.907Z"
   },
   {
    "duration": 15,
    "start_time": "2022-04-13T07:27:03.940Z"
   },
   {
    "duration": 188,
    "start_time": "2022-04-13T07:27:03.957Z"
   },
   {
    "duration": 0,
    "start_time": "2022-04-13T07:27:04.147Z"
   },
   {
    "duration": 1,
    "start_time": "2022-04-13T07:27:04.148Z"
   },
   {
    "duration": 189,
    "start_time": "2022-04-13T07:27:13.930Z"
   },
   {
    "duration": 238,
    "start_time": "2022-04-13T07:27:23.728Z"
   },
   {
    "duration": 12,
    "start_time": "2022-04-13T07:28:54.919Z"
   },
   {
    "duration": 216,
    "start_time": "2022-04-13T07:32:06.259Z"
   },
   {
    "duration": 200,
    "start_time": "2022-04-13T07:32:29.680Z"
   },
   {
    "duration": 185,
    "start_time": "2022-04-13T07:33:08.896Z"
   },
   {
    "duration": 527,
    "start_time": "2022-04-13T07:37:46.755Z"
   },
   {
    "duration": 204,
    "start_time": "2022-04-13T07:37:47.284Z"
   },
   {
    "duration": 26,
    "start_time": "2022-04-13T07:37:47.493Z"
   },
   {
    "duration": 40,
    "start_time": "2022-04-13T07:37:47.521Z"
   },
   {
    "duration": 31,
    "start_time": "2022-04-13T07:37:47.564Z"
   },
   {
    "duration": 13,
    "start_time": "2022-04-13T07:37:47.598Z"
   },
   {
    "duration": 8,
    "start_time": "2022-04-13T07:37:47.614Z"
   },
   {
    "duration": 35,
    "start_time": "2022-04-13T07:37:47.624Z"
   },
   {
    "duration": 28,
    "start_time": "2022-04-13T07:37:47.693Z"
   },
   {
    "duration": 34,
    "start_time": "2022-04-13T07:37:47.723Z"
   },
   {
    "duration": 122,
    "start_time": "2022-04-13T07:37:47.759Z"
   },
   {
    "duration": 126,
    "start_time": "2022-04-13T07:37:47.884Z"
   },
   {
    "duration": 98,
    "start_time": "2022-04-13T07:37:48.013Z"
   },
   {
    "duration": 53,
    "start_time": "2022-04-13T07:37:48.119Z"
   },
   {
    "duration": 18,
    "start_time": "2022-04-13T07:37:48.175Z"
   },
   {
    "duration": 22,
    "start_time": "2022-04-13T07:37:48.195Z"
   },
   {
    "duration": 95,
    "start_time": "2022-04-13T07:37:48.220Z"
   },
   {
    "duration": 52,
    "start_time": "2022-04-13T07:37:48.317Z"
   },
   {
    "duration": 62,
    "start_time": "2022-04-13T07:37:48.371Z"
   },
   {
    "duration": 17,
    "start_time": "2022-04-13T07:37:48.435Z"
   },
   {
    "duration": 72,
    "start_time": "2022-04-13T07:37:48.454Z"
   },
   {
    "duration": 18,
    "start_time": "2022-04-13T07:37:48.528Z"
   },
   {
    "duration": 4,
    "start_time": "2022-04-13T07:37:48.549Z"
   },
   {
    "duration": 55,
    "start_time": "2022-04-13T07:37:48.555Z"
   },
   {
    "duration": 18,
    "start_time": "2022-04-13T07:37:48.612Z"
   },
   {
    "duration": 18,
    "start_time": "2022-04-13T07:37:48.633Z"
   },
   {
    "duration": 42,
    "start_time": "2022-04-13T07:37:48.654Z"
   },
   {
    "duration": 20,
    "start_time": "2022-04-13T07:37:48.698Z"
   },
   {
    "duration": 19,
    "start_time": "2022-04-13T07:37:48.720Z"
   },
   {
    "duration": 12,
    "start_time": "2022-04-13T07:37:48.741Z"
   },
   {
    "duration": 54,
    "start_time": "2022-04-13T07:37:48.755Z"
   },
   {
    "duration": 23,
    "start_time": "2022-04-13T07:37:48.811Z"
   },
   {
    "duration": 5,
    "start_time": "2022-04-13T07:37:48.837Z"
   },
   {
    "duration": 63,
    "start_time": "2022-04-13T07:37:48.844Z"
   },
   {
    "duration": 16,
    "start_time": "2022-04-13T07:37:48.909Z"
   },
   {
    "duration": 22,
    "start_time": "2022-04-13T07:37:48.927Z"
   },
   {
    "duration": 47,
    "start_time": "2022-04-13T07:37:48.951Z"
   },
   {
    "duration": 64,
    "start_time": "2022-04-13T07:37:49.001Z"
   },
   {
    "duration": 28,
    "start_time": "2022-04-13T07:37:49.067Z"
   },
   {
    "duration": 20,
    "start_time": "2022-04-13T07:37:49.098Z"
   },
   {
    "duration": 33,
    "start_time": "2022-04-13T07:37:49.124Z"
   },
   {
    "duration": 48,
    "start_time": "2022-04-13T07:37:49.159Z"
   },
   {
    "duration": 12,
    "start_time": "2022-04-13T07:37:49.209Z"
   },
   {
    "duration": 404,
    "start_time": "2022-04-13T09:26:31.273Z"
   },
   {
    "duration": 150,
    "start_time": "2022-04-13T09:26:31.679Z"
   },
   {
    "duration": 17,
    "start_time": "2022-04-13T09:26:31.830Z"
   },
   {
    "duration": 29,
    "start_time": "2022-04-13T09:26:31.849Z"
   },
   {
    "duration": 4,
    "start_time": "2022-04-13T09:26:31.880Z"
   },
   {
    "duration": 29,
    "start_time": "2022-04-13T09:26:31.886Z"
   },
   {
    "duration": 5,
    "start_time": "2022-04-13T09:26:31.918Z"
   },
   {
    "duration": 27,
    "start_time": "2022-04-13T09:26:31.924Z"
   },
   {
    "duration": 19,
    "start_time": "2022-04-13T09:26:31.952Z"
   },
   {
    "duration": 44,
    "start_time": "2022-04-13T09:26:31.974Z"
   },
   {
    "duration": 67,
    "start_time": "2022-04-13T09:26:32.020Z"
   },
   {
    "duration": 84,
    "start_time": "2022-04-13T09:26:32.089Z"
   },
   {
    "duration": 76,
    "start_time": "2022-04-13T09:26:32.175Z"
   },
   {
    "duration": 41,
    "start_time": "2022-04-13T09:26:32.252Z"
   },
   {
    "duration": 13,
    "start_time": "2022-04-13T09:26:32.295Z"
   },
   {
    "duration": 12,
    "start_time": "2022-04-13T09:26:32.310Z"
   },
   {
    "duration": 67,
    "start_time": "2022-04-13T09:26:32.323Z"
   },
   {
    "duration": 49,
    "start_time": "2022-04-13T09:26:32.391Z"
   },
   {
    "duration": 36,
    "start_time": "2022-04-13T09:26:32.442Z"
   },
   {
    "duration": 29,
    "start_time": "2022-04-13T09:26:32.480Z"
   },
   {
    "duration": 34,
    "start_time": "2022-04-13T09:26:32.511Z"
   },
   {
    "duration": 11,
    "start_time": "2022-04-13T09:26:32.547Z"
   },
   {
    "duration": 4,
    "start_time": "2022-04-13T09:26:32.560Z"
   },
   {
    "duration": 48,
    "start_time": "2022-04-13T09:26:32.566Z"
   },
   {
    "duration": 15,
    "start_time": "2022-04-13T09:26:32.616Z"
   },
   {
    "duration": 15,
    "start_time": "2022-04-13T09:26:32.633Z"
   },
   {
    "duration": 15,
    "start_time": "2022-04-13T09:26:32.650Z"
   },
   {
    "duration": 41,
    "start_time": "2022-04-13T09:26:32.670Z"
   },
   {
    "duration": 14,
    "start_time": "2022-04-13T09:26:32.713Z"
   },
   {
    "duration": 9,
    "start_time": "2022-04-13T09:26:32.729Z"
   },
   {
    "duration": 22,
    "start_time": "2022-04-13T09:26:32.740Z"
   },
   {
    "duration": 51,
    "start_time": "2022-04-13T09:26:32.764Z"
   },
   {
    "duration": 5,
    "start_time": "2022-04-13T09:26:32.817Z"
   },
   {
    "duration": 26,
    "start_time": "2022-04-13T09:26:32.824Z"
   },
   {
    "duration": 16,
    "start_time": "2022-04-13T09:26:32.853Z"
   },
   {
    "duration": 43,
    "start_time": "2022-04-13T09:26:32.870Z"
   },
   {
    "duration": 10,
    "start_time": "2022-04-13T09:26:32.915Z"
   },
   {
    "duration": 63,
    "start_time": "2022-04-13T09:26:32.927Z"
   },
   {
    "duration": 19,
    "start_time": "2022-04-13T09:26:32.992Z"
   },
   {
    "duration": 12,
    "start_time": "2022-04-13T09:26:33.013Z"
   },
   {
    "duration": 38,
    "start_time": "2022-04-13T09:26:33.027Z"
   },
   {
    "duration": 13,
    "start_time": "2022-04-13T09:26:33.067Z"
   },
   {
    "duration": 28,
    "start_time": "2022-04-13T09:26:33.082Z"
   }
  ],
  "colab": {
   "collapsed_sections": [
    "E0vqbgi9ay0H",
    "VUC88oWjTJw2"
   ],
   "name": "yandex_music_project.ipynb",
   "provenance": []
  },
  "kernelspec": {
   "display_name": "Python 3 (ipykernel)",
   "language": "python",
   "name": "python3"
  },
  "language_info": {
   "codemirror_mode": {
    "name": "ipython",
    "version": 3
   },
   "file_extension": ".py",
   "mimetype": "text/x-python",
   "name": "python",
   "nbconvert_exporter": "python",
   "pygments_lexer": "ipython3",
   "version": "3.9.7"
  },
  "toc": {
   "base_numbering": 1,
   "nav_menu": {},
   "number_sections": true,
   "sideBar": true,
   "skip_h1_title": true,
   "title_cell": "Table of Contents",
   "title_sidebar": "Contents",
   "toc_cell": false,
   "toc_position": {
    "height": "calc(100% - 180px)",
    "left": "10px",
    "top": "150px",
    "width": "165px"
   },
   "toc_section_display": true,
   "toc_window_display": true
  }
 },
 "nbformat": 4,
 "nbformat_minor": 1
}
