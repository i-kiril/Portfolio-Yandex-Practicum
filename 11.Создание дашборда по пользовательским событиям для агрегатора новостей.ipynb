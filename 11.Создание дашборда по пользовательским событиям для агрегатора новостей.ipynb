{
 "cells": [
  {
   "cell_type": "markdown",
   "id": "a1f21483",
   "metadata": {
    "toc": true
   },
   "source": [
    "<h1>Создание дашборда по пользовательским событиям для агрегатора новостей<span class=\"tocSkip\"></span></h1>\n",
    "<div class=\"toc\"><ul class=\"toc-item\"><li><span><a href=\"#Проверка-данных\" data-toc-modified-id=\"Проверка-данных-1\"><span class=\"toc-item-num\">1&nbsp;&nbsp;</span>Проверка данных</a></span></li><li><span><a href=\"#Экспортируем-данные-в-csv-файл\" data-toc-modified-id=\"Экспортируем-данные-в-csv-файл-2\"><span class=\"toc-item-num\">2&nbsp;&nbsp;</span>Экспортируем данные в csv-файл</a></span></li></ul></div>"
   ]
  },
  {
   "cell_type": "markdown",
   "id": "0c5feced",
   "metadata": {},
   "source": [
    "# Запрос"
   ]
  },
  {
   "cell_type": "markdown",
   "id": "8cc7c05e",
   "metadata": {},
   "source": [
    "Установить библиотеку"
   ]
  },
  {
   "cell_type": "code",
   "execution_count": 1,
   "id": "db611dc8",
   "metadata": {},
   "outputs": [
    {
     "name": "stdout",
     "output_type": "stream",
     "text": [
      "Requirement already satisfied: psycopg2 in c:\\users\\user\\anaconda3\\lib\\site-packages (2.9.3)\n"
     ]
    }
   ],
   "source": [
    "!pip install psycopg2"
   ]
  },
  {
   "cell_type": "markdown",
   "id": "9c7da1af",
   "metadata": {},
   "source": [
    "Сделаем запрос и сохраним в переменной \"dash_visits\""
   ]
  },
  {
   "cell_type": "code",
   "execution_count": 2,
   "id": "941874f7",
   "metadata": {},
   "outputs": [],
   "source": [
    "#!/usr/bin/python\n",
    "# -*- coding: utf-8 -*-\n",
    "\n",
    "# импортируем библиотеки\n",
    "import pandas as pd\n",
    "from sqlalchemy import create_engine\n",
    "\n",
    "db_config = {'user': 'praktikum_student', # имя пользователя\n",
    "            'pwd': 'Sdf4$2;d-d30pp', # пароль\n",
    "            'host': 'rc1b-wcoijxj3yxfsf3fs.mdb.yandexcloud.net',\n",
    "            'port': 6432, # порт подключения\n",
    "            'db': 'data-analyst-zen-project-db'} # название базы данных\n",
    "\n",
    "connection_string = 'postgresql://{}:{}@{}:{}/{}'.format(db_config['user'],\n",
    "                                                db_config['pwd'],\n",
    "                                                db_config['host'],\n",
    "                                                db_config['port'],\n",
    "                                                db_config['db'])\n",
    "\n",
    "engine = create_engine(connection_string)\n",
    "\n",
    "query = ''' SELECT *\n",
    "            FROM dash_visits\n",
    "        '''\n",
    "\n",
    "dash_visits = pd.io.sql.read_sql(query, con = engine)\n"
   ]
  },
  {
   "cell_type": "code",
   "execution_count": 3,
   "id": "a0c752e5",
   "metadata": {},
   "outputs": [
    {
     "data": {
      "text/html": [
       "<div>\n",
       "<style scoped>\n",
       "    .dataframe tbody tr th:only-of-type {\n",
       "        vertical-align: middle;\n",
       "    }\n",
       "\n",
       "    .dataframe tbody tr th {\n",
       "        vertical-align: top;\n",
       "    }\n",
       "\n",
       "    .dataframe thead th {\n",
       "        text-align: right;\n",
       "    }\n",
       "</style>\n",
       "<table border=\"1\" class=\"dataframe\">\n",
       "  <thead>\n",
       "    <tr style=\"text-align: right;\">\n",
       "      <th></th>\n",
       "      <th>record_id</th>\n",
       "      <th>item_topic</th>\n",
       "      <th>source_topic</th>\n",
       "      <th>age_segment</th>\n",
       "      <th>dt</th>\n",
       "      <th>visits</th>\n",
       "    </tr>\n",
       "  </thead>\n",
       "  <tbody>\n",
       "    <tr>\n",
       "      <th>0</th>\n",
       "      <td>1040597</td>\n",
       "      <td>Деньги</td>\n",
       "      <td>Авто</td>\n",
       "      <td>18-25</td>\n",
       "      <td>2019-09-24 18:32:00</td>\n",
       "      <td>3</td>\n",
       "    </tr>\n",
       "    <tr>\n",
       "      <th>1</th>\n",
       "      <td>1040598</td>\n",
       "      <td>Деньги</td>\n",
       "      <td>Авто</td>\n",
       "      <td>18-25</td>\n",
       "      <td>2019-09-24 18:35:00</td>\n",
       "      <td>1</td>\n",
       "    </tr>\n",
       "    <tr>\n",
       "      <th>2</th>\n",
       "      <td>1040599</td>\n",
       "      <td>Деньги</td>\n",
       "      <td>Авто</td>\n",
       "      <td>18-25</td>\n",
       "      <td>2019-09-24 18:54:00</td>\n",
       "      <td>4</td>\n",
       "    </tr>\n",
       "    <tr>\n",
       "      <th>3</th>\n",
       "      <td>1040600</td>\n",
       "      <td>Деньги</td>\n",
       "      <td>Авто</td>\n",
       "      <td>18-25</td>\n",
       "      <td>2019-09-24 18:55:00</td>\n",
       "      <td>17</td>\n",
       "    </tr>\n",
       "    <tr>\n",
       "      <th>4</th>\n",
       "      <td>1040601</td>\n",
       "      <td>Деньги</td>\n",
       "      <td>Авто</td>\n",
       "      <td>18-25</td>\n",
       "      <td>2019-09-24 18:56:00</td>\n",
       "      <td>27</td>\n",
       "    </tr>\n",
       "    <tr>\n",
       "      <th>...</th>\n",
       "      <td>...</td>\n",
       "      <td>...</td>\n",
       "      <td>...</td>\n",
       "      <td>...</td>\n",
       "      <td>...</td>\n",
       "      <td>...</td>\n",
       "    </tr>\n",
       "    <tr>\n",
       "      <th>30740</th>\n",
       "      <td>1071337</td>\n",
       "      <td>Юмор</td>\n",
       "      <td>Финансы</td>\n",
       "      <td>36-40</td>\n",
       "      <td>2019-09-24 18:57:00</td>\n",
       "      <td>2</td>\n",
       "    </tr>\n",
       "    <tr>\n",
       "      <th>30741</th>\n",
       "      <td>1071338</td>\n",
       "      <td>Юмор</td>\n",
       "      <td>Финансы</td>\n",
       "      <td>36-40</td>\n",
       "      <td>2019-09-24 19:00:00</td>\n",
       "      <td>1</td>\n",
       "    </tr>\n",
       "    <tr>\n",
       "      <th>30742</th>\n",
       "      <td>1071339</td>\n",
       "      <td>Юмор</td>\n",
       "      <td>Финансы</td>\n",
       "      <td>41-45</td>\n",
       "      <td>2019-09-24 18:54:00</td>\n",
       "      <td>1</td>\n",
       "    </tr>\n",
       "    <tr>\n",
       "      <th>30743</th>\n",
       "      <td>1071340</td>\n",
       "      <td>Юмор</td>\n",
       "      <td>Финансы</td>\n",
       "      <td>41-45</td>\n",
       "      <td>2019-09-24 18:56:00</td>\n",
       "      <td>1</td>\n",
       "    </tr>\n",
       "    <tr>\n",
       "      <th>30744</th>\n",
       "      <td>1071341</td>\n",
       "      <td>Юмор</td>\n",
       "      <td>Финансы</td>\n",
       "      <td>41-45</td>\n",
       "      <td>2019-09-24 19:00:00</td>\n",
       "      <td>1</td>\n",
       "    </tr>\n",
       "  </tbody>\n",
       "</table>\n",
       "<p>30745 rows × 6 columns</p>\n",
       "</div>"
      ],
      "text/plain": [
       "       record_id item_topic source_topic age_segment                  dt  \\\n",
       "0        1040597     Деньги         Авто       18-25 2019-09-24 18:32:00   \n",
       "1        1040598     Деньги         Авто       18-25 2019-09-24 18:35:00   \n",
       "2        1040599     Деньги         Авто       18-25 2019-09-24 18:54:00   \n",
       "3        1040600     Деньги         Авто       18-25 2019-09-24 18:55:00   \n",
       "4        1040601     Деньги         Авто       18-25 2019-09-24 18:56:00   \n",
       "...          ...        ...          ...         ...                 ...   \n",
       "30740    1071337       Юмор      Финансы       36-40 2019-09-24 18:57:00   \n",
       "30741    1071338       Юмор      Финансы       36-40 2019-09-24 19:00:00   \n",
       "30742    1071339       Юмор      Финансы       41-45 2019-09-24 18:54:00   \n",
       "30743    1071340       Юмор      Финансы       41-45 2019-09-24 18:56:00   \n",
       "30744    1071341       Юмор      Финансы       41-45 2019-09-24 19:00:00   \n",
       "\n",
       "       visits  \n",
       "0           3  \n",
       "1           1  \n",
       "2           4  \n",
       "3          17  \n",
       "4          27  \n",
       "...       ...  \n",
       "30740       2  \n",
       "30741       1  \n",
       "30742       1  \n",
       "30743       1  \n",
       "30744       1  \n",
       "\n",
       "[30745 rows x 6 columns]"
      ]
     },
     "execution_count": 3,
     "metadata": {},
     "output_type": "execute_result"
    }
   ],
   "source": [
    "pd.io.sql.read_sql(query, con = engine)"
   ]
  },
  {
   "cell_type": "markdown",
   "id": "973ec777",
   "metadata": {},
   "source": [
    "## Проверка данных"
   ]
  },
  {
   "cell_type": "code",
   "execution_count": 4,
   "id": "107e0480",
   "metadata": {},
   "outputs": [
    {
     "name": "stdout",
     "output_type": "stream",
     "text": [
      "<class 'pandas.core.frame.DataFrame'>\n",
      "RangeIndex: 30745 entries, 0 to 30744\n",
      "Data columns (total 6 columns):\n",
      " #   Column        Non-Null Count  Dtype         \n",
      "---  ------        --------------  -----         \n",
      " 0   record_id     30745 non-null  int64         \n",
      " 1   item_topic    30745 non-null  object        \n",
      " 2   source_topic  30745 non-null  object        \n",
      " 3   age_segment   30745 non-null  object        \n",
      " 4   dt            30745 non-null  datetime64[ns]\n",
      " 5   visits        30745 non-null  int64         \n",
      "dtypes: datetime64[ns](1), int64(2), object(3)\n",
      "memory usage: 1.4+ MB\n"
     ]
    }
   ],
   "source": [
    "dash_visits.info()"
   ]
  },
  {
   "cell_type": "markdown",
   "id": "865b9b37",
   "metadata": {},
   "source": [
    "- Данные целостные и с типами всё в порядке.   \n",
    "\n",
    "Проверим дубликаты:"
   ]
  },
  {
   "cell_type": "code",
   "execution_count": 5,
   "id": "4207ad40",
   "metadata": {},
   "outputs": [
    {
     "data": {
      "text/plain": [
       "0"
      ]
     },
     "execution_count": 5,
     "metadata": {},
     "output_type": "execute_result"
    }
   ],
   "source": [
    "dash_visits.duplicated().sum()"
   ]
  },
  {
   "cell_type": "markdown",
   "id": "28a1e7fe",
   "metadata": {},
   "source": [
    "- Дубликатов нет.\n",
    "\n",
    "Проверим каждый столбец  \n",
    "\n",
    "Столбец 'record_id'"
   ]
  },
  {
   "cell_type": "code",
   "execution_count": 6,
   "id": "a8416d31",
   "metadata": {},
   "outputs": [
    {
     "data": {
      "text/plain": [
       "count    3.074500e+04\n",
       "mean     1.055969e+06\n",
       "std      8.875461e+03\n",
       "min      1.040597e+06\n",
       "25%      1.048283e+06\n",
       "50%      1.055969e+06\n",
       "75%      1.063655e+06\n",
       "max      1.071341e+06\n",
       "Name: record_id, dtype: float64"
      ]
     },
     "execution_count": 6,
     "metadata": {},
     "output_type": "execute_result"
    }
   ],
   "source": [
    "dash_visits['record_id'].describe()"
   ]
  },
  {
   "cell_type": "code",
   "execution_count": 7,
   "id": "1e63d5d0",
   "metadata": {},
   "outputs": [
    {
     "data": {
      "text/plain": [
       "30745"
      ]
     },
     "execution_count": 7,
     "metadata": {},
     "output_type": "execute_result"
    }
   ],
   "source": [
    "dash_visits['record_id'].nunique()"
   ]
  },
  {
   "cell_type": "markdown",
   "id": "22eee68a",
   "metadata": {},
   "source": [
    "Все идентификаторы уникальны - кол-во уникальных 'record_id' равно кол-ву строк: **30745**"
   ]
  },
  {
   "cell_type": "markdown",
   "id": "5d4896ce",
   "metadata": {},
   "source": [
    "Проверим строковые столбцы 'item_topic','source_topic','age_segment'"
   ]
  },
  {
   "cell_type": "code",
   "execution_count": 8,
   "id": "f9856fcc",
   "metadata": {},
   "outputs": [
    {
     "name": "stdout",
     "output_type": "stream",
     "text": [
      "Отношения             1536\n",
      "Интересные факты      1535\n",
      "Наука                 1505\n",
      "Подборки              1456\n",
      "Полезные советы       1424\n",
      "Общество              1422\n",
      "Россия                1385\n",
      "История               1363\n",
      "Семья                 1287\n",
      "Путешествия           1247\n",
      "Деньги                1234\n",
      "Женщины               1230\n",
      "Дети                  1229\n",
      "Туризм                1206\n",
      "Здоровье              1203\n",
      "Красота               1193\n",
      "Культура              1160\n",
      "Юмор                  1129\n",
      "Искусство             1119\n",
      "Рассказы              1109\n",
      "Психология            1056\n",
      "Скандалы              1023\n",
      "Знаменитости           976\n",
      "Женская психология     914\n",
      "Шоу                    804\n",
      "Name: item_topic, dtype: int64\n",
      "Семейные отношения    1822\n",
      "Россия                1687\n",
      "Знаменитости          1650\n",
      "Полезные советы       1578\n",
      "Путешествия           1563\n",
      "Кино                  1505\n",
      "Дети                  1459\n",
      "История               1437\n",
      "Семья                 1405\n",
      "Одежда                1379\n",
      "Здоровье              1243\n",
      "Искусство             1228\n",
      "Авто                  1077\n",
      "Психология            1055\n",
      "Сад и дача            1036\n",
      "Политика              1024\n",
      "Спорт                 1007\n",
      "Сделай сам             995\n",
      "Ремонт                 985\n",
      "Деньги                 973\n",
      "Еда                    912\n",
      "Интерьеры              809\n",
      "Строительство          758\n",
      "Музыка                 750\n",
      "Технологии             741\n",
      "Финансы                667\n",
      "Name: source_topic, dtype: int64\n",
      "18-25    7056\n",
      "26-30    5875\n",
      "31-35    5552\n",
      "36-40    5105\n",
      "41-45    3903\n",
      "45+      3254\n",
      "Name: age_segment, dtype: int64\n"
     ]
    }
   ],
   "source": [
    "for column in ['item_topic','source_topic','age_segment']:\n",
    "    print(dash_visits[column].value_counts())"
   ]
  },
  {
   "cell_type": "markdown",
   "id": "c871caab",
   "metadata": {},
   "source": [
    "Столбец 'dt'"
   ]
  },
  {
   "cell_type": "code",
   "execution_count": 9,
   "id": "b3b97a28",
   "metadata": {},
   "outputs": [
    {
     "data": {
      "text/plain": [
       "0       2019-09-24 18:32:00\n",
       "1       2019-09-24 18:35:00\n",
       "2       2019-09-24 18:54:00\n",
       "3       2019-09-24 18:55:00\n",
       "4       2019-09-24 18:56:00\n",
       "                ...        \n",
       "30740   2019-09-24 18:57:00\n",
       "30741   2019-09-24 19:00:00\n",
       "30742   2019-09-24 18:54:00\n",
       "30743   2019-09-24 18:56:00\n",
       "30744   2019-09-24 19:00:00\n",
       "Name: dt, Length: 30745, dtype: datetime64[ns]"
      ]
     },
     "execution_count": 9,
     "metadata": {},
     "output_type": "execute_result"
    }
   ],
   "source": [
    "dash_visits['dt'].datetime_is_numeric=True\n",
    "dash_visits['dt']"
   ]
  },
  {
   "cell_type": "code",
   "execution_count": 12,
   "id": "e526ed70",
   "metadata": {},
   "outputs": [],
   "source": [
    "# Уберем предупреждения, чтобы они не отвлекали от результатов работы\n",
    "import warnings\n",
    "warnings.filterwarnings(\"ignore\")"
   ]
  },
  {
   "cell_type": "code",
   "execution_count": 13,
   "id": "eba49c4d",
   "metadata": {},
   "outputs": [
    {
     "data": {
      "text/plain": [
       "count                   30745\n",
       "unique                     17\n",
       "top       2019-09-24 18:58:00\n",
       "freq                     3383\n",
       "first     2019-09-24 18:28:00\n",
       "last      2019-09-24 19:00:00\n",
       "Name: dt, dtype: object"
      ]
     },
     "execution_count": 13,
     "metadata": {},
     "output_type": "execute_result"
    }
   ],
   "source": [
    "dash_visits['dt'].describe()"
   ]
  },
  {
   "cell_type": "code",
   "execution_count": 14,
   "id": "127d9020",
   "metadata": {},
   "outputs": [
    {
     "data": {
      "text/plain": [
       "array(['2019-09-24T18:28:00.000000000', '2019-09-24T18:29:00.000000000',\n",
       "       '2019-09-24T18:30:00.000000000', '2019-09-24T18:31:00.000000000',\n",
       "       '2019-09-24T18:32:00.000000000', '2019-09-24T18:33:00.000000000',\n",
       "       '2019-09-24T18:34:00.000000000', '2019-09-24T18:35:00.000000000',\n",
       "       '2019-09-24T18:52:00.000000000', '2019-09-24T18:53:00.000000000',\n",
       "       '2019-09-24T18:54:00.000000000', '2019-09-24T18:55:00.000000000',\n",
       "       '2019-09-24T18:56:00.000000000', '2019-09-24T18:57:00.000000000',\n",
       "       '2019-09-24T18:58:00.000000000', '2019-09-24T18:59:00.000000000',\n",
       "       '2019-09-24T19:00:00.000000000'], dtype='datetime64[ns]')"
      ]
     },
     "execution_count": 14,
     "metadata": {},
     "output_type": "execute_result"
    }
   ],
   "source": [
    "dash_visits['dt'].sort_values().unique()"
   ]
  },
  {
   "cell_type": "markdown",
   "id": "c294b2e5",
   "metadata": {},
   "source": [
    "- 17 уникальных значений. Всё хорошо.  \n",
    "\n",
    "Столбец 'visits'"
   ]
  },
  {
   "cell_type": "code",
   "execution_count": 15,
   "id": "5cd8a28d",
   "metadata": {},
   "outputs": [
    {
     "data": {
      "text/plain": [
       "count    30745.000000\n",
       "mean        10.089673\n",
       "std         19.727601\n",
       "min          1.000000\n",
       "25%          1.000000\n",
       "50%          3.000000\n",
       "75%         10.000000\n",
       "max        371.000000\n",
       "Name: visits, dtype: float64"
      ]
     },
     "execution_count": 15,
     "metadata": {},
     "output_type": "execute_result"
    }
   ],
   "source": [
    "dash_visits['visits'].describe()"
   ]
  },
  {
   "cell_type": "markdown",
   "id": "64d0a305",
   "metadata": {},
   "source": [
    "Посмотрим распределение данных"
   ]
  },
  {
   "cell_type": "code",
   "execution_count": 24,
   "id": "0abaa1a5",
   "metadata": {},
   "outputs": [
    {
     "data": {
      "image/png": "[encoded data removed]",
      "text/plain": [
       "<Figure size 1080x288 with 1 Axes>"
      ]
     },
     "metadata": {
      "needs_background": "light"
     },
     "output_type": "display_data"
    }
   ],
   "source": [
    "dash_visits['visits'].hist(bins=50, figsize=(15,4));"
   ]
  },
  {
   "cell_type": "markdown",
   "id": "bcf79e49",
   "metadata": {},
   "source": [
    "Детализируем"
   ]
  },
  {
   "cell_type": "code",
   "execution_count": 23,
   "id": "c61e29d3",
   "metadata": {},
   "outputs": [
    {
     "data": {
      "image/png": "[encoded data removed]",
      "text/plain": [
       "<Figure size 1080x288 with 1 Axes>"
      ]
     },
     "metadata": {
      "needs_background": "light"
     },
     "output_type": "display_data"
    }
   ],
   "source": [
    "dash_visits['visits'].hist(bins=50, figsize=(15,4), range=(60,372));"
   ]
  },
  {
   "cell_type": "markdown",
   "id": "b519c4dd",
   "metadata": {},
   "source": [
    "Увеличим диапазон range"
   ]
  },
  {
   "cell_type": "code",
   "execution_count": 25,
   "id": "7ee7b2d5",
   "metadata": {},
   "outputs": [
    {
     "data": {
      "image/png": "[encoded data removed]",
      "text/plain": [
       "<Figure size 1080x288 with 1 Axes>"
      ]
     },
     "metadata": {
      "needs_background": "light"
     },
     "output_type": "display_data"
    }
   ],
   "source": [
    "dash_visits['visits'].hist(bins=50, figsize=(15,4), range=(120,372));"
   ]
  },
  {
   "cell_type": "markdown",
   "id": "42c532b8",
   "metadata": {},
   "source": [
    "- Есть большие значения (выбросы) до 371, подавляюще большинство значений расположено от от 1 до 25. Всё оставляем так как есть\n",
    "\n",
    "**Вывод:**  \n",
    "- Данные целостные, типы в подходящие, дубликатов нет данные не требуют обработки. Единственное - были замечены большие значения в столбце \"visits\". Вся таблица оставлена для анализа без изменений."
   ]
  },
  {
   "cell_type": "markdown",
   "id": "68590aff",
   "metadata": {},
   "source": [
    "## Экспортируем данные в csv-файл"
   ]
  },
  {
   "cell_type": "code",
   "execution_count": 26,
   "id": "a229704a",
   "metadata": {},
   "outputs": [],
   "source": [
    "dash_visits.to_csv('dash_visits.csv', index=False)"
   ]
  },
  {
   "cell_type": "code",
   "execution_count": 27,
   "id": "b3a74694",
   "metadata": {},
   "outputs": [
    {
     "data": {
      "text/html": [
       "<div>\n",
       "<style scoped>\n",
       "    .dataframe tbody tr th:only-of-type {\n",
       "        vertical-align: middle;\n",
       "    }\n",
       "\n",
       "    .dataframe tbody tr th {\n",
       "        vertical-align: top;\n",
       "    }\n",
       "\n",
       "    .dataframe thead th {\n",
       "        text-align: right;\n",
       "    }\n",
       "</style>\n",
       "<table border=\"1\" class=\"dataframe\">\n",
       "  <thead>\n",
       "    <tr style=\"text-align: right;\">\n",
       "      <th></th>\n",
       "      <th>record_id</th>\n",
       "      <th>item_topic</th>\n",
       "      <th>source_topic</th>\n",
       "      <th>age_segment</th>\n",
       "      <th>dt</th>\n",
       "      <th>visits</th>\n",
       "    </tr>\n",
       "  </thead>\n",
       "  <tbody>\n",
       "    <tr>\n",
       "      <th>0</th>\n",
       "      <td>1040597</td>\n",
       "      <td>Деньги</td>\n",
       "      <td>Авто</td>\n",
       "      <td>18-25</td>\n",
       "      <td>2019-09-24 18:32:00</td>\n",
       "      <td>3</td>\n",
       "    </tr>\n",
       "    <tr>\n",
       "      <th>1</th>\n",
       "      <td>1040598</td>\n",
       "      <td>Деньги</td>\n",
       "      <td>Авто</td>\n",
       "      <td>18-25</td>\n",
       "      <td>2019-09-24 18:35:00</td>\n",
       "      <td>1</td>\n",
       "    </tr>\n",
       "    <tr>\n",
       "      <th>2</th>\n",
       "      <td>1040599</td>\n",
       "      <td>Деньги</td>\n",
       "      <td>Авто</td>\n",
       "      <td>18-25</td>\n",
       "      <td>2019-09-24 18:54:00</td>\n",
       "      <td>4</td>\n",
       "    </tr>\n",
       "    <tr>\n",
       "      <th>3</th>\n",
       "      <td>1040600</td>\n",
       "      <td>Деньги</td>\n",
       "      <td>Авто</td>\n",
       "      <td>18-25</td>\n",
       "      <td>2019-09-24 18:55:00</td>\n",
       "      <td>17</td>\n",
       "    </tr>\n",
       "    <tr>\n",
       "      <th>4</th>\n",
       "      <td>1040601</td>\n",
       "      <td>Деньги</td>\n",
       "      <td>Авто</td>\n",
       "      <td>18-25</td>\n",
       "      <td>2019-09-24 18:56:00</td>\n",
       "      <td>27</td>\n",
       "    </tr>\n",
       "    <tr>\n",
       "      <th>...</th>\n",
       "      <td>...</td>\n",
       "      <td>...</td>\n",
       "      <td>...</td>\n",
       "      <td>...</td>\n",
       "      <td>...</td>\n",
       "      <td>...</td>\n",
       "    </tr>\n",
       "    <tr>\n",
       "      <th>30740</th>\n",
       "      <td>1071337</td>\n",
       "      <td>Юмор</td>\n",
       "      <td>Финансы</td>\n",
       "      <td>36-40</td>\n",
       "      <td>2019-09-24 18:57:00</td>\n",
       "      <td>2</td>\n",
       "    </tr>\n",
       "    <tr>\n",
       "      <th>30741</th>\n",
       "      <td>1071338</td>\n",
       "      <td>Юмор</td>\n",
       "      <td>Финансы</td>\n",
       "      <td>36-40</td>\n",
       "      <td>2019-09-24 19:00:00</td>\n",
       "      <td>1</td>\n",
       "    </tr>\n",
       "    <tr>\n",
       "      <th>30742</th>\n",
       "      <td>1071339</td>\n",
       "      <td>Юмор</td>\n",
       "      <td>Финансы</td>\n",
       "      <td>41-45</td>\n",
       "      <td>2019-09-24 18:54:00</td>\n",
       "      <td>1</td>\n",
       "    </tr>\n",
       "    <tr>\n",
       "      <th>30743</th>\n",
       "      <td>1071340</td>\n",
       "      <td>Юмор</td>\n",
       "      <td>Финансы</td>\n",
       "      <td>41-45</td>\n",
       "      <td>2019-09-24 18:56:00</td>\n",
       "      <td>1</td>\n",
       "    </tr>\n",
       "    <tr>\n",
       "      <th>30744</th>\n",
       "      <td>1071341</td>\n",
       "      <td>Юмор</td>\n",
       "      <td>Финансы</td>\n",
       "      <td>41-45</td>\n",
       "      <td>2019-09-24 19:00:00</td>\n",
       "      <td>1</td>\n",
       "    </tr>\n",
       "  </tbody>\n",
       "</table>\n",
       "<p>30745 rows × 6 columns</p>\n",
       "</div>"
      ],
      "text/plain": [
       "       record_id item_topic source_topic age_segment                   dt  \\\n",
       "0        1040597     Деньги         Авто       18-25  2019-09-24 18:32:00   \n",
       "1        1040598     Деньги         Авто       18-25  2019-09-24 18:35:00   \n",
       "2        1040599     Деньги         Авто       18-25  2019-09-24 18:54:00   \n",
       "3        1040600     Деньги         Авто       18-25  2019-09-24 18:55:00   \n",
       "4        1040601     Деньги         Авто       18-25  2019-09-24 18:56:00   \n",
       "...          ...        ...          ...         ...                  ...   \n",
       "30740    1071337       Юмор      Финансы       36-40  2019-09-24 18:57:00   \n",
       "30741    1071338       Юмор      Финансы       36-40  2019-09-24 19:00:00   \n",
       "30742    1071339       Юмор      Финансы       41-45  2019-09-24 18:54:00   \n",
       "30743    1071340       Юмор      Финансы       41-45  2019-09-24 18:56:00   \n",
       "30744    1071341       Юмор      Финансы       41-45  2019-09-24 19:00:00   \n",
       "\n",
       "       visits  \n",
       "0           3  \n",
       "1           1  \n",
       "2           4  \n",
       "3          17  \n",
       "4          27  \n",
       "...       ...  \n",
       "30740       2  \n",
       "30741       1  \n",
       "30742       1  \n",
       "30743       1  \n",
       "30744       1  \n",
       "\n",
       "[30745 rows x 6 columns]"
      ]
     },
     "execution_count": 27,
     "metadata": {},
     "output_type": "execute_result"
    }
   ],
   "source": [
    "test_visits = pd.read_csv('dash_visits.csv')\n",
    "test_visits"
   ]
  },
  {
   "cell_type": "markdown",
   "id": "6cf9f4e0",
   "metadata": {},
   "source": [
    "- Данные экспортированы успешно в файл - 'dash_visits.csv'."
   ]
  },
  {
   "cell_type": "markdown",
   "id": "fda2752a",
   "metadata": {},
   "source": [
    "Cсылка на дашборд на сайте Tableau Public:\n",
    "[Яндекс.Дзен](https://public.tableau.com/app/profile/in.kirilov/viz/__16616082786690/_?publish=yes)"
   ]
  },
  {
   "cell_type": "markdown",
   "id": "3646a266",
   "metadata": {},
   "source": [
    "Cсылка на презентацию:\n",
    "[Яндекс.Дзен](https://drive.google.com/file/d/1rP_E9vs7n_PzCFPI5Ro4IUaKAS3F9eN6/view?usp=sharing)"
   ]
  }
 ],
 "metadata": {
  "kernelspec": {
   "display_name": "Python 3 (ipykernel)",
   "language": "python",
   "name": "python3"
  },
  "language_info": {
   "codemirror_mode": {
    "name": "ipython",
    "version": 3
   },
   "file_extension": ".py",
   "mimetype": "text/x-python",
   "name": "python",
   "nbconvert_exporter": "python",
   "pygments_lexer": "ipython3",
   "version": "3.9.7"
  },
  "toc": {
   "base_numbering": 1,
   "nav_menu": {},
   "number_sections": true,
   "sideBar": true,
   "skip_h1_title": true,
   "title_cell": "Создание дашборда по пользовательским событиям для агрегатора новостей",
   "title_sidebar": "Содержание",
   "toc_cell": true,
   "toc_position": {},
   "toc_section_display": true,
   "toc_window_display": true
  }
 },
 "nbformat": 4,
 "nbformat_minor": 5
}
