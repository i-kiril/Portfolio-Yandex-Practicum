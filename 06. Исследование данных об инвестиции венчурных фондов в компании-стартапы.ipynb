{
 "cells": [
  {
   "cell_type": "markdown",
   "id": "bdd68f26",
   "metadata": {
    "toc": true
   },
   "source": [
    "<h1>Исследование данных об инвестиции венчурных фондов в компании-стартапы<span class=\"tocSkip\"></span></h1>\n",
    "<div class=\"toc\"><ul class=\"toc-item\"><li><span><a href=\"#Задача\" data-toc-modified-id=\"Задача-1\"><span class=\"toc-item-num\">1&nbsp;&nbsp;</span>Задача</a></span></li><li><span><a href=\"#Задача\" data-toc-modified-id=\"Задача-2\"><span class=\"toc-item-num\">2&nbsp;&nbsp;</span>Задача</a></span></li><li><span><a href=\"#Задача\" data-toc-modified-id=\"Задача-3\"><span class=\"toc-item-num\">3&nbsp;&nbsp;</span>Задача</a></span></li><li><span><a href=\"#Задача\" data-toc-modified-id=\"Задача-4\"><span class=\"toc-item-num\">4&nbsp;&nbsp;</span>Задача</a></span></li><li><span><a href=\"#Задача\" data-toc-modified-id=\"Задача-5\"><span class=\"toc-item-num\">5&nbsp;&nbsp;</span>Задача</a></span></li><li><span><a href=\"#Задача\" data-toc-modified-id=\"Задача-6\"><span class=\"toc-item-num\">6&nbsp;&nbsp;</span>Задача</a></span></li><li><span><a href=\"#Задача\" data-toc-modified-id=\"Задача-7\"><span class=\"toc-item-num\">7&nbsp;&nbsp;</span>Задача</a></span></li><li><span><a href=\"#Задача\" data-toc-modified-id=\"Задача-8\"><span class=\"toc-item-num\">8&nbsp;&nbsp;</span>Задача</a></span></li><li><span><a href=\"#Задача\" data-toc-modified-id=\"Задача-9\"><span class=\"toc-item-num\">9&nbsp;&nbsp;</span>Задача</a></span></li><li><span><a href=\"#Задача\" data-toc-modified-id=\"Задача-10\"><span class=\"toc-item-num\">10&nbsp;&nbsp;</span>Задача</a></span></li><li><span><a href=\"#Задача\" data-toc-modified-id=\"Задача-11\"><span class=\"toc-item-num\">11&nbsp;&nbsp;</span>Задача</a></span></li><li><span><a href=\"#Задача\" data-toc-modified-id=\"Задача-12\"><span class=\"toc-item-num\">12&nbsp;&nbsp;</span>Задача</a></span></li><li><span><a href=\"#Задача\" data-toc-modified-id=\"Задача-13\"><span class=\"toc-item-num\">13&nbsp;&nbsp;</span>Задача</a></span></li><li><span><a href=\"#Задача\" data-toc-modified-id=\"Задача-14\"><span class=\"toc-item-num\">14&nbsp;&nbsp;</span>Задача</a></span></li><li><span><a href=\"#Задача\" data-toc-modified-id=\"Задача-15\"><span class=\"toc-item-num\">15&nbsp;&nbsp;</span>Задача</a></span></li><li><span><a href=\"#Задача\" data-toc-modified-id=\"Задача-16\"><span class=\"toc-item-num\">16&nbsp;&nbsp;</span>Задача</a></span></li><li><span><a href=\"#Задача\" data-toc-modified-id=\"Задача-17\"><span class=\"toc-item-num\">17&nbsp;&nbsp;</span>Задача</a></span></li><li><span><a href=\"#Задача\" data-toc-modified-id=\"Задача-18\"><span class=\"toc-item-num\">18&nbsp;&nbsp;</span>Задача</a></span></li><li><span><a href=\"#Задача\" data-toc-modified-id=\"Задача-19\"><span class=\"toc-item-num\">19&nbsp;&nbsp;</span>Задача</a></span></li><li><span><a href=\"#Задача\" data-toc-modified-id=\"Задача-20\"><span class=\"toc-item-num\">20&nbsp;&nbsp;</span>Задача</a></span></li><li><span><a href=\"#Задача\" data-toc-modified-id=\"Задача-21\"><span class=\"toc-item-num\">21&nbsp;&nbsp;</span>Задача</a></span></li><li><span><a href=\"#Задача\" data-toc-modified-id=\"Задача-22\"><span class=\"toc-item-num\">22&nbsp;&nbsp;</span>Задача</a></span></li><li><span><a href=\"#Задача\" data-toc-modified-id=\"Задача-23\"><span class=\"toc-item-num\">23&nbsp;&nbsp;</span>Задача</a></span></li></ul></div>"
   ]
  },
  {
   "cell_type": "markdown",
   "id": "ca1e59bd",
   "metadata": {},
   "source": [
    "# Задачи SQL   \n",
    "\n",
    "**В самостоятельном проекте нужно проанализировать данные о фондах и инвестициях и написать запросы к базе.** "
   ]
  },
  {
   "cell_type": "code",
   "execution_count": 9,
   "id": "5272a184",
   "metadata": {},
   "outputs": [],
   "source": [
    "from IPython.display import Image"
   ]
  },
  {
   "cell_type": "code",
   "execution_count": 10,
   "id": "37f70b99",
   "metadata": {},
   "outputs": [],
   "source": [
    "import warnings\n",
    "warnings.filterwarnings('ignore')\n",
    "\n",
    "# импортируем библиотеки\n",
    "import pandas as pd\n",
    "from sqlalchemy import create_engine\n",
    "import datetime as dt"
   ]
  },
  {
   "cell_type": "code",
   "execution_count": 11,
   "id": "c4f2a17d",
   "metadata": {},
   "outputs": [
    {
     "name": "stderr",
     "output_type": "stream",
     "text": [
      "\"[]\" ­Ґ пў«пҐвбп ў­гваҐ­­Ґ© Ё«Ё ў­Ґи­Ґ©\n",
      "Є®¬ ­¤®©, ЁбЇ®«­пҐ¬®© Їа®Ја ¬¬®© Ё«Ё Ї ЄҐв­л¬ д ©«®¬.\n"
     ]
    }
   ],
   "source": [
    "![](https://pictures.s3.yandex.net/resources/13_border2880_1628581406.png)"
   ]
  },
  {
   "cell_type": "markdown",
   "id": "b939ea1c",
   "metadata": {},
   "source": [
    "# Таблицы:\n",
    "\n",
    "**acquisition**  \n",
    "Содержит информацию о покупках одних компаний другими.  \n",
    "\n",
    "Таблица включает такие поля:   \n",
    "- первичный ключ id — идентификатор или уникальный номер покупки;  \n",
    "- внешний ключ acquiring_company_id — ссылается на таблицу company — идентификатор компании-покупателя, то есть той, что покупает  другую компанию;  \n",
    "- внешний ключ acquired_company_id — ссылается на таблицу company — идентификатор компании, которую покупают;   \n",
    "- term_code — способ оплаты сделки:   \n",
    "  - cash — наличными;  \n",
    "  - stock — акциями компании;  \n",
    "  - cash_and_stock — смешанный тип оплаты: наличные и акции.  \n",
    "- price_amount — сумма покупки в долларах;  \n",
    "- acquired_at — дата совершения сделки;  \n",
    "- created_at — дата и время создания записи в таблице;  \n",
    "- updated_at — дата и время обновления записи в таблице."
   ]
  },
  {
   "cell_type": "markdown",
   "id": "ca867064",
   "metadata": {},
   "source": [
    "**company**  \n",
    "Содержит информацию о компаниях-стартапах.  \n",
    "\n",
    "- первичный ключ id — идентификатор, или уникальный номер компании;  \n",
    "- name — название компании;  \n",
    "- category_code — категория деятельности компании, например:  \n",
    "  - news — специализируется на работе с новостями;  \n",
    "  - social — специализируется на социальной работе.  \n",
    "- status — статус компании:  \n",
    "  - acquired — приобретена;  \n",
    "  - operating — действует;  \n",
    "  - ipo — вышла на IPO;  \n",
    "  - closed — перестала существовать.  \n",
    "- founded_at — дата основания компании;  \n",
    "- closed_at — дата закрытия компании, которую указывают в том случае, если компании больше не существует;  \n",
    "- domain — домен сайта компании;  \n",
    "- twitter_username — название профиля компании в твиттере;  \n",
    "- country_code — код страны, например, USA для США, GBR для Великобритании;  \n",
    "- investment_rounds — число раундов, в которых компания участвовала как инвестор;  \n",
    "- funding_rounds — число раундов, в которых компания привлекала инвестиции;  \n",
    "- funding_total — сумма привлечённых инвестиций в долларах;  \n",
    "- milestones — количество важных этапов в истории компании;  \n",
    "- created_at — дата и время создания записи в таблице;  \n",
    "- updated_at — дата и время обновления записи в таблице."
   ]
  },
  {
   "cell_type": "markdown",
   "id": "47df947a",
   "metadata": {},
   "source": [
    "**education**  \n",
    "Хранит информацию об уровне образования сотрудников компаний.  \n",
    "\n",
    "- первичный ключ id — уникальный номер записи с информацией об образовании;  \n",
    "- внешний ключ *person_id* — ссылается на таблицу **people** — идентификатор человека, информация о котором представлена в записи;  \n",
    "- degree_type — учебная степень, например:  \n",
    "  - BA — Bachelor of Arts — бакалавр гуманитарных наук;  \n",
    "  - MS — Master of Science — магистр естественных наук.  \n",
    "- instituition — учебное заведение, название университета;  \n",
    "- graduated_at — дата завершения обучения, выпуска;  \n",
    "- created_at — дата и время создания записи в таблице;  \n",
    "- updated_at — дата и время обновления записи в таблице."
   ]
  },
  {
   "cell_type": "markdown",
   "id": "df80708a",
   "metadata": {},
   "source": [
    "**fund**  \n",
    "Хранит информацию о венчурных фондах.  \n",
    "\n",
    "- первичный ключ id — уникальный номер венчурного фонда;  \n",
    "- name — название венчурного фонда;  \n",
    "- founded_at — дата основания фонда;  \n",
    "- domain — домен сайта фонда;  \n",
    "- twitter_username — профиль фонда в твиттере;  \n",
    "- country_code — код страны фонда;  \n",
    "- investment_rounds — число инвестиционных раундов, в которых фонд принимал участие;  \n",
    "- invested_companies — число компаний, в которые инвестировал фонд;  \n",
    "- milestones — количество важных этапов в истории фонда;  \n",
    "- created_at — дата и время создания записи в таблице;  \n",
    "- updated_at — дата и время обновления записи в таблице."
   ]
  },
  {
   "cell_type": "markdown",
   "id": "5d88e197",
   "metadata": {},
   "source": [
    "**funding_round**  \n",
    "Содержит информацию о раундах инвестиций.  \n",
    "\n",
    "- первичный ключ id — уникальный номер инвестиционного раунда;  \n",
    "- внешний ключ *company_id* — ссылается на таблицу **company** — уникальный номер компании, участвовавшей в инвестиционном раунде;  \n",
    "funded_at — дата проведения раунда;  \n",
    "- funding_round_type — тип инвестиционного раунда, например:  \n",
    "  - venture — венчурный раунд;  \n",
    "  - angel — ангельский раунд;  \n",
    "  - series_a — раунд А.  \n",
    "- raised_amount — сумма инвестиций, которую привлекла компания в этом раунде в долларах;  \n",
    "- pre_money_valuation — предварительная, проведённая до инвестиций оценка стоимости компании в долларах;  \n",
    "- participants — количество участников инвестиционного раунда;  \n",
    "- is_first_round — является ли этот раунд первым для компании;  \n",
    "- is_last_round — является ли этот раунд последним для компании;  \n",
    "- created_at — дата и время создания записи в таблице;  \n",
    "- updated_at — дата и время обновления записи в таблице."
   ]
  },
  {
   "cell_type": "markdown",
   "id": "fa5858dd",
   "metadata": {},
   "source": [
    "**investment**  \n",
    "Содержит информацию об инвестициях венчурных фондов в компании-стартапы.  \n",
    "\n",
    "- первичный ключ id — уникальный номер инвестиции;  \n",
    "- внешний ключ funding_round_id — ссылается на таблицу funding_round — уникальный номер раунда инвестиции;  \n",
    "- внешний ключ company_id — ссылается на таблицу company — уникальный номер компании-стартапа, в которую инвестируют;  \n",
    "- внешний ключ fund_id — ссылается на таблицу fund — уникальный номер фонда, инвестирующего в компанию-стартап;  \n",
    "- created_at — дата и время создания записи в таблице;  \n",
    "- updated_at — дата и время обновления записи в таблице."
   ]
  },
  {
   "cell_type": "markdown",
   "id": "7f79ca80",
   "metadata": {},
   "source": [
    "**people**  \n",
    "Содержит информацию о сотрудниках компаний-стартапов.  \n",
    "\n",
    "- первичный ключ id — уникальный номер сотрудника;  \n",
    "- first_name — имя сотрудника;  \n",
    "- last_name — фамилия сотрудника;  \n",
    "- внешний ключ company_id — ссылается на таблицу company — уникальный номер компании-стартапа;  \n",
    "- twitter_username — профиль сотрудника в твиттере;  \n",
    "- created_at — дата и время создания записи в таблице;  \n",
    "- updated_at — дата и время обновления записи в таблице."
   ]
  },
  {
   "cell_type": "markdown",
   "id": "ddd9ee81",
   "metadata": {},
   "source": [
    "## Задача  \n",
    "\n",
    "Посчитайте, сколько компаний закрылось."
   ]
  },
  {
   "cell_type": "code",
   "execution_count": null,
   "id": "d5b25761",
   "metadata": {},
   "outputs": [],
   "source": [
    "SELECT COUNT(status) AS company_closed\n",
    "FROM company\n",
    "WHERE status = 'closed';\n",
    "\n",
    "Результат\n",
    "company_closed\n",
    "2584"
   ]
  },
  {
   "cell_type": "markdown",
   "id": "9a84c8ae",
   "metadata": {},
   "source": [
    "## Задача  \n",
    "\n",
    "Отобразите количество привлечённых средств для новостных компаний США.  \n",
    "Используйте данные из таблицы company. Отсортируйте таблицу по убыванию значений в поле funding_total.  "
   ]
  },
  {
   "cell_type": "code",
   "execution_count": null,
   "id": "dbd14bd3",
   "metadata": {},
   "outputs": [],
   "source": [
    "SELECT funding_total\n",
    "FROM company\n",
    "WHERE country_code = 'USA'\n",
    "    AND category_code = 'news' \n",
    "ORDER BY funding_total DESC;\n",
    "\n",
    "Результат\n",
    "funding_total\n",
    "6.22553e+08\n",
    "2.5e+08\n",
    "1.605e+08\n",
    "1.28e+08\n",
    "1.265e+08\n",
    "\n"
   ]
  },
  {
   "cell_type": "markdown",
   "id": "29f61a76",
   "metadata": {},
   "source": [
    "## Задача  \n",
    "\n",
    "Найдите общую сумму сделок по покупке одних компаний другими в долларах.  \n",
    "Отберите сделки, которые осуществлялись только за наличные с 2011 по 2013 год включительно."
   ]
  },
  {
   "cell_type": "code",
   "execution_count": null,
   "id": "6c0bd906",
   "metadata": {},
   "outputs": [],
   "source": [
    "SELECT SUM(price_amount) AS sum_cash_2011_13\n",
    "FROM acquisition\n",
    "WHERE EXTRACT(YEAR FROM cast(acquired_at AS date)) BETWEEN '2011' AND '2013'\n",
    "    AND term_code = 'cash' \n",
    "\n",
    "Результат\n",
    "sum_cash_2011_13\n",
    "1.37762e+11"
   ]
  },
  {
   "cell_type": "markdown",
   "id": "aaf05706",
   "metadata": {},
   "source": [
    "## Задача  \n",
    "\n",
    "Отобразите имя, фамилию и названия аккаунтов людей в твиттере, у которых названия аккаунтов начинаются на 'Silver'."
   ]
  },
  {
   "cell_type": "code",
   "execution_count": null,
   "id": "3d95872d",
   "metadata": {},
   "outputs": [],
   "source": [
    "SELECT first_name,\n",
    "       last_name,\n",
    "       twitter_username\n",
    "FROM people\n",
    "WHERE twitter_username LIKE 'Silver%'\n",
    "\n",
    "Результат\n",
    "sum_cash_2011_13\n",
    "1.37762e+11"
   ]
  },
  {
   "cell_type": "markdown",
   "id": "2fa2722b",
   "metadata": {},
   "source": [
    "## Задача  \n",
    "\n",
    "Выведите на экран всю информацию о людях, у которых названия аккаунтов в твиттере содержат подстроку 'money', а фамилия начинается на 'K'."
   ]
  },
  {
   "cell_type": "code",
   "execution_count": null,
   "id": "0122cc9f",
   "metadata": {},
   "outputs": [],
   "source": [
    "SELECT *\n",
    "FROM people\n",
    "WHERE twitter_username LIKE '%money%'\n",
    "     AND last_name LIKE 'K%'\n",
    "\n",
    "Результат\n",
    "id\tfirst_name\tlast_name\tcompany_id\ttwitter_username\tcreated_at\tupdated_at\n",
    "63081\tGregory\tKim\t\tgmoney75\t2010-07-13 03:46:28\t2011-12-12 22:01:34\n"
   ]
  },
  {
   "cell_type": "markdown",
   "id": "c583f717",
   "metadata": {},
   "source": [
    "## Задача   \n",
    "\n",
    "Для каждой страны отобразите общую сумму привлечённых инвестиций, которые получили компании, зарегистрированные в этой стране. Страну, в которой зарегистрирована компания, можно определить по коду страны. Отсортируйте данные по убыванию суммы."
   ]
  },
  {
   "cell_type": "code",
   "execution_count": null,
   "id": "af8b0391",
   "metadata": {},
   "outputs": [],
   "source": [
    "SELECT country_code,\n",
    "       SUM(funding_total) \n",
    "FROM company\n",
    "GROUP BY country_code\n",
    "ORDER BY SUM(funding_total) DESC;\n",
    "\n",
    "Результат\n",
    "country_code\tsum\n",
    "USA\t3.10588e+11\n",
    "...\n",
    "ZWE\t0"
   ]
  },
  {
   "cell_type": "markdown",
   "id": "732c38ba",
   "metadata": {},
   "source": [
    "## Задача  \n",
    "\n",
    "Составьте таблицу, в которую войдёт дата проведения раунда, а также минимальное и максимальное значения суммы инвестиций, привлечённых в эту дату.\n",
    "Оставьте в итоговой таблице только те записи, в которых минимальное значение суммы инвестиций не равно нулю и не равно максимальному значению."
   ]
  },
  {
   "cell_type": "code",
   "execution_count": null,
   "id": "11ad0b8b",
   "metadata": {},
   "outputs": [],
   "source": [
    "SELECT CAST(funded_at AS date),\n",
    "       MIN(raised_amount),\n",
    "       MAX(raised_amount)\n",
    "FROM funding_round\n",
    "GROUP BY funded_at\n",
    "HAVING MIN(raised_amount) <> MAX(raised_amount) \n",
    "    AND MIN(raised_amount) <> 0;\n",
    "\n",
    "    Результат\n",
    "funded_at\tmin\tmax\n",
    "2012-08-22\t40000\t7.5e+07\n",
    "..."
   ]
  },
  {
   "cell_type": "markdown",
   "id": "dee24c3a",
   "metadata": {},
   "source": [
    "## Задача  \n",
    "\n",
    "Создайте поле с категориями:  \n",
    " - Для фондов, которые инвестируют в 100 и более компаний, назначьте категорию high_activity.  \n",
    " - Для фондов, которые инвестируют в 20 и более компаний до 100, назначьте категорию middle_activity.  \n",
    " - Если количество инвестируемых компаний фонда не достигает 20, назначьте категорию low_activity.  \n",
    "\n",
    "Отобразите все поля таблицы fund и новое поле с категориями."
   ]
  },
  {
   "cell_type": "code",
   "execution_count": null,
   "id": "6ab65bca",
   "metadata": {},
   "outputs": [],
   "source": [
    "select *,\n",
    "       CASE WHEN invested_companies>=100 THEN 'high_activity'\n",
    "            WHEN invested_companies>=20 THEN 'middle_activity'\n",
    "            ELSE 'low_activity'\n",
    "       END AS activity\n",
    "FROM fund\n",
    "\n",
    "Результат\n",
    "id\tname\tfounded_at\tdomain\ttwitter_username\tcountry_code\tinvestment_rounds\tinvested_companies\tmilestones\tcreated_at\tupdated_at\tactivity\n",
    "13131"
   ]
  },
  {
   "cell_type": "markdown",
   "id": "687fbef2",
   "metadata": {},
   "source": [
    "## Задача  \n",
    "\n",
    "\n",
    "Для каждой из категорий, назначенных в предыдущем задании, посчитайте округлённое до ближайшего целого числа среднее количество инвестиционных раундов, в которых фонд принимал участие. Выведите на экран категории и среднее число инвестиционных раундов. Отсортируйте таблицу по возрастанию среднего."
   ]
  },
  {
   "cell_type": "code",
   "execution_count": null,
   "id": "b907207c",
   "metadata": {},
   "outputs": [],
   "source": [
    "SELECT \n",
    "       CASE\n",
    "           WHEN invested_companies>=100 THEN 'high_activity'\n",
    "           WHEN invested_companies>=20 THEN 'middle_activity'\n",
    "           ELSE 'low_activity'\n",
    "       END AS activity,\n",
    "       ROUND(AVG(investment_rounds))\n",
    "FROM fund\n",
    "GROUP BY activity\n",
    "ORDER BY ROUND(AVG(investment_rounds)),\n",
    "       CASE\n",
    "           WHEN invested_companies>=100 THEN 'high_activity'\n",
    "           WHEN invested_companies>=20 THEN 'middle_activity'\n",
    "           ELSE 'low_activity'\n",
    "       END;\n",
    "    \n",
    "Результат\n",
    "activity\tround\n",
    "low_activity\t2\n",
    "middle_activity\t51\n",
    "high_activity\t252"
   ]
  },
  {
   "cell_type": "markdown",
   "id": "1d34bb48",
   "metadata": {},
   "source": [
    "## Задача  \n",
    "\n",
    "Проанализируйте, в каких странах находятся фонды, которые чаще всего инвестируют в стартапы.  \n",
    "\n",
    "Для каждой страны посчитайте минимальное, максимальное и среднее число компаний, в которые инвестировали фонды этой страны, основанные с 2010 по 2012 год включительно. Исключите страны с фондами, у которых минимальное число компаний, получивших инвестиции, равно нулю. Выгрузите десять самых активных стран-инвесторов.  \n",
    "\n",
    "Отсортируйте таблицу по среднему количеству компаний от большего к меньшему, а затем по коду страны в лексикографическом порядке."
   ]
  },
  {
   "cell_type": "code",
   "execution_count": null,
   "id": "f41b9b39",
   "metadata": {},
   "outputs": [],
   "source": [
    "SELECT country_code,\n",
    "       MIN(invested_companies) AS min_inv_comp,\n",
    "       MAX(invested_companies) AS max_inv_comp,\n",
    "       AVG(invested_companies) AS avg_inv_comp\n",
    "FROM fund\n",
    "WHERE EXTRACT(YEAR FROM cast(founded_at AS date)) BETWEEN '2010' AND '2012'\n",
    "GROUP BY country_code\n",
    "HAVING MIN(invested_companies)<>0\n",
    "ORDER BY avg_inv_comp DESC \n",
    "limit 10;\n",
    "\n",
    "Результат\n",
    "country_code\tmin_inv_comp\tmax_inv_comp\tavg_inv_comp\n",
    "BGR\t25\t35\t30\n",
    "CHL\t29\t29\t29\n",
    "...."
   ]
  },
  {
   "cell_type": "markdown",
   "id": "2468707c",
   "metadata": {},
   "source": [
    "## Задача   \n",
    "\n",
    "Отобразите имя и фамилию всех сотрудников стартапов. Добавьте поле с названием учебного заведения, которое окончил сотрудник, если эта информация известна."
   ]
  },
  {
   "cell_type": "code",
   "execution_count": null,
   "id": "dc7a32cb",
   "metadata": {},
   "outputs": [],
   "source": [
    "SELECT first_name,\n",
    "       last_name,\n",
    "       instituition\n",
    "FROM people AS p\n",
    "LEFT JOIN education AS e ON p.id=e.person_id\n",
    "\n",
    "Результат\n",
    "first_name\tlast_name\tinstituition\n",
    "John\tGreen\tWashington University, St. Louis\n",
    "..."
   ]
  },
  {
   "cell_type": "markdown",
   "id": "84287c43",
   "metadata": {},
   "source": [
    "## Задача  \n",
    "\n",
    "\n",
    "Для каждой компании найдите количество учебных заведений, которые окончили её сотрудники. Выведите название компании и число уникальных названий учебных заведений. Составьте топ-5 компаний по количеству университетов."
   ]
  },
  {
   "cell_type": "code",
   "execution_count": null,
   "id": "ae70d391",
   "metadata": {},
   "outputs": [],
   "source": [
    "SELECT c.name,\n",
    "       COUNT(DISTINCT instituition) AS count_instituition\n",
    "FROM people AS P\n",
    "JOIN education AS e ON p.id = e.person_id\n",
    "JOIN  company AS c ON c.id = p.company_id\n",
    "GROUP BY c.name\n",
    "ORDER BY count_instituition DESC\n",
    "LIMIT 5;\n",
    "\n",
    "Результат\n",
    "name\tcount_instituition\n",
    "Google\t167\n",
    "Yahoo!\t115\n",
    "Microsoft\t111\n",
    "Knight Foundation\t74\n",
    "Comcast\t66"
   ]
  },
  {
   "cell_type": "markdown",
   "id": "2a7728bd",
   "metadata": {},
   "source": [
    "## Задача  \n",
    "\n",
    "Составьте список с уникальными названиями закрытых компаний, для которых первый раунд финансирования оказался последним."
   ]
  },
  {
   "cell_type": "code",
   "execution_count": null,
   "id": "34dc9b19",
   "metadata": {},
   "outputs": [],
   "source": [
    "SELECT DISTINCT c.name\n",
    "FROM company AS c\n",
    "LEFT JOIN funding_round AS fr ON c.id = fr.company_id\n",
    "WHERE c.status = 'closed'\n",
    "    AND fr.is_first_round = 1\n",
    "    AND fr.is_last_round = 1\n",
    "    \n",
    "Результат\n",
    "name\n",
    "10BestThings\n",
    "11i Solutions\n",
    "..."
   ]
  },
  {
   "cell_type": "markdown",
   "id": "1e793d65",
   "metadata": {},
   "source": [
    "## Задача   \n",
    "\n",
    "Составьте список уникальных номеров сотрудников, которые работают в компаниях, отобранных в предыдущем задании."
   ]
  },
  {
   "cell_type": "code",
   "execution_count": null,
   "id": "e3f08059",
   "metadata": {},
   "outputs": [],
   "source": [
    "WITH table_1 AS\n",
    "(SELECT DISTINCT c.name\n",
    "FROM company AS c\n",
    "LEFT JOIN funding_round AS fr ON c.id = fr.company_id\n",
    "WHERE c.status = 'closed'\n",
    "    AND fr.is_first_round = 1\n",
    "    AND fr.is_last_round = 1)\n",
    "    \n",
    "SELECT DISTINCT p.id\n",
    "FROM people AS p\n",
    "JOIN company AS com ON p.company_id = com.id\n",
    "WHERE com.name IN (select * from table_1);\n",
    "\n",
    "Результат\n",
    "id\n",
    "38334\n",
    "43498\n",
    "113792\n",
    "55835\n",
    "..."
   ]
  },
  {
   "cell_type": "markdown",
   "id": "d3aa58aa",
   "metadata": {},
   "source": [
    "## Задача  \n",
    "\n",
    "Составьте таблицу, куда войдут уникальные пары с номерами сотрудников из предыдущей задачи и учебным заведением, которое окончил сотрудник."
   ]
  },
  {
   "cell_type": "code",
   "execution_count": null,
   "id": "124b97e7",
   "metadata": {},
   "outputs": [],
   "source": [
    "SELECT DISTINCT p.id,\n",
    "       e.instituition\n",
    "FROM people AS p\n",
    "JOIN education AS e ON p.id = e.person_id\n",
    "WHERE company_id IN (SELECT id\n",
    "        FROM company\n",
    "        WHERE id IN (SELECT company_id\n",
    "                FROM funding_round\n",
    "                WHERE is_first_round = 1\n",
    "                AND is_last_round = 1)\n",
    "        AND status = 'closed');\n",
    "\n",
    "Результат\n",
    "id\tinstituition\n",
    "349\tAKI\n",
    "349\tArtEZ Hogeschool voor de Kunsten"
   ]
  },
  {
   "cell_type": "markdown",
   "id": "4322e4fc",
   "metadata": {},
   "source": [
    "## Задача   \n",
    "\n",
    "Посчитайте количество учебных заведений для каждого сотрудника из предыдущего задания. При подсчёте учитывайте, что некоторые сотрудники могли окончить одно и то же заведение дважды."
   ]
  },
  {
   "cell_type": "code",
   "execution_count": null,
   "id": "4b457258",
   "metadata": {},
   "outputs": [],
   "source": [
    "SELECT p.id, \n",
    "       COUNT(e.instituition) AS total_instituition\n",
    "FROM people AS p JOIN education AS e ON p.id = e.person_id\n",
    "WHERE company_id IN (SELECT id\n",
    "        FROM company\n",
    "        WHERE id IN (SELECT company_id\n",
    "                FROM funding_round\n",
    "                WHERE is_first_round = 1\n",
    "                AND is_last_round = 1)\n",
    "        AND status = 'closed')\n",
    "GROUP BY p.id;\n",
    "\n",
    "Результат\n",
    "id\ttotal_instituition\n",
    "349\t3\n",
    "699\t1\n",
    "..."
   ]
  },
  {
   "cell_type": "markdown",
   "id": "78cc4e0c",
   "metadata": {},
   "source": [
    "## Задача  \n",
    "\n",
    "Дополните предыдущий запрос и выведите среднее число учебных заведений (всех, не только уникальных), которые окончили сотрудники разных компаний. Нужно вывести только одну запись, группировка здесь не понадобится."
   ]
  },
  {
   "cell_type": "code",
   "execution_count": null,
   "id": "1c5a8e82",
   "metadata": {},
   "outputs": [],
   "source": [
    "SELECT AVG(res.total_instituition) \n",
    "FROM \n",
    "(SELECT p.id, \n",
    "        COUNT(e.instituition) AS total_instituition\n",
    "        FROM people AS p \n",
    "        JOIN education AS e ON p.id = e.person_id\n",
    "        WHERE company_id IN (SELECT id\n",
    "            FROM company\n",
    "            WHERE id IN (SELECT company_id\n",
    "                FROM funding_round\n",
    "                WHERE is_first_round = 1\n",
    "                AND is_last_round = 1)\n",
    "        AND status = 'closed')\n",
    "GROUP BY p.id) AS res;\n",
    "\n",
    "Результат\n",
    "avg\n",
    "1.41509"
   ]
  },
  {
   "cell_type": "markdown",
   "id": "6a9ce2d9",
   "metadata": {},
   "source": [
    "## Задача  \n",
    "\n",
    "Напишите похожий запрос: выведите среднее число учебных заведений (всех, не только уникальных), которые окончили сотрудники Facebook*.  \n",
    "*(сервис, запрещённый на территории РФ)"
   ]
  },
  {
   "cell_type": "code",
   "execution_count": null,
   "id": "509b5bab",
   "metadata": {},
   "outputs": [],
   "source": [
    "SELECT AVG(res.total_instituition) \n",
    "FROM \n",
    "(SELECT p.id, \n",
    "        COUNT(e.instituition) AS total_instituition\n",
    "        FROM people AS p \n",
    "        JOIN education AS e ON p.id = e.person_id\n",
    "        WHERE company_id IN (SELECT id\n",
    "                           FROM company \n",
    "                           WHERE name in ('Facebook'))\n",
    "GROUP BY p.id) AS res;\n",
    "\n",
    "Результат\n",
    "avg\n",
    "1.51111"
   ]
  },
  {
   "cell_type": "markdown",
   "id": "f32662c6",
   "metadata": {},
   "source": [
    "## Задача  \n",
    "\n",
    "Составьте таблицу из полей:  \n",
    " - name_of_fund — название фонда;  \n",
    " - name_of_company — название компании;  \n",
    " - amount — сумма инвестиций, которую привлекла компания в раунде.  \n",
    "\n",
    "В таблицу войдут данные о компаниях, в истории которых было больше шести важных этапов, а раунды финансирования проходили с 2012 по 2013 год включительно."
   ]
  },
  {
   "cell_type": "code",
   "execution_count": null,
   "id": "cb8b3767",
   "metadata": {},
   "outputs": [],
   "source": [
    "WITH \n",
    "f AS (SELECT id AS fund_id,\n",
    "             name AS fund_name,\n",
    "             milestones\n",
    "      FROM fund),\n",
    "fr AS (SELECT company_id,\n",
    "              raised_amount,\n",
    "              id,\n",
    "              funded_at\n",
    "       FROM funding_round\n",
    "       WHERE EXTRACT(year FROM funded_at) BETWEEN 2012 AND 2013),\n",
    "c AS (SELECT id AS company_id,\n",
    "             name AS company_name\n",
    "      FROM company\n",
    "      WHERE milestones > 6)\n",
    "SELECT f.fund_name AS name_of_fund,\n",
    "       c.company_name AS name_of_company,\n",
    "       fr.raised_amount AS amount     \n",
    "FROM investment i JOIN f ON i.fund_id=f.fund_id JOIN fr ON i.funding_round_id=fr.id\n",
    "JOIN c ON i.company_id=c.company_id;\n",
    "\n",
    "Результат\n",
    "name_of_fund\tname_of_company\tamount\n",
    "SAP Ventures\tOpenX\t2.50112e+07\n",
    "..."
   ]
  },
  {
   "cell_type": "markdown",
   "id": "11d4ccbc",
   "metadata": {},
   "source": [
    "## Задача   \n",
    "\n",
    "Выгрузите таблицу, в которой будут такие поля:  \n",
    " - название компании-покупателя;  \n",
    " - сумма сделки;  \n",
    " - название компании, которую купили;  \n",
    " - сумма инвестиций, вложенных в купленную компанию;  \n",
    " - доля, которая отображает, во сколько раз сумма покупки превысила сумму вложенных в компанию инвестиций, округлённая до ближайшего целого числа.  \n",
    " \n",
    "Не учитывайте те сделки, в которых сумма покупки равна нулю. Если сумма инвестиций в компанию равна нулю, исключите такую компанию из таблицы.  \n",
    "\n",
    "Отсортируйте таблицу по сумме сделки от большей к меньшей, а затем по названию купленной компании в лексикографическом порядке. Ограничьте таблицу первыми десятью записями."
   ]
  },
  {
   "cell_type": "code",
   "execution_count": null,
   "id": "77e37a0f",
   "metadata": {},
   "outputs": [],
   "source": [
    "SELECT c.name AS acquiring_company_id,\n",
    "       a.price_amount AS price_amount,\n",
    "       c_1.name AS acquired_company_id,\n",
    "       c_1.funding_total,\n",
    "       ROUND(price_amount / c_1.funding_total) AS share\n",
    "FROM acquisition AS a\n",
    "LEFT JOIN company AS c ON a.acquiring_company_id = c.id\n",
    "LEFT JOIN company AS c_1 ON a.acquired_company_id = c_1.id\n",
    "WHERE price_amount <> 0\n",
    "  AND c_1.funding_total <> 0\n",
    "ORDER BY price_amount DESC,\n",
    "         acquired_company_id \n",
    "LIMIT 10;\n",
    "\n",
    "Результат\n",
    "acquiring_company_id\tprice_amount\tacquired_company_id\tfunding_total\tshare\n",
    "Microsoft\t8.5e+09\tSkype\t7.6805e+07\t111\n",
    "..."
   ]
  },
  {
   "cell_type": "markdown",
   "id": "2e01d0bf",
   "metadata": {},
   "source": [
    "## Задача  \n",
    "\n",
    "Выгрузите таблицу, в которую войдут названия компаний из категории social, получившие финансирование с 2010 по 2013 год включительно. Проверьте, что сумма инвестиций не равна нулю. Выведите также номер месяца, в котором проходил раунд финансирования."
   ]
  },
  {
   "cell_type": "code",
   "execution_count": null,
   "id": "a999877e",
   "metadata": {},
   "outputs": [],
   "source": [
    "SELECT c.name AS category_name,\n",
    "       EXTRACT(MONTH FROM CAST(fr.funded_at AS date)) AS month     \n",
    "FROM funding_round AS fr \n",
    "LEFT JOIN company AS c ON fr.company_id = c.id\n",
    "WHERE EXTRACT(YEAR FROM cast(fr.funded_at AS date)) BETWEEN '2010' AND '2013'\n",
    "     AND c.category_code = 'social'\n",
    "    \n",
    "Результат\n",
    "category_name\tmonth\n",
    "Klout\t1\n",
    "WorkSimple\t3\n",
    "..."
   ]
  },
  {
   "cell_type": "markdown",
   "id": "1e3efe45",
   "metadata": {},
   "source": [
    "## Задача  \n",
    "\n",
    "Отберите данные по месяцам с 2010 по 2013 год, когда проходили инвестиционные раунды. Сгруппируйте данные по номеру месяца и получите таблицу, в которой будут поля:  \n",
    " - номер месяца, в котором проходили раунды;  \n",
    " - количество уникальных названий фондов из США, которые инвестировали в этом месяце;  \n",
    " - количество компаний, купленных за этот месяц;  \n",
    " - общая сумма сделок по покупкам в этом месяце."
   ]
  },
  {
   "cell_type": "code",
   "execution_count": null,
   "id": "99799f1d",
   "metadata": {},
   "outputs": [],
   "source": [
    "WITH table_1 AS\n",
    "  (SELECT EXTRACT(MONTH\n",
    "                  FROM fr.funded_at) AS month_1,\n",
    "          COUNT(DISTINCT f.name) AS uniq\n",
    "   FROM funding_round AS fr\n",
    "   LEFT JOIN investment AS i ON fr.id = i.funding_round_id\n",
    "   LEFT JOIN fund AS f ON f.id = i.fund_id\n",
    "   WHERE EXTRACT(YEAR\n",
    "                 FROM fr.funded_at) BETWEEN 2010 AND 2013\n",
    "     AND f.country_code = 'USA'\n",
    "   GROUP BY month_1),\n",
    "     table_2 AS\n",
    "  (SELECT EXTRACT(MONTH\n",
    "                  FROM a.acquired_at) AS month_2,\n",
    "          COUNT(a.acquired_company_id) AS comp,\n",
    "          SUM(a.price_amount) AS summa\n",
    "   FROM acquisition AS a\n",
    "   WHERE EXTRACT(YEAR\n",
    "                 FROM a.acquired_at) BETWEEN 2010 AND 2013\n",
    "   GROUP BY month_2)\n",
    "SELECT table_1.month_1,\n",
    "       table_1.uniq,\n",
    "       table_2.comp,\n",
    "       table_2.summa\n",
    "FROM table_1\n",
    "JOIN table_2 ON table_1.month_1 = table_2.month_2\n",
    "\n",
    "Результат\n",
    "month_1\tuniq\tcomp\tsumma\n",
    "1\t815\t600\t2.71083e+10\n",
    "..."
   ]
  },
  {
   "cell_type": "markdown",
   "id": "5895fa32",
   "metadata": {},
   "source": [
    "## Задача  \n",
    "\n",
    "Составьте сводную таблицу и выведите среднюю сумму инвестиций для стран, в которых есть стартапы, зарегистрированные в 2011, 2012 и 2013 годах. Данные за каждый год должны быть в отдельном поле. Отсортируйте таблицу по среднему значению инвестиций за 2011 год от большего к меньшему."
   ]
  },
  {
   "cell_type": "code",
   "execution_count": null,
   "id": "d9033c2b",
   "metadata": {},
   "outputs": [],
   "source": [
    "WITH\n",
    "table_1 AS (SELECT country_code,\n",
    "                   AVG(funding_total) as avg_2011\n",
    "            FROM company\n",
    "            WHERE EXTRACT(YEAR FROM founded_at) = 2011\n",
    "            GROUP BY country_code),\n",
    "table_2 AS (SELECT country_code,\n",
    "                   AVG(funding_total) as avg_2012\n",
    "            FROM company\n",
    "            WHERE EXTRACT(YEAR FROM founded_at) = 2012\n",
    "            GROUP BY country_code),\n",
    "table_3 AS (SELECT country_code,\n",
    "                   AVG(funding_total) as avg_2013\n",
    "            FROM company\n",
    "            WHERE EXTRACT(YEAR FROM founded_at) = 2013\n",
    "            GROUP BY country_code) \n",
    "            \n",
    "SELECT (table_1.country_code) as country,\n",
    "       table_1.avg_2011,\n",
    "       table_2.avg_2012,\n",
    "       table_3.avg_2013\n",
    "FROM table_1 LEFT JOIN table_2 ON table_1.country_code=table_2.country_code\n",
    "JOIN table_3 ON table_2.country_code=table_3.country_code\n",
    "ORDER BY table_1.avg_2011 DESC;\n",
    "\n",
    "Результат\n",
    "country\tavg_2011\tavg_2012\tavg_2013\n",
    "PER\t4e+06\t41000\t25000\n",
    "..."
   ]
  },
  {
   "cell_type": "markdown",
   "id": "45715f76",
   "metadata": {},
   "source": []
  }
 ],
 "metadata": {
  "kernelspec": {
   "display_name": "Python 3 (ipykernel)",
   "language": "python",
   "name": "python3"
  },
  "language_info": {
   "codemirror_mode": {
    "name": "ipython",
    "version": 3
   },
   "file_extension": ".py",
   "mimetype": "text/x-python",
   "name": "python",
   "nbconvert_exporter": "python",
   "pygments_lexer": "ipython3",
   "version": "3.9.7"
  },
  "toc": {
   "base_numbering": 1,
   "nav_menu": {},
   "number_sections": true,
   "sideBar": true,
   "skip_h1_title": true,
   "title_cell": "Исследование данных об инвестиции венчурных фондов в компании-стартапы",
   "title_sidebar": "Содержание",
   "toc_cell": true,
   "toc_position": {},
   "toc_section_display": true,
   "toc_window_display": true
  }
 },
 "nbformat": 4,
 "nbformat_minor": 5
}
