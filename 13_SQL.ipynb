{
 "cells": [
  {
   "cell_type": "markdown",
   "id": "a1b1bd04",
   "metadata": {},
   "source": [
    "# SQL"
   ]
  },
  {
   "cell_type": "markdown",
   "id": "02870f49",
   "metadata": {
    "toc": true
   },
   "source": [
    "<h1>Содержание<span class=\"tocSkip\"></span></h1>\n",
    "<div class=\"toc\"><ul class=\"toc-item\"><li><span><a href=\"#Задание-№1\" data-toc-modified-id=\"Задание-№1-1\"><span class=\"toc-item-num\">1&nbsp;&nbsp;</span>Задание №1</a></span><ul class=\"toc-item\"><li><span><a href=\"#Вывод:\" data-toc-modified-id=\"Вывод:-1.1\"><span class=\"toc-item-num\">1.1&nbsp;&nbsp;</span>Вывод:</a></span></li></ul></li><li><span><a href=\"#Задание-№2\" data-toc-modified-id=\"Задание-№2-2\"><span class=\"toc-item-num\">2&nbsp;&nbsp;</span>Задание №2</a></span><ul class=\"toc-item\"><li><span><a href=\"#Вывод:\" data-toc-modified-id=\"Вывод:-2.1\"><span class=\"toc-item-num\">2.1&nbsp;&nbsp;</span>Вывод:</a></span></li></ul></li><li><span><a href=\"#Задание-№3\" data-toc-modified-id=\"Задание-№3-3\"><span class=\"toc-item-num\">3&nbsp;&nbsp;</span>Задание №3</a></span><ul class=\"toc-item\"><li><span><a href=\"#ВЫВОД:\" data-toc-modified-id=\"ВЫВОД:-3.1\"><span class=\"toc-item-num\">3.1&nbsp;&nbsp;</span>ВЫВОД:</a></span></li></ul></li><li><span><a href=\"#Задание-№4\" data-toc-modified-id=\"Задание-№4-4\"><span class=\"toc-item-num\">4&nbsp;&nbsp;</span>Задание №4</a></span><ul class=\"toc-item\"><li><span><a href=\"#Вывод:\" data-toc-modified-id=\"Вывод:-4.1\"><span class=\"toc-item-num\">4.1&nbsp;&nbsp;</span>Вывод:</a></span></li></ul></li><li><span><a href=\"#Задание-№5\" data-toc-modified-id=\"Задание-№5-5\"><span class=\"toc-item-num\">5&nbsp;&nbsp;</span>Задание №5</a></span><ul class=\"toc-item\"><li><span><a href=\"#Вывод:\" data-toc-modified-id=\"Вывод:-5.1\"><span class=\"toc-item-num\">5.1&nbsp;&nbsp;</span>Вывод:</a></span></li></ul></li><li><span><a href=\"#Вывод\" data-toc-modified-id=\"Вывод-6\"><span class=\"toc-item-num\">6&nbsp;&nbsp;</span>Вывод</a></span></li></ul></div>"
   ]
  },
  {
   "cell_type": "markdown",
   "id": "5b11705a",
   "metadata": {},
   "source": [
    "# Цель исследования   \n",
    "\n",
    "Коронавирус застал мир врасплох, изменив привычный порядок вещей. В свободное время жители городов больше не выходят на улицу, не посещают кафе и торговые центры. Зато стало больше времени для книг. Это заметили стартаперы — и бросились создавать приложения для тех, кто любит читать.\n",
    "\n",
    "Ваша компания решила быть на волне и купила крупный сервис для чтения книг по подписке. Ваша первая задача как аналитика — проанализировать базу данных. В ней — информация о книгах, издательствах, авторах, а также пользовательские обзоры книг. Эти данные помогут сформулировать ценностное предложение для нового продукта."
   ]
  },
  {
   "cell_type": "markdown",
   "id": "a71a71d6",
   "metadata": {},
   "source": [
    "**Цель этого исследования - использовать набор данных, предоставленный одним из сервисов, конкурирующих на рынке книжных приложений, для создания ценностного предложения для нового продукта.**"
   ]
  },
  {
   "cell_type": "markdown",
   "id": "986130ae",
   "metadata": {},
   "source": [
    "# Задание  \n",
    "- Посчитайте, сколько книг вышло после 1 января 2000 года;  \n",
    "- Для каждой книги посчитайте количество обзоров и среднюю оценку;  \n",
    "- Определите издательство, которое выпустило наибольшее число книг толще 50 страниц — так вы исключите из анализа брошюры;  \n",
    "- Определите автора с самой высокой средней оценкой книг — учитывайте только книги с 50 и более оценками;  \n",
    "- Посчитайте среднее количество обзоров от пользователей, которые поставили больше 50 оценок."
   ]
  },
  {
   "cell_type": "markdown",
   "id": "cfa42618",
   "metadata": {},
   "source": [
    "# Описание данных  \n",
    "\n",
    "**Таблица books**\n",
    "\n",
    "Содержит данные о книгах:\n",
    "\n",
    "- book_id — идентификатор книги;\n",
    "- author_id — идентификатор автора;\n",
    "- title — название книги;\n",
    "- num_pages — количество страниц;\n",
    "- publication_date — дата публикации книги;\n",
    "- publisher_id — идентификатор издателя.\n",
    "\n",
    "**Таблица authors**\n",
    "\n",
    "Содержит данные об авторах:\n",
    "\n",
    "- author_id — идентификатор автора;\n",
    "- author — имя автора.\n",
    "\n",
    "**Таблица publishers**\n",
    "\n",
    "Содержит данные об издательствах:\n",
    "\n",
    "- publisher_id — идентификатор издательства;\n",
    "- publisher — название издательства;\n",
    "\n",
    "**Таблица ratings**\n",
    "\n",
    "Содержит данные о пользовательских оценках книг:\n",
    "\n",
    "- rating_id — идентификатор оценки;\n",
    "- book_id — идентификатор книги;\n",
    "- username — имя пользователя, оставившего оценку;\n",
    "- rating — оценка книги.\n",
    "\n",
    "**Таблица reviews**\n",
    "\n",
    "Содержит данные о пользовательских обзорах на книги:\n",
    "\n",
    "- review_id — идентификатор обзора;\n",
    "- book_id — идентификатор книги;\n",
    "- username — имя пользователя, написавшего обзор;\n",
    "- text — текст обзора."
   ]
  },
  {
   "cell_type": "markdown",
   "id": "8c457e44",
   "metadata": {},
   "source": [
    "# Схема данных"
   ]
  },
  {
   "cell_type": "markdown",
   "id": "989516e9",
   "metadata": {},
   "source": [
    "![](https://pictures.s3.yandex.net/resources/scheme_1589269096.png)"
   ]
  },
  {
   "cell_type": "markdown",
   "id": "0e0ad56b",
   "metadata": {},
   "source": [
    "# Структура базы данных:"
   ]
  },
  {
   "cell_type": "code",
   "execution_count": 1,
   "id": "a6a770a3",
   "metadata": {},
   "outputs": [],
   "source": [
    "from IPython.display import Image"
   ]
  },
  {
   "cell_type": "markdown",
   "id": "8a617132",
   "metadata": {},
   "source": [
    "Исследуйте таблицы"
   ]
  },
  {
   "cell_type": "code",
   "execution_count": 2,
   "id": "a4669c79",
   "metadata": {},
   "outputs": [],
   "source": [
    "# импортируем библиотеки\n",
    "import pandas as pd\n",
    "from sqlalchemy import create_engine\n",
    "import datetime as dt"
   ]
  },
  {
   "cell_type": "code",
   "execution_count": 3,
   "id": "938cab6c",
   "metadata": {},
   "outputs": [
    {
     "data": {
      "text/html": [
       "<div>\n",
       "<style scoped>\n",
       "    .dataframe tbody tr th:only-of-type {\n",
       "        vertical-align: middle;\n",
       "    }\n",
       "\n",
       "    .dataframe tbody tr th {\n",
       "        vertical-align: top;\n",
       "    }\n",
       "\n",
       "    .dataframe thead th {\n",
       "        text-align: right;\n",
       "    }\n",
       "</style>\n",
       "<table border=\"1\" class=\"dataframe\">\n",
       "  <thead>\n",
       "    <tr style=\"text-align: right;\">\n",
       "      <th></th>\n",
       "      <th>book_id</th>\n",
       "      <th>author_id</th>\n",
       "      <th>title</th>\n",
       "      <th>num_pages</th>\n",
       "      <th>publication_date</th>\n",
       "      <th>publisher_id</th>\n",
       "    </tr>\n",
       "  </thead>\n",
       "  <tbody>\n",
       "    <tr>\n",
       "      <th>0</th>\n",
       "      <td>1</td>\n",
       "      <td>546</td>\n",
       "      <td>'Salem's Lot</td>\n",
       "      <td>594</td>\n",
       "      <td>2005-11-01</td>\n",
       "      <td>93</td>\n",
       "    </tr>\n",
       "    <tr>\n",
       "      <th>1</th>\n",
       "      <td>2</td>\n",
       "      <td>465</td>\n",
       "      <td>1 000 Places to See Before You Die</td>\n",
       "      <td>992</td>\n",
       "      <td>2003-05-22</td>\n",
       "      <td>336</td>\n",
       "    </tr>\n",
       "    <tr>\n",
       "      <th>2</th>\n",
       "      <td>3</td>\n",
       "      <td>407</td>\n",
       "      <td>13 Little Blue Envelopes (Little Blue Envelope...</td>\n",
       "      <td>322</td>\n",
       "      <td>2010-12-21</td>\n",
       "      <td>135</td>\n",
       "    </tr>\n",
       "    <tr>\n",
       "      <th>3</th>\n",
       "      <td>4</td>\n",
       "      <td>82</td>\n",
       "      <td>1491: New Revelations of the Americas Before C...</td>\n",
       "      <td>541</td>\n",
       "      <td>2006-10-10</td>\n",
       "      <td>309</td>\n",
       "    </tr>\n",
       "    <tr>\n",
       "      <th>4</th>\n",
       "      <td>5</td>\n",
       "      <td>125</td>\n",
       "      <td>1776</td>\n",
       "      <td>386</td>\n",
       "      <td>2006-07-04</td>\n",
       "      <td>268</td>\n",
       "    </tr>\n",
       "  </tbody>\n",
       "</table>\n",
       "</div>"
      ],
      "text/plain": [
       "   book_id  author_id                                              title  \\\n",
       "0        1        546                                       'Salem's Lot   \n",
       "1        2        465                 1 000 Places to See Before You Die   \n",
       "2        3        407  13 Little Blue Envelopes (Little Blue Envelope...   \n",
       "3        4         82  1491: New Revelations of the Americas Before C...   \n",
       "4        5        125                                               1776   \n",
       "\n",
       "   num_pages publication_date  publisher_id  \n",
       "0        594       2005-11-01            93  \n",
       "1        992       2003-05-22           336  \n",
       "2        322       2010-12-21           135  \n",
       "3        541       2006-10-10           309  \n",
       "4        386       2006-07-04           268  "
      ]
     },
     "metadata": {},
     "output_type": "display_data"
    },
    {
     "name": "stdout",
     "output_type": "stream",
     "text": [
      "<class 'pandas.core.frame.DataFrame'>\n",
      "RangeIndex: 1000 entries, 0 to 999\n",
      "Data columns (total 6 columns):\n",
      " #   Column            Non-Null Count  Dtype \n",
      "---  ------            --------------  ----- \n",
      " 0   book_id           1000 non-null   int64 \n",
      " 1   author_id         1000 non-null   int64 \n",
      " 2   title             1000 non-null   object\n",
      " 3   num_pages         1000 non-null   int64 \n",
      " 4   publication_date  1000 non-null   object\n",
      " 5   publisher_id      1000 non-null   int64 \n",
      "dtypes: int64(4), object(2)\n",
      "memory usage: 47.0+ KB\n",
      "None\n",
      "Таблица - \"books\"\n"
     ]
    },
    {
     "data": {
      "text/html": [
       "<div>\n",
       "<style scoped>\n",
       "    .dataframe tbody tr th:only-of-type {\n",
       "        vertical-align: middle;\n",
       "    }\n",
       "\n",
       "    .dataframe tbody tr th {\n",
       "        vertical-align: top;\n",
       "    }\n",
       "\n",
       "    .dataframe thead th {\n",
       "        text-align: right;\n",
       "    }\n",
       "</style>\n",
       "<table border=\"1\" class=\"dataframe\">\n",
       "  <thead>\n",
       "    <tr style=\"text-align: right;\">\n",
       "      <th></th>\n",
       "      <th>author_id</th>\n",
       "      <th>author</th>\n",
       "    </tr>\n",
       "  </thead>\n",
       "  <tbody>\n",
       "    <tr>\n",
       "      <th>0</th>\n",
       "      <td>1</td>\n",
       "      <td>A.S. Byatt</td>\n",
       "    </tr>\n",
       "    <tr>\n",
       "      <th>1</th>\n",
       "      <td>2</td>\n",
       "      <td>Aesop/Laura Harris/Laura Gibbs</td>\n",
       "    </tr>\n",
       "    <tr>\n",
       "      <th>2</th>\n",
       "      <td>3</td>\n",
       "      <td>Agatha Christie</td>\n",
       "    </tr>\n",
       "    <tr>\n",
       "      <th>3</th>\n",
       "      <td>4</td>\n",
       "      <td>Alan Brennert</td>\n",
       "    </tr>\n",
       "    <tr>\n",
       "      <th>4</th>\n",
       "      <td>5</td>\n",
       "      <td>Alan Moore/David   Lloyd</td>\n",
       "    </tr>\n",
       "  </tbody>\n",
       "</table>\n",
       "</div>"
      ],
      "text/plain": [
       "   author_id                          author\n",
       "0          1                      A.S. Byatt\n",
       "1          2  Aesop/Laura Harris/Laura Gibbs\n",
       "2          3                 Agatha Christie\n",
       "3          4                   Alan Brennert\n",
       "4          5        Alan Moore/David   Lloyd"
      ]
     },
     "metadata": {},
     "output_type": "display_data"
    },
    {
     "name": "stdout",
     "output_type": "stream",
     "text": [
      "<class 'pandas.core.frame.DataFrame'>\n",
      "RangeIndex: 636 entries, 0 to 635\n",
      "Data columns (total 2 columns):\n",
      " #   Column     Non-Null Count  Dtype \n",
      "---  ------     --------------  ----- \n",
      " 0   author_id  636 non-null    int64 \n",
      " 1   author     636 non-null    object\n",
      "dtypes: int64(1), object(1)\n",
      "memory usage: 10.1+ KB\n",
      "None\n",
      "Таблица - \"authors\"\n"
     ]
    },
    {
     "data": {
      "text/html": [
       "<div>\n",
       "<style scoped>\n",
       "    .dataframe tbody tr th:only-of-type {\n",
       "        vertical-align: middle;\n",
       "    }\n",
       "\n",
       "    .dataframe tbody tr th {\n",
       "        vertical-align: top;\n",
       "    }\n",
       "\n",
       "    .dataframe thead th {\n",
       "        text-align: right;\n",
       "    }\n",
       "</style>\n",
       "<table border=\"1\" class=\"dataframe\">\n",
       "  <thead>\n",
       "    <tr style=\"text-align: right;\">\n",
       "      <th></th>\n",
       "      <th>publisher_id</th>\n",
       "      <th>publisher</th>\n",
       "    </tr>\n",
       "  </thead>\n",
       "  <tbody>\n",
       "    <tr>\n",
       "      <th>0</th>\n",
       "      <td>1</td>\n",
       "      <td>Ace</td>\n",
       "    </tr>\n",
       "    <tr>\n",
       "      <th>1</th>\n",
       "      <td>2</td>\n",
       "      <td>Ace Book</td>\n",
       "    </tr>\n",
       "    <tr>\n",
       "      <th>2</th>\n",
       "      <td>3</td>\n",
       "      <td>Ace Books</td>\n",
       "    </tr>\n",
       "    <tr>\n",
       "      <th>3</th>\n",
       "      <td>4</td>\n",
       "      <td>Ace Hardcover</td>\n",
       "    </tr>\n",
       "    <tr>\n",
       "      <th>4</th>\n",
       "      <td>5</td>\n",
       "      <td>Addison Wesley Publishing Company</td>\n",
       "    </tr>\n",
       "  </tbody>\n",
       "</table>\n",
       "</div>"
      ],
      "text/plain": [
       "   publisher_id                          publisher\n",
       "0             1                                Ace\n",
       "1             2                           Ace Book\n",
       "2             3                          Ace Books\n",
       "3             4                      Ace Hardcover\n",
       "4             5  Addison Wesley Publishing Company"
      ]
     },
     "metadata": {},
     "output_type": "display_data"
    },
    {
     "name": "stdout",
     "output_type": "stream",
     "text": [
      "<class 'pandas.core.frame.DataFrame'>\n",
      "RangeIndex: 340 entries, 0 to 339\n",
      "Data columns (total 2 columns):\n",
      " #   Column        Non-Null Count  Dtype \n",
      "---  ------        --------------  ----- \n",
      " 0   publisher_id  340 non-null    int64 \n",
      " 1   publisher     340 non-null    object\n",
      "dtypes: int64(1), object(1)\n",
      "memory usage: 5.4+ KB\n",
      "None\n",
      "Таблица - \"publishers\"\n"
     ]
    },
    {
     "data": {
      "text/html": [
       "<div>\n",
       "<style scoped>\n",
       "    .dataframe tbody tr th:only-of-type {\n",
       "        vertical-align: middle;\n",
       "    }\n",
       "\n",
       "    .dataframe tbody tr th {\n",
       "        vertical-align: top;\n",
       "    }\n",
       "\n",
       "    .dataframe thead th {\n",
       "        text-align: right;\n",
       "    }\n",
       "</style>\n",
       "<table border=\"1\" class=\"dataframe\">\n",
       "  <thead>\n",
       "    <tr style=\"text-align: right;\">\n",
       "      <th></th>\n",
       "      <th>rating_id</th>\n",
       "      <th>book_id</th>\n",
       "      <th>username</th>\n",
       "      <th>rating</th>\n",
       "    </tr>\n",
       "  </thead>\n",
       "  <tbody>\n",
       "    <tr>\n",
       "      <th>0</th>\n",
       "      <td>1</td>\n",
       "      <td>1</td>\n",
       "      <td>ryanfranco</td>\n",
       "      <td>4</td>\n",
       "    </tr>\n",
       "    <tr>\n",
       "      <th>1</th>\n",
       "      <td>2</td>\n",
       "      <td>1</td>\n",
       "      <td>grantpatricia</td>\n",
       "      <td>2</td>\n",
       "    </tr>\n",
       "    <tr>\n",
       "      <th>2</th>\n",
       "      <td>3</td>\n",
       "      <td>1</td>\n",
       "      <td>brandtandrea</td>\n",
       "      <td>5</td>\n",
       "    </tr>\n",
       "    <tr>\n",
       "      <th>3</th>\n",
       "      <td>4</td>\n",
       "      <td>2</td>\n",
       "      <td>lorichen</td>\n",
       "      <td>3</td>\n",
       "    </tr>\n",
       "    <tr>\n",
       "      <th>4</th>\n",
       "      <td>5</td>\n",
       "      <td>2</td>\n",
       "      <td>mariokeller</td>\n",
       "      <td>2</td>\n",
       "    </tr>\n",
       "  </tbody>\n",
       "</table>\n",
       "</div>"
      ],
      "text/plain": [
       "   rating_id  book_id       username  rating\n",
       "0          1        1     ryanfranco       4\n",
       "1          2        1  grantpatricia       2\n",
       "2          3        1   brandtandrea       5\n",
       "3          4        2       lorichen       3\n",
       "4          5        2    mariokeller       2"
      ]
     },
     "metadata": {},
     "output_type": "display_data"
    },
    {
     "name": "stdout",
     "output_type": "stream",
     "text": [
      "<class 'pandas.core.frame.DataFrame'>\n",
      "RangeIndex: 6456 entries, 0 to 6455\n",
      "Data columns (total 4 columns):\n",
      " #   Column     Non-Null Count  Dtype \n",
      "---  ------     --------------  ----- \n",
      " 0   rating_id  6456 non-null   int64 \n",
      " 1   book_id    6456 non-null   int64 \n",
      " 2   username   6456 non-null   object\n",
      " 3   rating     6456 non-null   int64 \n",
      "dtypes: int64(3), object(1)\n",
      "memory usage: 201.9+ KB\n",
      "None\n",
      "Таблица - \"ratings\"\n"
     ]
    },
    {
     "data": {
      "text/html": [
       "<div>\n",
       "<style scoped>\n",
       "    .dataframe tbody tr th:only-of-type {\n",
       "        vertical-align: middle;\n",
       "    }\n",
       "\n",
       "    .dataframe tbody tr th {\n",
       "        vertical-align: top;\n",
       "    }\n",
       "\n",
       "    .dataframe thead th {\n",
       "        text-align: right;\n",
       "    }\n",
       "</style>\n",
       "<table border=\"1\" class=\"dataframe\">\n",
       "  <thead>\n",
       "    <tr style=\"text-align: right;\">\n",
       "      <th></th>\n",
       "      <th>review_id</th>\n",
       "      <th>book_id</th>\n",
       "      <th>username</th>\n",
       "      <th>text</th>\n",
       "    </tr>\n",
       "  </thead>\n",
       "  <tbody>\n",
       "    <tr>\n",
       "      <th>0</th>\n",
       "      <td>1</td>\n",
       "      <td>1</td>\n",
       "      <td>brandtandrea</td>\n",
       "      <td>Mention society tell send professor analysis. ...</td>\n",
       "    </tr>\n",
       "    <tr>\n",
       "      <th>1</th>\n",
       "      <td>2</td>\n",
       "      <td>1</td>\n",
       "      <td>ryanfranco</td>\n",
       "      <td>Foot glass pretty audience hit themselves. Amo...</td>\n",
       "    </tr>\n",
       "    <tr>\n",
       "      <th>2</th>\n",
       "      <td>3</td>\n",
       "      <td>2</td>\n",
       "      <td>lorichen</td>\n",
       "      <td>Listen treat keep worry. Miss husband tax but ...</td>\n",
       "    </tr>\n",
       "    <tr>\n",
       "      <th>3</th>\n",
       "      <td>4</td>\n",
       "      <td>3</td>\n",
       "      <td>johnsonamanda</td>\n",
       "      <td>Finally month interesting blue could nature cu...</td>\n",
       "    </tr>\n",
       "    <tr>\n",
       "      <th>4</th>\n",
       "      <td>5</td>\n",
       "      <td>3</td>\n",
       "      <td>scotttamara</td>\n",
       "      <td>Nation purpose heavy give wait song will. List...</td>\n",
       "    </tr>\n",
       "  </tbody>\n",
       "</table>\n",
       "</div>"
      ],
      "text/plain": [
       "   review_id  book_id       username  \\\n",
       "0          1        1   brandtandrea   \n",
       "1          2        1     ryanfranco   \n",
       "2          3        2       lorichen   \n",
       "3          4        3  johnsonamanda   \n",
       "4          5        3    scotttamara   \n",
       "\n",
       "                                                text  \n",
       "0  Mention society tell send professor analysis. ...  \n",
       "1  Foot glass pretty audience hit themselves. Amo...  \n",
       "2  Listen treat keep worry. Miss husband tax but ...  \n",
       "3  Finally month interesting blue could nature cu...  \n",
       "4  Nation purpose heavy give wait song will. List...  "
      ]
     },
     "metadata": {},
     "output_type": "display_data"
    },
    {
     "name": "stdout",
     "output_type": "stream",
     "text": [
      "<class 'pandas.core.frame.DataFrame'>\n",
      "RangeIndex: 2793 entries, 0 to 2792\n",
      "Data columns (total 4 columns):\n",
      " #   Column     Non-Null Count  Dtype \n",
      "---  ------     --------------  ----- \n",
      " 0   review_id  2793 non-null   int64 \n",
      " 1   book_id    2793 non-null   int64 \n",
      " 2   username   2793 non-null   object\n",
      " 3   text       2793 non-null   object\n",
      "dtypes: int64(2), object(2)\n",
      "memory usage: 87.4+ KB\n",
      "None\n",
      "Таблица - \"reviews\"\n"
     ]
    }
   ],
   "source": [
    "# устанавливаем параметры\n",
    "db_config = {'user': 'praktikum_student', # имя пользователя\n",
    "'pwd': 'Sdf4$2;d-d30pp', # пароль\n",
    "'host': 'rc1b-wcoijxj3yxfsf3fs.mdb.yandexcloud.net',\n",
    "'port': 6432, # порт подключения\n",
    "'db': 'data-analyst-final-project-db'} # название базы данных\n",
    "\n",
    "connection_string = 'postgresql://{}:{}@{}:{}/{}'.format(db_config['user'],\n",
    " db_config['pwd'],\n",
    " db_config['host'],\n",
    " db_config['port'],\n",
    " db_config['db']) \n",
    "\n",
    "# сохраняем коннектор\n",
    "engine = create_engine(connection_string, connect_args={'sslmode':'require'})\n",
    "\n",
    "for table in ['books', 'authors', 'publishers', 'ratings', 'reviews']:\n",
    "    query = ''' SELECT * FROM {}; \n",
    "    '''.format(table) \n",
    "\n",
    "    request = pd.io.sql.read_sql(query, con = engine) \n",
    "    display(request.head())\n",
    "    print(request.info())\n",
    "    print(f'Таблица - \"{table}\"')"
   ]
  },
  {
   "cell_type": "markdown",
   "id": "03f1a3e7",
   "metadata": {},
   "source": [
    "- Данные в порядке, пропусков нет"
   ]
  },
  {
   "cell_type": "markdown",
   "id": "58888c86",
   "metadata": {},
   "source": [
    "Запишем каждую таблицу в ДатаФрейм"
   ]
  },
  {
   "cell_type": "code",
   "execution_count": 4,
   "id": "e85db609",
   "metadata": {},
   "outputs": [],
   "source": [
    "query_books = ''' SELECT * FROM books; ''' \n",
    "books = pd.io.sql.read_sql(query_books, con = engine)\n",
    "# books\n",
    "\n",
    "query_reviews = ''' SELECT * FROM reviews; ''' \n",
    "reviews = pd.io.sql.read_sql(query_reviews, con = engine)\n",
    "# reviews\n",
    "\n",
    "query_ratings = ''' SELECT * FROM ratings; ''' \n",
    "ratings = pd.io.sql.read_sql(query_ratings, con = engine)\n",
    "# ratings\n",
    "\n",
    "query_publishers = ''' SELECT * FROM publishers; ''' \n",
    "publishers = pd.io.sql.read_sql(query_publishers, con = engine)\n",
    "# publishers\n",
    "\n",
    "query_authors = ''' SELECT * FROM authors; ''' \n",
    "authors = pd.io.sql.read_sql(query_authors, con = engine)\n",
    "# authors"
   ]
  },
  {
   "cell_type": "markdown",
   "id": "9a82fc24",
   "metadata": {},
   "source": [
    "## Задание №1  \n",
    "\n",
    "Посчитаем, сколько книг вышло после 1 января 2000 года"
   ]
  },
  {
   "cell_type": "code",
   "execution_count": 5,
   "id": "56fa7b3e",
   "metadata": {},
   "outputs": [
    {
     "name": "stdout",
     "output_type": "stream",
     "text": [
      "После 1 января 2000 года вышло 819 книг\n"
     ]
    }
   ],
   "source": [
    "query1 = ''' \n",
    "SELECT COUNT(*) \n",
    "FROM books\n",
    "WHERE publication_date > '2000-1-1'; \n",
    "''' \n",
    "\n",
    "request1 = pd.io.sql.read_sql(query1, con = engine)\n",
    "# request1\n",
    "\n",
    "print(f'После 1 января 2000 года вышло {request1.iloc[0,0]} книг')"
   ]
  },
  {
   "cell_type": "code",
   "execution_count": 6,
   "id": "8ba0ae02",
   "metadata": {},
   "outputs": [
    {
     "data": {
      "text/plain": [
       "819"
      ]
     },
     "execution_count": 6,
     "metadata": {},
     "output_type": "execute_result"
    }
   ],
   "source": [
    "# check\n",
    "books['publication_date'] = books['publication_date'].astype('datetime64')\n",
    "books[books['publication_date']>'2000-01-01']['book_id'].count()"
   ]
  },
  {
   "cell_type": "markdown",
   "id": "eeeea66a",
   "metadata": {},
   "source": [
    "### Вывод:  \n",
    "- **После 1 января 2000 года вышло 819 книг**"
   ]
  },
  {
   "cell_type": "markdown",
   "id": "0df066f5",
   "metadata": {},
   "source": [
    "## Задание №2  \n",
    "\n",
    "Для каждой книги посчитаем количество обзоров и среднюю оценку"
   ]
  },
  {
   "cell_type": "code",
   "execution_count": 7,
   "id": "8d1eb6f1",
   "metadata": {},
   "outputs": [
    {
     "name": "stdout",
     "output_type": "stream",
     "text": [
      "Количество обзоров и средняя оценка:\n"
     ]
    },
    {
     "data": {
      "text/html": [
       "<div>\n",
       "<style scoped>\n",
       "    .dataframe tbody tr th:only-of-type {\n",
       "        vertical-align: middle;\n",
       "    }\n",
       "\n",
       "    .dataframe tbody tr th {\n",
       "        vertical-align: top;\n",
       "    }\n",
       "\n",
       "    .dataframe thead th {\n",
       "        text-align: right;\n",
       "    }\n",
       "</style>\n",
       "<table border=\"1\" class=\"dataframe\">\n",
       "  <thead>\n",
       "    <tr style=\"text-align: right;\">\n",
       "      <th></th>\n",
       "      <th>book_name</th>\n",
       "      <th>id</th>\n",
       "      <th>reviews</th>\n",
       "      <th>avg_rating</th>\n",
       "    </tr>\n",
       "  </thead>\n",
       "  <tbody>\n",
       "    <tr>\n",
       "      <th>0</th>\n",
       "      <td>The Body in the Library (Miss Marple  #3)</td>\n",
       "      <td>652</td>\n",
       "      <td>2.0</td>\n",
       "      <td>4.500000</td>\n",
       "    </tr>\n",
       "    <tr>\n",
       "      <th>1</th>\n",
       "      <td>Galápagos</td>\n",
       "      <td>273</td>\n",
       "      <td>2.0</td>\n",
       "      <td>4.500000</td>\n",
       "    </tr>\n",
       "    <tr>\n",
       "      <th>2</th>\n",
       "      <td>A Tree Grows in Brooklyn</td>\n",
       "      <td>51</td>\n",
       "      <td>5.0</td>\n",
       "      <td>4.250000</td>\n",
       "    </tr>\n",
       "    <tr>\n",
       "      <th>3</th>\n",
       "      <td>Undaunted Courage: The Pioneering First Missio...</td>\n",
       "      <td>951</td>\n",
       "      <td>2.0</td>\n",
       "      <td>4.000000</td>\n",
       "    </tr>\n",
       "    <tr>\n",
       "      <th>4</th>\n",
       "      <td>The Prophet</td>\n",
       "      <td>839</td>\n",
       "      <td>4.0</td>\n",
       "      <td>4.285714</td>\n",
       "    </tr>\n",
       "    <tr>\n",
       "      <th>...</th>\n",
       "      <td>...</td>\n",
       "      <td>...</td>\n",
       "      <td>...</td>\n",
       "      <td>...</td>\n",
       "    </tr>\n",
       "    <tr>\n",
       "      <th>995</th>\n",
       "      <td>Alice in Wonderland</td>\n",
       "      <td>64</td>\n",
       "      <td>4.0</td>\n",
       "      <td>4.230769</td>\n",
       "    </tr>\n",
       "    <tr>\n",
       "      <th>996</th>\n",
       "      <td>A Woman of Substance (Emma Harte Saga #1)</td>\n",
       "      <td>55</td>\n",
       "      <td>2.0</td>\n",
       "      <td>5.000000</td>\n",
       "    </tr>\n",
       "    <tr>\n",
       "      <th>997</th>\n",
       "      <td>Christine</td>\n",
       "      <td>148</td>\n",
       "      <td>3.0</td>\n",
       "      <td>3.428571</td>\n",
       "    </tr>\n",
       "    <tr>\n",
       "      <th>998</th>\n",
       "      <td>The Magicians' Guild (Black Magician Trilogy  #1)</td>\n",
       "      <td>790</td>\n",
       "      <td>2.0</td>\n",
       "      <td>3.500000</td>\n",
       "    </tr>\n",
       "    <tr>\n",
       "      <th>999</th>\n",
       "      <td>The Plot Against America</td>\n",
       "      <td>828</td>\n",
       "      <td>2.0</td>\n",
       "      <td>3.000000</td>\n",
       "    </tr>\n",
       "  </tbody>\n",
       "</table>\n",
       "<p>1000 rows × 4 columns</p>\n",
       "</div>"
      ],
      "text/plain": [
       "                                             book_name   id  reviews  \\\n",
       "0            The Body in the Library (Miss Marple  #3)  652      2.0   \n",
       "1                                            Galápagos  273      2.0   \n",
       "2                             A Tree Grows in Brooklyn   51      5.0   \n",
       "3    Undaunted Courage: The Pioneering First Missio...  951      2.0   \n",
       "4                                          The Prophet  839      4.0   \n",
       "..                                                 ...  ...      ...   \n",
       "995                                Alice in Wonderland   64      4.0   \n",
       "996          A Woman of Substance (Emma Harte Saga #1)   55      2.0   \n",
       "997                                          Christine  148      3.0   \n",
       "998  The Magicians' Guild (Black Magician Trilogy  #1)  790      2.0   \n",
       "999                           The Plot Against America  828      2.0   \n",
       "\n",
       "     avg_rating  \n",
       "0      4.500000  \n",
       "1      4.500000  \n",
       "2      4.250000  \n",
       "3      4.000000  \n",
       "4      4.285714  \n",
       "..          ...  \n",
       "995    4.230769  \n",
       "996    5.000000  \n",
       "997    3.428571  \n",
       "998    3.500000  \n",
       "999    3.000000  \n",
       "\n",
       "[1000 rows x 4 columns]"
      ]
     },
     "execution_count": 7,
     "metadata": {},
     "output_type": "execute_result"
    }
   ],
   "source": [
    "query2 = ''' \n",
    "\n",
    "SELECT \n",
    "    books.title AS book_name,\n",
    "    books.book_id AS id,\n",
    "    SubRev.n_rev AS reviews,\n",
    "    SubRat.avg_rat AS avg_rating\n",
    "FROM books LEFT JOIN \n",
    "                (SELECT\n",
    "                    book_id,\n",
    "                    AVG(rating) AS avg_rat\n",
    "                FROM\n",
    "                    ratings\n",
    "                GROUP BY \n",
    "                    book_id\n",
    "                ) AS SubRat ON SubRat.book_id = books.book_id\n",
    "        LEFT JOIN\n",
    "                (SELECT \n",
    "                    book_id,\n",
    "                    COUNT(review_id) AS n_rev\n",
    "                FROM\n",
    "                    reviews\n",
    "                GROUP BY \n",
    "                    book_id\n",
    "                ) AS SubRev ON SubRev.book_id = books.book_id\n",
    "                \n",
    "; ''' \n",
    "\n",
    "request2 = pd.io.sql.read_sql(query2, con = engine)\n",
    "print('Количество обзоров и средняя оценка:')\n",
    "request2"
   ]
  },
  {
   "cell_type": "code",
   "execution_count": 8,
   "id": "6e87cdff",
   "metadata": {},
   "outputs": [
    {
     "data": {
      "text/html": [
       "<div>\n",
       "<style scoped>\n",
       "    .dataframe tbody tr th:only-of-type {\n",
       "        vertical-align: middle;\n",
       "    }\n",
       "\n",
       "    .dataframe tbody tr th {\n",
       "        vertical-align: top;\n",
       "    }\n",
       "\n",
       "    .dataframe thead th {\n",
       "        text-align: right;\n",
       "    }\n",
       "</style>\n",
       "<table border=\"1\" class=\"dataframe\">\n",
       "  <thead>\n",
       "    <tr style=\"text-align: right;\">\n",
       "      <th></th>\n",
       "      <th>title</th>\n",
       "      <th>book_id</th>\n",
       "      <th>review_id</th>\n",
       "      <th>rating</th>\n",
       "    </tr>\n",
       "  </thead>\n",
       "  <tbody>\n",
       "    <tr>\n",
       "      <th>50</th>\n",
       "      <td>A Tree Grows in Brooklyn</td>\n",
       "      <td>51</td>\n",
       "      <td>5.0</td>\n",
       "      <td>4.250000</td>\n",
       "    </tr>\n",
       "    <tr>\n",
       "      <th>54</th>\n",
       "      <td>A Woman of Substance (Emma Harte Saga #1)</td>\n",
       "      <td>55</td>\n",
       "      <td>2.0</td>\n",
       "      <td>5.000000</td>\n",
       "    </tr>\n",
       "    <tr>\n",
       "      <th>63</th>\n",
       "      <td>Alice in Wonderland</td>\n",
       "      <td>64</td>\n",
       "      <td>4.0</td>\n",
       "      <td>4.230769</td>\n",
       "    </tr>\n",
       "    <tr>\n",
       "      <th>147</th>\n",
       "      <td>Christine</td>\n",
       "      <td>148</td>\n",
       "      <td>3.0</td>\n",
       "      <td>3.428571</td>\n",
       "    </tr>\n",
       "    <tr>\n",
       "      <th>272</th>\n",
       "      <td>Galápagos</td>\n",
       "      <td>273</td>\n",
       "      <td>2.0</td>\n",
       "      <td>4.500000</td>\n",
       "    </tr>\n",
       "    <tr>\n",
       "      <th>651</th>\n",
       "      <td>The Body in the Library (Miss Marple  #3)</td>\n",
       "      <td>652</td>\n",
       "      <td>2.0</td>\n",
       "      <td>4.500000</td>\n",
       "    </tr>\n",
       "    <tr>\n",
       "      <th>789</th>\n",
       "      <td>The Magicians' Guild (Black Magician Trilogy  #1)</td>\n",
       "      <td>790</td>\n",
       "      <td>2.0</td>\n",
       "      <td>3.500000</td>\n",
       "    </tr>\n",
       "    <tr>\n",
       "      <th>827</th>\n",
       "      <td>The Plot Against America</td>\n",
       "      <td>828</td>\n",
       "      <td>2.0</td>\n",
       "      <td>3.000000</td>\n",
       "    </tr>\n",
       "    <tr>\n",
       "      <th>838</th>\n",
       "      <td>The Prophet</td>\n",
       "      <td>839</td>\n",
       "      <td>4.0</td>\n",
       "      <td>4.285714</td>\n",
       "    </tr>\n",
       "    <tr>\n",
       "      <th>950</th>\n",
       "      <td>Undaunted Courage: The Pioneering First Missio...</td>\n",
       "      <td>951</td>\n",
       "      <td>2.0</td>\n",
       "      <td>4.000000</td>\n",
       "    </tr>\n",
       "  </tbody>\n",
       "</table>\n",
       "</div>"
      ],
      "text/plain": [
       "                                                 title  book_id  review_id  \\\n",
       "50                            A Tree Grows in Brooklyn       51        5.0   \n",
       "54           A Woman of Substance (Emma Harte Saga #1)       55        2.0   \n",
       "63                                 Alice in Wonderland       64        4.0   \n",
       "147                                          Christine      148        3.0   \n",
       "272                                          Galápagos      273        2.0   \n",
       "651          The Body in the Library (Miss Marple  #3)      652        2.0   \n",
       "789  The Magicians' Guild (Black Magician Trilogy  #1)      790        2.0   \n",
       "827                           The Plot Against America      828        2.0   \n",
       "838                                        The Prophet      839        4.0   \n",
       "950  Undaunted Courage: The Pioneering First Missio...      951        2.0   \n",
       "\n",
       "       rating  \n",
       "50   4.250000  \n",
       "54   5.000000  \n",
       "63   4.230769  \n",
       "147  3.428571  \n",
       "272  4.500000  \n",
       "651  4.500000  \n",
       "789  3.500000  \n",
       "827  3.000000  \n",
       "838  4.285714  \n",
       "950  4.000000  "
      ]
     },
     "execution_count": 8,
     "metadata": {},
     "output_type": "execute_result"
    }
   ],
   "source": [
    "# check\n",
    "r2 = books[['title','book_id']].merge(reviews.groupby('book_id')['review_id'].count().reset_index(), \n",
    "                                 how='left', on='book_id').merge(ratings.groupby('book_id')['rating'].mean()\\\n",
    "                                                                 .reset_index(), how='left', on='book_id')\n",
    "r2.query('book_id == [652,273,51,951,839,64,55,148,790,828]')"
   ]
  },
  {
   "cell_type": "code",
   "execution_count": 9,
   "id": "dc536aa7",
   "metadata": {},
   "outputs": [
    {
     "name": "stdout",
     "output_type": "stream",
     "text": [
      "Средняя оценка: 3.8989730839448864\n"
     ]
    }
   ],
   "source": [
    "mean = request2['avg_rating'].mean()\n",
    "print('Средняя оценка:', mean)"
   ]
  },
  {
   "cell_type": "markdown",
   "id": "6695587e",
   "metadata": {},
   "source": [
    "### Вывод:   \n",
    "**Количество обзоров: от 51 до 951**  \n",
    "**Средняя оценка: от 3.9**"
   ]
  },
  {
   "cell_type": "markdown",
   "id": "e0c1e627",
   "metadata": {},
   "source": [
    "## Задание №3   \n",
    "\n",
    "Определим издательство, которое выпустило наибольшее число книг толще 50 страниц — таким образом исключим из анализа брошюры"
   ]
  },
  {
   "cell_type": "code",
   "execution_count": 10,
   "id": "d4c21188",
   "metadata": {},
   "outputs": [
    {
     "name": "stdout",
     "output_type": "stream",
     "text": [
      "Издательство, которое выпустило наибольшее число книг толще 50 страниц:\n"
     ]
    },
    {
     "data": {
      "text/html": [
       "<div>\n",
       "<style scoped>\n",
       "    .dataframe tbody tr th:only-of-type {\n",
       "        vertical-align: middle;\n",
       "    }\n",
       "\n",
       "    .dataframe tbody tr th {\n",
       "        vertical-align: top;\n",
       "    }\n",
       "\n",
       "    .dataframe thead th {\n",
       "        text-align: right;\n",
       "    }\n",
       "</style>\n",
       "<table border=\"1\" class=\"dataframe\">\n",
       "  <thead>\n",
       "    <tr style=\"text-align: right;\">\n",
       "      <th></th>\n",
       "      <th>publisher_id</th>\n",
       "      <th>publisher</th>\n",
       "      <th>n_books</th>\n",
       "    </tr>\n",
       "  </thead>\n",
       "  <tbody>\n",
       "    <tr>\n",
       "      <th>0</th>\n",
       "      <td>212</td>\n",
       "      <td>Penguin Books</td>\n",
       "      <td>42</td>\n",
       "    </tr>\n",
       "  </tbody>\n",
       "</table>\n",
       "</div>"
      ],
      "text/plain": [
       "   publisher_id      publisher  n_books\n",
       "0           212  Penguin Books       42"
      ]
     },
     "execution_count": 10,
     "metadata": {},
     "output_type": "execute_result"
    }
   ],
   "source": [
    "query3 = ''' \n",
    "SELECT\n",
    "    T.publisher_id,\n",
    "    T.publisher,\n",
    "    T.n_books\n",
    "FROM\n",
    "    (SELECT \n",
    "        books.publisher_id AS publisher_id,\n",
    "        COUNT(books.book_id) AS n_books,\n",
    "        publishers.publisher AS publisher \n",
    "    FROM \n",
    "        books \n",
    "        LEFT JOIN publishers ON books.publisher_id=publishers.publisher_id\n",
    "\n",
    "    WHERE \n",
    "        num_pages>50\n",
    "    GROUP BY\n",
    "        books.publisher_id,\n",
    "        publishers.publisher\n",
    "    ORDER BY \n",
    "        n_books DESC) AS T\n",
    "LIMIT 1\n",
    "; ''' \n",
    "\n",
    "request3 = pd.io.sql.read_sql(query3, con = engine)\n",
    "print('Издательство, которое выпустило наибольшее число книг толще 50 страниц:')\n",
    "request3"
   ]
  },
  {
   "cell_type": "code",
   "execution_count": 11,
   "id": "b162ebd6",
   "metadata": {},
   "outputs": [
    {
     "data": {
      "text/html": [
       "<div>\n",
       "<style scoped>\n",
       "    .dataframe tbody tr th:only-of-type {\n",
       "        vertical-align: middle;\n",
       "    }\n",
       "\n",
       "    .dataframe tbody tr th {\n",
       "        vertical-align: top;\n",
       "    }\n",
       "\n",
       "    .dataframe thead th {\n",
       "        text-align: right;\n",
       "    }\n",
       "</style>\n",
       "<table border=\"1\" class=\"dataframe\">\n",
       "  <thead>\n",
       "    <tr style=\"text-align: right;\">\n",
       "      <th></th>\n",
       "      <th>publisher_id</th>\n",
       "      <th>book_id</th>\n",
       "    </tr>\n",
       "  </thead>\n",
       "  <tbody>\n",
       "    <tr>\n",
       "      <th>207</th>\n",
       "      <td>212</td>\n",
       "      <td>42</td>\n",
       "    </tr>\n",
       "    <tr>\n",
       "      <th>302</th>\n",
       "      <td>309</td>\n",
       "      <td>31</td>\n",
       "    </tr>\n",
       "    <tr>\n",
       "      <th>111</th>\n",
       "      <td>116</td>\n",
       "      <td>25</td>\n",
       "    </tr>\n",
       "    <tr>\n",
       "      <th>212</th>\n",
       "      <td>217</td>\n",
       "      <td>24</td>\n",
       "    </tr>\n",
       "    <tr>\n",
       "      <th>31</th>\n",
       "      <td>33</td>\n",
       "      <td>19</td>\n",
       "    </tr>\n",
       "    <tr>\n",
       "      <th>...</th>\n",
       "      <td>...</td>\n",
       "      <td>...</td>\n",
       "    </tr>\n",
       "    <tr>\n",
       "      <th>83</th>\n",
       "      <td>86</td>\n",
       "      <td>1</td>\n",
       "    </tr>\n",
       "    <tr>\n",
       "      <th>199</th>\n",
       "      <td>204</td>\n",
       "      <td>1</td>\n",
       "    </tr>\n",
       "    <tr>\n",
       "      <th>200</th>\n",
       "      <td>205</td>\n",
       "      <td>1</td>\n",
       "    </tr>\n",
       "    <tr>\n",
       "      <th>82</th>\n",
       "      <td>85</td>\n",
       "      <td>1</td>\n",
       "    </tr>\n",
       "    <tr>\n",
       "      <th>333</th>\n",
       "      <td>340</td>\n",
       "      <td>1</td>\n",
       "    </tr>\n",
       "  </tbody>\n",
       "</table>\n",
       "<p>334 rows × 2 columns</p>\n",
       "</div>"
      ],
      "text/plain": [
       "     publisher_id  book_id\n",
       "207           212       42\n",
       "302           309       31\n",
       "111           116       25\n",
       "212           217       24\n",
       "31             33       19\n",
       "..            ...      ...\n",
       "83             86        1\n",
       "199           204        1\n",
       "200           205        1\n",
       "82             85        1\n",
       "333           340        1\n",
       "\n",
       "[334 rows x 2 columns]"
      ]
     },
     "execution_count": 11,
     "metadata": {},
     "output_type": "execute_result"
    }
   ],
   "source": [
    "# check\n",
    "books.query('num_pages>50')[['publisher_id','num_pages', 'book_id']]. \\\n",
    "        groupby('publisher_id')['book_id'].count().reset_index().sort_values(by='book_id',ascending=False)"
   ]
  },
  {
   "cell_type": "markdown",
   "id": "0a00b023",
   "metadata": {},
   "source": [
    "### ВЫВОД:   \n",
    "**Издательство, которое выпустило наибольшее число книг, 42 книги, толще 50 страниц - это \"Penguin Books\"**"
   ]
  },
  {
   "cell_type": "markdown",
   "id": "7614ae96",
   "metadata": {},
   "source": [
    "## Задание №4  \n",
    "\n",
    "Определим автора с самой высокой средней оценкой книг — учитываем только книги с 50 и более оценками"
   ]
  },
  {
   "cell_type": "code",
   "execution_count": 12,
   "id": "c7f402a2",
   "metadata": {},
   "outputs": [
    {
     "name": "stdout",
     "output_type": "stream",
     "text": [
      "Авторы с самой высокой средней оценкой книг:\n"
     ]
    },
    {
     "data": {
      "text/html": [
       "<div>\n",
       "<style scoped>\n",
       "    .dataframe tbody tr th:only-of-type {\n",
       "        vertical-align: middle;\n",
       "    }\n",
       "\n",
       "    .dataframe tbody tr th {\n",
       "        vertical-align: top;\n",
       "    }\n",
       "\n",
       "    .dataframe thead th {\n",
       "        text-align: right;\n",
       "    }\n",
       "</style>\n",
       "<table border=\"1\" class=\"dataframe\">\n",
       "  <thead>\n",
       "    <tr style=\"text-align: right;\">\n",
       "      <th></th>\n",
       "      <th>author</th>\n",
       "      <th>avg_avg_rating</th>\n",
       "    </tr>\n",
       "  </thead>\n",
       "  <tbody>\n",
       "    <tr>\n",
       "      <th>0</th>\n",
       "      <td>J.K. Rowling/Mary GrandPré</td>\n",
       "      <td>4.283844</td>\n",
       "    </tr>\n",
       "    <tr>\n",
       "      <th>1</th>\n",
       "      <td>Markus Zusak/Cao Xuân Việt Khương</td>\n",
       "      <td>4.264151</td>\n",
       "    </tr>\n",
       "    <tr>\n",
       "      <th>2</th>\n",
       "      <td>J.R.R. Tolkien</td>\n",
       "      <td>4.258446</td>\n",
       "    </tr>\n",
       "    <tr>\n",
       "      <th>3</th>\n",
       "      <td>Louisa May Alcott</td>\n",
       "      <td>4.192308</td>\n",
       "    </tr>\n",
       "    <tr>\n",
       "      <th>4</th>\n",
       "      <td>Rick Riordan</td>\n",
       "      <td>4.080645</td>\n",
       "    </tr>\n",
       "  </tbody>\n",
       "</table>\n",
       "</div>"
      ],
      "text/plain": [
       "                              author  avg_avg_rating\n",
       "0         J.K. Rowling/Mary GrandPré        4.283844\n",
       "1  Markus Zusak/Cao Xuân Việt Khương        4.264151\n",
       "2                     J.R.R. Tolkien        4.258446\n",
       "3                  Louisa May Alcott        4.192308\n",
       "4                       Rick Riordan        4.080645"
      ]
     },
     "execution_count": 12,
     "metadata": {},
     "output_type": "execute_result"
    }
   ],
   "source": [
    "query4 = ''' \n",
    "SELECT \n",
    "    aut_avg.author,\n",
    "    AVG(aut_avg.avg_rating) AS avg_avg_rating\n",
    "FROM\n",
    "        (SELECT \n",
    "            authors.author AS author\n",
    "           , AVG(ratings.rating) AS avg_rating\n",
    "        FROM books\n",
    "            LEFT JOIN authors ON books.author_id = authors.author_id\n",
    "            LEFT JOIN ratings ON books.book_id = ratings.book_id\n",
    "        GROUP BY \n",
    "             books.book_id\n",
    "             , authors.author_id\n",
    "        HAVING\n",
    "            COUNT(ratings.rating_id) >=50 \n",
    "        ) AS aut_avg \n",
    "GROUP BY    \n",
    "    aut_avg.author\n",
    "ORDER BY\n",
    "    avg_avg_rating DESC\n",
    "LIMIT 5\n",
    "    \n",
    "; ''' \n",
    "\n",
    "request4 = pd.io.sql.read_sql(query4, con = engine)\n",
    "print('Авторы с самой высокой средней оценкой книг:')\n",
    "request4"
   ]
  },
  {
   "cell_type": "markdown",
   "id": "d8458749",
   "metadata": {},
   "source": [
    "### Вывод:   \n",
    "**Самую высокую среднюю оценку получает - J.K. Rowling/Mary GrandPré - 4.283844 (Гарри Поттер ФОРЕВЕР)**"
   ]
  },
  {
   "cell_type": "markdown",
   "id": "f4a1588c",
   "metadata": {},
   "source": [
    "## Задание №5   \n",
    "\n",
    "Посчитаим cреднее количество текстовых отзывов среди пользователей, оценивших более 50 книг  \n",
    "\n",
    "Из предоставленных данных непонятно являются ли пользователи из таблиц ratings и reviews одними и теми же, провериим"
   ]
  },
  {
   "cell_type": "code",
   "execution_count": 13,
   "id": "d944e332",
   "metadata": {},
   "outputs": [
    {
     "name": "stdout",
     "output_type": "stream",
     "text": [
      "Кол-во пользователей в \"reviews\" = 160\n",
      "Кол-во пользователей в \"ratings\" = 160\n"
     ]
    }
   ],
   "source": [
    "print('Кол-во пользователей в \"reviews\" =', reviews['username'].nunique())\n",
    "print('Кол-во пользователей в \"ratings\" =', ratings['username'].nunique())"
   ]
  },
  {
   "cell_type": "markdown",
   "id": "0c542239",
   "metadata": {},
   "source": [
    "По кол-ву совпадает, но проверим еще по множествам"
   ]
  },
  {
   "cell_type": "code",
   "execution_count": 14,
   "id": "0d2a7283",
   "metadata": {},
   "outputs": [
    {
     "data": {
      "text/plain": [
       "True"
      ]
     },
     "execution_count": 14,
     "metadata": {},
     "output_type": "execute_result"
    }
   ],
   "source": [
    "set(reviews['username'].unique().tolist()) == set(ratings['username'].unique().tolist())"
   ]
  },
  {
   "cell_type": "markdown",
   "id": "8643cbb6",
   "metadata": {},
   "source": [
    "Множества идентичны - это одни и теже пользователи  \n",
    "Составляем запрос"
   ]
  },
  {
   "cell_type": "code",
   "execution_count": 15,
   "id": "84414256",
   "metadata": {},
   "outputs": [
    {
     "data": {
      "text/html": [
       "<div>\n",
       "<style scoped>\n",
       "    .dataframe tbody tr th:only-of-type {\n",
       "        vertical-align: middle;\n",
       "    }\n",
       "\n",
       "    .dataframe tbody tr th {\n",
       "        vertical-align: top;\n",
       "    }\n",
       "\n",
       "    .dataframe thead th {\n",
       "        text-align: right;\n",
       "    }\n",
       "</style>\n",
       "<table border=\"1\" class=\"dataframe\">\n",
       "  <thead>\n",
       "    <tr style=\"text-align: right;\">\n",
       "      <th></th>\n",
       "      <th>avg</th>\n",
       "    </tr>\n",
       "  </thead>\n",
       "  <tbody>\n",
       "    <tr>\n",
       "      <th>0</th>\n",
       "      <td>24.333333</td>\n",
       "    </tr>\n",
       "  </tbody>\n",
       "</table>\n",
       "</div>"
      ],
      "text/plain": [
       "         avg\n",
       "0  24.333333"
      ]
     },
     "execution_count": 15,
     "metadata": {},
     "output_type": "execute_result"
    }
   ],
   "source": [
    "query5 = ''' \n",
    "\n",
    "SELECT\n",
    "    AVG(Sub.n_reviews)\n",
    "FROM\n",
    "    (SELECT\n",
    "        username,\n",
    "        COUNT(review_id) AS n_reviews\n",
    "    FROM\n",
    "        reviews\n",
    "    WHERE \n",
    "        username IN (\n",
    "                SELECT \n",
    "                    username\n",
    "                FROM \n",
    "                    ratings\n",
    "                GROUP BY \n",
    "                    username\n",
    "                HAVING \n",
    "                    COUNT(rating_id) > 50\n",
    "                    )\n",
    "    GROUP BY \n",
    "        username\n",
    "    ) AS Sub\n",
    "; ''' \n",
    "\n",
    "request5 = pd.io.sql.read_sql(query5, con = engine)\n",
    "request5"
   ]
  },
  {
   "cell_type": "code",
   "execution_count": 16,
   "id": "8dc44c81",
   "metadata": {},
   "outputs": [
    {
     "data": {
      "text/html": [
       "<div>\n",
       "<style scoped>\n",
       "    .dataframe tbody tr th:only-of-type {\n",
       "        vertical-align: middle;\n",
       "    }\n",
       "\n",
       "    .dataframe tbody tr th {\n",
       "        vertical-align: top;\n",
       "    }\n",
       "\n",
       "    .dataframe thead th {\n",
       "        text-align: right;\n",
       "    }\n",
       "</style>\n",
       "<table border=\"1\" class=\"dataframe\">\n",
       "  <thead>\n",
       "    <tr style=\"text-align: right;\">\n",
       "      <th></th>\n",
       "      <th>username</th>\n",
       "      <th>rating_id</th>\n",
       "    </tr>\n",
       "  </thead>\n",
       "  <tbody>\n",
       "    <tr>\n",
       "      <th>57</th>\n",
       "      <td>jennifermiller</td>\n",
       "      <td>53</td>\n",
       "    </tr>\n",
       "    <tr>\n",
       "      <th>83</th>\n",
       "      <td>martinadam</td>\n",
       "      <td>56</td>\n",
       "    </tr>\n",
       "    <tr>\n",
       "      <th>104</th>\n",
       "      <td>paul88</td>\n",
       "      <td>56</td>\n",
       "    </tr>\n",
       "    <tr>\n",
       "      <th>110</th>\n",
       "      <td>richard89</td>\n",
       "      <td>55</td>\n",
       "    </tr>\n",
       "    <tr>\n",
       "      <th>123</th>\n",
       "      <td>sfitzgerald</td>\n",
       "      <td>55</td>\n",
       "    </tr>\n",
       "    <tr>\n",
       "      <th>153</th>\n",
       "      <td>xdavis</td>\n",
       "      <td>51</td>\n",
       "    </tr>\n",
       "  </tbody>\n",
       "</table>\n",
       "</div>"
      ],
      "text/plain": [
       "           username  rating_id\n",
       "57   jennifermiller         53\n",
       "83       martinadam         56\n",
       "104          paul88         56\n",
       "110       richard89         55\n",
       "123     sfitzgerald         55\n",
       "153          xdavis         51"
      ]
     },
     "execution_count": 16,
     "metadata": {},
     "output_type": "execute_result"
    }
   ],
   "source": [
    "# check\n",
    "users = ratings.groupby('username')['rating_id'].count().reset_index()\n",
    "users = users.query('rating_id > 50')\n",
    "users"
   ]
  },
  {
   "cell_type": "code",
   "execution_count": 17,
   "id": "1abe64e2",
   "metadata": {},
   "outputs": [
    {
     "name": "stdout",
     "output_type": "stream",
     "text": [
      "Среднее количество текстовых отзывов среди пользователей, оценивших более 50 книг, составляет: 24.333333333333332\n"
     ]
    }
   ],
   "source": [
    "users_lst = users[\"username\"].tolist()\n",
    "print('Среднее количество текстовых отзывов среди пользователей, оценивших более 50 книг, составляет:',\\\n",
    "      reviews.query('username in @users_lst').groupby('username')['review_id'].count().mean())"
   ]
  },
  {
   "cell_type": "markdown",
   "id": "0dd52a69",
   "metadata": {},
   "source": [
    "### Вывод:  \n",
    "**Среднее количество текстовых отзывов среди пользователей, оценивших более 50 книг, составляет: 24.33**"
   ]
  },
  {
   "cell_type": "markdown",
   "id": "7ea8ec21",
   "metadata": {},
   "source": [
    "## Вывод   \n",
    "- Количество книг, вышедших после 1 января 2000 года - **819**;  \n",
    "- Количество обзоров: от 51 до 951, средняя оценка: **3.9**;  \n",
    "- Издательство, которое выпустило наибольшее число книг толще 50 страниц — **Penguin Books**;  \n",
    "- Автор с самой высокой средней оценкой книг при условии 50 и более оценок:   \n",
    "  **J.K. Rowling/Mary GrandPré - 4.28 (Гарри Поттер ФОРЕВЕР)**  \n",
    "- Среднее количество обзоров от пользователей, которые поставили больше 50 оценок - **24.33**."
   ]
  }
 ],
 "metadata": {
  "ExecuteTimeLog": [
   {
    "duration": 7,
    "start_time": "2022-10-08T12:37:55.982Z"
   },
   {
    "duration": 514,
    "start_time": "2022-10-08T12:37:55.991Z"
   },
   {
    "duration": 8935,
    "start_time": "2022-10-08T12:37:56.506Z"
   },
   {
    "duration": 46,
    "start_time": "2022-10-08T12:38:05.443Z"
   },
   {
    "duration": 6,
    "start_time": "2022-10-08T12:38:05.492Z"
   },
   {
    "duration": 10,
    "start_time": "2022-10-08T12:38:05.500Z"
   },
   {
    "duration": 27,
    "start_time": "2022-10-08T12:38:05.511Z"
   },
   {
    "duration": 19,
    "start_time": "2022-10-08T12:38:05.540Z"
   },
   {
    "duration": 4,
    "start_time": "2022-10-08T12:38:05.561Z"
   },
   {
    "duration": 18,
    "start_time": "2022-10-08T12:38:05.566Z"
   },
   {
    "duration": 14,
    "start_time": "2022-10-08T12:38:05.586Z"
   },
   {
    "duration": 21,
    "start_time": "2022-10-08T12:38:05.601Z"
   },
   {
    "duration": 7,
    "start_time": "2022-10-08T12:38:05.624Z"
   },
   {
    "duration": 19,
    "start_time": "2022-10-08T12:38:05.633Z"
   },
   {
    "duration": 19,
    "start_time": "2022-10-08T12:38:05.653Z"
   },
   {
    "duration": 20,
    "start_time": "2022-10-08T12:38:05.674Z"
   },
   {
    "duration": 6,
    "start_time": "2022-10-08T12:38:05.695Z"
   }
  ],
  "kernelspec": {
   "display_name": "Python 3 (ipykernel)",
   "language": "python",
   "name": "python3"
  },
  "language_info": {
   "codemirror_mode": {
    "name": "ipython",
    "version": 3
   },
   "file_extension": ".py",
   "mimetype": "text/x-python",
   "name": "python",
   "nbconvert_exporter": "python",
   "pygments_lexer": "ipython3",
   "version": "3.9.7"
  },
  "toc": {
   "base_numbering": 1,
   "nav_menu": {},
   "number_sections": true,
   "sideBar": true,
   "skip_h1_title": true,
   "title_cell": "Содержание",
   "title_sidebar": "Содержание",
   "toc_cell": true,
   "toc_position": {
    "height": "calc(100% - 180px)",
    "left": "10px",
    "top": "150px",
    "width": "324.511px"
   },
   "toc_section_display": true,
   "toc_window_display": true
  }
 },
 "nbformat": 4,
 "nbformat_minor": 5
}
